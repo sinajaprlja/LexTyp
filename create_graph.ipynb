{
 "cells": [
  {
   "cell_type": "code",
   "execution_count": null,
   "metadata": {},
   "outputs": [],
   "source": [
    "import pickle\n",
    "\n",
    "import networkx as nx\n",
    "import pandas as pd\n",
    "\n",
    "from edge import Edge\n",
    "import settings"
   ]
  },
  {
   "cell_type": "code",
   "execution_count": 2,
   "metadata": {},
   "outputs": [],
   "source": [
    "def debug(msg: str = \"\") -> None:\n",
    "    \"\"\"\n",
    "    Small method for controlling number of debug messages.\n",
    "    \"\"\"\n",
    "    if settings.DEBUG:\n",
    "        print(msg)\n"
   ]
  },
  {
   "cell_type": "markdown",
   "metadata": {},
   "source": [
    "Load Dataframe"
   ]
  },
  {
   "cell_type": "code",
   "execution_count": 3,
   "metadata": {},
   "outputs": [
    {
     "data": {
      "text/html": [
       "<div>\n",
       "<style scoped>\n",
       "    .dataframe tbody tr th:only-of-type {\n",
       "        vertical-align: middle;\n",
       "    }\n",
       "\n",
       "    .dataframe tbody tr th {\n",
       "        vertical-align: top;\n",
       "    }\n",
       "\n",
       "    .dataframe thead th {\n",
       "        text-align: right;\n",
       "    }\n",
       "</style>\n",
       "<table border=\"1\" class=\"dataframe\">\n",
       "  <thead>\n",
       "    <tr style=\"text-align: right;\">\n",
       "      <th></th>\n",
       "      <th>word_and_gloss</th>\n",
       "      <th>language_and_translation</th>\n",
       "    </tr>\n",
       "  </thead>\n",
       "  <tbody>\n",
       "    <tr>\n",
       "      <th>0</th>\n",
       "      <td>free;;(social) unconstrained.;;not imprisoned or enslaved.</td>\n",
       "      <td>afrikaans;;vrye;;adj</td>\n",
       "    </tr>\n",
       "    <tr>\n",
       "      <th>1</th>\n",
       "      <td>free;;(social) unconstrained.;;not imprisoned or enslaved.</td>\n",
       "      <td>albanian;;lirë (i/e);;adj</td>\n",
       "    </tr>\n",
       "    <tr>\n",
       "      <th>2</th>\n",
       "      <td>free;;(social) unconstrained.;;not imprisoned or enslaved.</td>\n",
       "      <td>amharic;;ነፃ;;adj</td>\n",
       "    </tr>\n",
       "    <tr>\n",
       "      <th>3</th>\n",
       "      <td>free;;(social) unconstrained.;;not imprisoned or enslaved.</td>\n",
       "      <td>arabic;;حُرّ;;adj</td>\n",
       "    </tr>\n",
       "    <tr>\n",
       "      <th>4</th>\n",
       "      <td>free;;(social) unconstrained.;;not imprisoned or enslaved.</td>\n",
       "      <td>arabic;;حر;;adj</td>\n",
       "    </tr>\n",
       "    <tr>\n",
       "      <th>...</th>\n",
       "      <td>...</td>\n",
       "      <td>...</td>\n",
       "    </tr>\n",
       "    <tr>\n",
       "      <th>1188486</th>\n",
       "      <td>fawn response;;(psychology) an overadaptation in response to a traumatic event entailing needs and wants being succumbed to those of the threat actor.</td>\n",
       "      <td>finnish;;miellyttämisreaktio;;noun</td>\n",
       "    </tr>\n",
       "    <tr>\n",
       "      <th>1188487</th>\n",
       "      <td>fawn response;;(psychology) an overadaptation in response to a traumatic event entailing needs and wants being succumbed to those of the threat actor.</td>\n",
       "      <td>german;;bambi-reflex;;noun</td>\n",
       "    </tr>\n",
       "    <tr>\n",
       "      <th>1188488</th>\n",
       "      <td>fawn response;;(psychology) an overadaptation in response to a traumatic event entailing needs and wants being succumbed to those of the threat actor.</td>\n",
       "      <td>german;;unterwerfungsreaktion;;noun</td>\n",
       "    </tr>\n",
       "    <tr>\n",
       "      <th>1188489</th>\n",
       "      <td>one heart, one soul;;(philippines, catholicism) a saying that is said in every prayer, before the sign of the cross.</td>\n",
       "      <td>latin;;cor ūnum et anima ūna;;phrase</td>\n",
       "    </tr>\n",
       "    <tr>\n",
       "      <th>1188490</th>\n",
       "      <td>one heart, one soul;;(philippines, catholicism) a saying that is said in every prayer, before the sign of the cross.</td>\n",
       "      <td>tagalog;;isang puso, isang diwa;;phrase</td>\n",
       "    </tr>\n",
       "  </tbody>\n",
       "</table>\n",
       "<p>1188491 rows × 2 columns</p>\n",
       "</div>"
      ],
      "text/plain": [
       "                                                                                                                                                 word_and_gloss  \\\n",
       "0                                                                                                    free;;(social) unconstrained.;;not imprisoned or enslaved.   \n",
       "1                                                                                                    free;;(social) unconstrained.;;not imprisoned or enslaved.   \n",
       "2                                                                                                    free;;(social) unconstrained.;;not imprisoned or enslaved.   \n",
       "3                                                                                                    free;;(social) unconstrained.;;not imprisoned or enslaved.   \n",
       "4                                                                                                    free;;(social) unconstrained.;;not imprisoned or enslaved.   \n",
       "...                                                                                                                                                         ...   \n",
       "1188486  fawn response;;(psychology) an overadaptation in response to a traumatic event entailing needs and wants being succumbed to those of the threat actor.   \n",
       "1188487  fawn response;;(psychology) an overadaptation in response to a traumatic event entailing needs and wants being succumbed to those of the threat actor.   \n",
       "1188488  fawn response;;(psychology) an overadaptation in response to a traumatic event entailing needs and wants being succumbed to those of the threat actor.   \n",
       "1188489                                    one heart, one soul;;(philippines, catholicism) a saying that is said in every prayer, before the sign of the cross.   \n",
       "1188490                                    one heart, one soul;;(philippines, catholicism) a saying that is said in every prayer, before the sign of the cross.   \n",
       "\n",
       "                        language_and_translation  \n",
       "0                           afrikaans;;vrye;;adj  \n",
       "1                      albanian;;lirë (i/e);;adj  \n",
       "2                               amharic;;ነፃ;;adj  \n",
       "3                              arabic;;حُرّ;;adj  \n",
       "4                                arabic;;حر;;adj  \n",
       "...                                          ...  \n",
       "1188486       finnish;;miellyttämisreaktio;;noun  \n",
       "1188487               german;;bambi-reflex;;noun  \n",
       "1188488      german;;unterwerfungsreaktion;;noun  \n",
       "1188489     latin;;cor ūnum et anima ūna;;phrase  \n",
       "1188490  tagalog;;isang puso, isang diwa;;phrase  \n",
       "\n",
       "[1188491 rows x 2 columns]"
      ]
     },
     "execution_count": 3,
     "metadata": {},
     "output_type": "execute_result"
    }
   ],
   "source": [
    "pd.set_option(\"display.max_rows\", 20)\n",
    "pd.set_option('display.max_colwidth', None)\n",
    "\n",
    "df = pd.read_parquet(\"resources/load_and_preprocess/cleaned_dataframe.parquet\", engine=\"pyarrow\")\n",
    "df"
   ]
  },
  {
   "cell_type": "markdown",
   "metadata": {},
   "source": [
    "Languages with at least `MIN_LANGUAGE_COUNT` (default=40) translations are being kept as well as translations that \n",
    "appear more than once across different languages.\n",
    "Translations that do not occur for different languages would not result in an edge later on."
   ]
  },
  {
   "cell_type": "code",
   "execution_count": 4,
   "metadata": {},
   "outputs": [
    {
     "data": {
      "text/html": [
       "<div>\n",
       "<style scoped>\n",
       "    .dataframe tbody tr th:only-of-type {\n",
       "        vertical-align: middle;\n",
       "    }\n",
       "\n",
       "    .dataframe tbody tr th {\n",
       "        vertical-align: top;\n",
       "    }\n",
       "\n",
       "    .dataframe thead th {\n",
       "        text-align: right;\n",
       "    }\n",
       "</style>\n",
       "<table border=\"1\" class=\"dataframe\">\n",
       "  <thead>\n",
       "    <tr style=\"text-align: right;\">\n",
       "      <th></th>\n",
       "      <th>word_and_gloss</th>\n",
       "      <th>language_and_translation</th>\n",
       "    </tr>\n",
       "  </thead>\n",
       "  <tbody>\n",
       "    <tr>\n",
       "      <th>0</th>\n",
       "      <td>free;;(social) unconstrained.;;not imprisoned or enslaved.</td>\n",
       "      <td>afrikaans;;vrye;;adj</td>\n",
       "    </tr>\n",
       "    <tr>\n",
       "      <th>1</th>\n",
       "      <td>free;;(social) unconstrained.;;not imprisoned or enslaved.</td>\n",
       "      <td>albanian;;lirë (i/e);;adj</td>\n",
       "    </tr>\n",
       "    <tr>\n",
       "      <th>2</th>\n",
       "      <td>free;;(social) unconstrained.;;not imprisoned or enslaved.</td>\n",
       "      <td>amharic;;ነፃ;;adj</td>\n",
       "    </tr>\n",
       "    <tr>\n",
       "      <th>3</th>\n",
       "      <td>free;;(social) unconstrained.;;not imprisoned or enslaved.</td>\n",
       "      <td>arabic;;حُرّ;;adj</td>\n",
       "    </tr>\n",
       "    <tr>\n",
       "      <th>4</th>\n",
       "      <td>free;;(social) unconstrained.;;not imprisoned or enslaved.</td>\n",
       "      <td>arabic;;حر;;adj</td>\n",
       "    </tr>\n",
       "    <tr>\n",
       "      <th>...</th>\n",
       "      <td>...</td>\n",
       "      <td>...</td>\n",
       "    </tr>\n",
       "    <tr>\n",
       "      <th>550348</th>\n",
       "      <td>call the fire department;;(us) call the emergency service that specializes in extinguishing fires.</td>\n",
       "      <td>tagalog;;tawag ka ng bumbero;;phrase</td>\n",
       "    </tr>\n",
       "    <tr>\n",
       "      <th>550349</th>\n",
       "      <td>call the fire department;;(us) call the emergency service that specializes in extinguishing fires.</td>\n",
       "      <td>turkish;;itfaiyeyi çağırin;;phrase</td>\n",
       "    </tr>\n",
       "    <tr>\n",
       "      <th>550350</th>\n",
       "      <td>call the fire department;;(us) call the emergency service that specializes in extinguishing fires.</td>\n",
       "      <td>turkish;;itfaiyeyi çağır;;phrase</td>\n",
       "    </tr>\n",
       "    <tr>\n",
       "      <th>550351</th>\n",
       "      <td>call the fire department;;(us) call the emergency service that specializes in extinguishing fires.</td>\n",
       "      <td>ukrainian;;ви́кличте поже́жників;;phrase</td>\n",
       "    </tr>\n",
       "    <tr>\n",
       "      <th>550352</th>\n",
       "      <td>call the fire department;;(us) call the emergency service that specializes in extinguishing fires.</td>\n",
       "      <td>welsh;;galwch yr brigâd dân;;phrase</td>\n",
       "    </tr>\n",
       "  </tbody>\n",
       "</table>\n",
       "<p>550353 rows × 2 columns</p>\n",
       "</div>"
      ],
      "text/plain": [
       "                                                                                            word_and_gloss  \\\n",
       "0                                               free;;(social) unconstrained.;;not imprisoned or enslaved.   \n",
       "1                                               free;;(social) unconstrained.;;not imprisoned or enslaved.   \n",
       "2                                               free;;(social) unconstrained.;;not imprisoned or enslaved.   \n",
       "3                                               free;;(social) unconstrained.;;not imprisoned or enslaved.   \n",
       "4                                               free;;(social) unconstrained.;;not imprisoned or enslaved.   \n",
       "...                                                                                                    ...   \n",
       "550348  call the fire department;;(us) call the emergency service that specializes in extinguishing fires.   \n",
       "550349  call the fire department;;(us) call the emergency service that specializes in extinguishing fires.   \n",
       "550350  call the fire department;;(us) call the emergency service that specializes in extinguishing fires.   \n",
       "550351  call the fire department;;(us) call the emergency service that specializes in extinguishing fires.   \n",
       "550352  call the fire department;;(us) call the emergency service that specializes in extinguishing fires.   \n",
       "\n",
       "                        language_and_translation  \n",
       "0                           afrikaans;;vrye;;adj  \n",
       "1                      albanian;;lirë (i/e);;adj  \n",
       "2                               amharic;;ነፃ;;adj  \n",
       "3                              arabic;;حُرّ;;adj  \n",
       "4                                arabic;;حر;;adj  \n",
       "...                                          ...  \n",
       "550348      tagalog;;tawag ka ng bumbero;;phrase  \n",
       "550349        turkish;;itfaiyeyi çağırin;;phrase  \n",
       "550350          turkish;;itfaiyeyi çağır;;phrase  \n",
       "550351  ukrainian;;ви́кличте поже́жників;;phrase  \n",
       "550352       welsh;;galwch yr brigâd dân;;phrase  \n",
       "\n",
       "[550353 rows x 2 columns]"
      ]
     },
     "execution_count": 4,
     "metadata": {},
     "output_type": "execute_result"
    }
   ],
   "source": [
    "# Count translations per language\n",
    "language_counts = df['word_and_gloss'].value_counts()\n",
    "\n",
    "# filter languages with at least 40 translations\n",
    "languages_to_keep = language_counts[language_counts >= settings.MIN_LANGUAGE_COUNT].index\n",
    "\n",
    "# keep rows with filteres languages\n",
    "df_filtered = df[df['word_and_gloss'].isin(languages_to_keep)]\n",
    "\n",
    "df_filtered.reset_index(drop = True, inplace=True)\n",
    "df_filtered"
   ]
  },
  {
   "cell_type": "code",
   "execution_count": 5,
   "metadata": {},
   "outputs": [
    {
     "data": {
      "text/html": [
       "<div>\n",
       "<style scoped>\n",
       "    .dataframe tbody tr th:only-of-type {\n",
       "        vertical-align: middle;\n",
       "    }\n",
       "\n",
       "    .dataframe tbody tr th {\n",
       "        vertical-align: top;\n",
       "    }\n",
       "\n",
       "    .dataframe thead th {\n",
       "        text-align: right;\n",
       "    }\n",
       "</style>\n",
       "<table border=\"1\" class=\"dataframe\">\n",
       "  <thead>\n",
       "    <tr style=\"text-align: right;\">\n",
       "      <th></th>\n",
       "      <th>word_and_gloss</th>\n",
       "      <th>language_and_translation</th>\n",
       "    </tr>\n",
       "  </thead>\n",
       "  <tbody>\n",
       "    <tr>\n",
       "      <th>0</th>\n",
       "      <td>free;;(social) unconstrained.;;not imprisoned or enslaved.</td>\n",
       "      <td>arabic;;حُرّ;;adj</td>\n",
       "    </tr>\n",
       "    <tr>\n",
       "      <th>1</th>\n",
       "      <td>free;;(social) unconstrained.;;not imprisoned or enslaved.</td>\n",
       "      <td>armenian;;ազատ;;adj</td>\n",
       "    </tr>\n",
       "    <tr>\n",
       "      <th>2</th>\n",
       "      <td>free;;(social) unconstrained.;;not imprisoned or enslaved.</td>\n",
       "      <td>assamese;;মুকলি;;adj</td>\n",
       "    </tr>\n",
       "    <tr>\n",
       "      <th>3</th>\n",
       "      <td>free;;(social) unconstrained.;;not imprisoned or enslaved.</td>\n",
       "      <td>asturian;;llibre;;adj</td>\n",
       "    </tr>\n",
       "    <tr>\n",
       "      <th>4</th>\n",
       "      <td>free;;(social) unconstrained.;;not imprisoned or enslaved.</td>\n",
       "      <td>azerbaijani;;azad;;adj</td>\n",
       "    </tr>\n",
       "    <tr>\n",
       "      <th>...</th>\n",
       "      <td>...</td>\n",
       "      <td>...</td>\n",
       "    </tr>\n",
       "    <tr>\n",
       "      <th>119553</th>\n",
       "      <td>shaitan;;(islam) iblis, satan.</td>\n",
       "      <td>turkish;;şeytan;;name</td>\n",
       "    </tr>\n",
       "    <tr>\n",
       "      <th>119554</th>\n",
       "      <td>shaitan;;(islam) iblis, satan.</td>\n",
       "      <td>turkmen;;şeýtan;;name</td>\n",
       "    </tr>\n",
       "    <tr>\n",
       "      <th>119555</th>\n",
       "      <td>shaitan;;(islam) iblis, satan.</td>\n",
       "      <td>urdu;;شَیطان;;name</td>\n",
       "    </tr>\n",
       "    <tr>\n",
       "      <th>119556</th>\n",
       "      <td>shaitan;;(islam) iblis, satan.</td>\n",
       "      <td>uyghur;;شەيتان;;name</td>\n",
       "    </tr>\n",
       "    <tr>\n",
       "      <th>119557</th>\n",
       "      <td>shaitan;;(islam) iblis, satan.</td>\n",
       "      <td>uzbek;;shayton;;name</td>\n",
       "    </tr>\n",
       "  </tbody>\n",
       "</table>\n",
       "<p>119558 rows × 2 columns</p>\n",
       "</div>"
      ],
      "text/plain": [
       "                                                    word_and_gloss  \\\n",
       "0       free;;(social) unconstrained.;;not imprisoned or enslaved.   \n",
       "1       free;;(social) unconstrained.;;not imprisoned or enslaved.   \n",
       "2       free;;(social) unconstrained.;;not imprisoned or enslaved.   \n",
       "3       free;;(social) unconstrained.;;not imprisoned or enslaved.   \n",
       "4       free;;(social) unconstrained.;;not imprisoned or enslaved.   \n",
       "...                                                            ...   \n",
       "119553                              shaitan;;(islam) iblis, satan.   \n",
       "119554                              shaitan;;(islam) iblis, satan.   \n",
       "119555                              shaitan;;(islam) iblis, satan.   \n",
       "119556                              shaitan;;(islam) iblis, satan.   \n",
       "119557                              shaitan;;(islam) iblis, satan.   \n",
       "\n",
       "       language_and_translation  \n",
       "0             arabic;;حُرّ;;adj  \n",
       "1           armenian;;ազատ;;adj  \n",
       "2          assamese;;মুকলি;;adj  \n",
       "3         asturian;;llibre;;adj  \n",
       "4        azerbaijani;;azad;;adj  \n",
       "...                         ...  \n",
       "119553    turkish;;şeytan;;name  \n",
       "119554    turkmen;;şeýtan;;name  \n",
       "119555       urdu;;شَیطان;;name  \n",
       "119556     uyghur;;شەيتان;;name  \n",
       "119557     uzbek;;shayton;;name  \n",
       "\n",
       "[119558 rows x 2 columns]"
      ]
     },
     "execution_count": 5,
     "metadata": {},
     "output_type": "execute_result"
    }
   ],
   "source": [
    "translation_counts = df_filtered[\"language_and_translation\"].value_counts()\n",
    "\n",
    "# filter translations that appear more than once\n",
    "translations_to_keep = translation_counts[translation_counts > 1].index\n",
    "\n",
    "df_filtered = df_filtered[df_filtered['language_and_translation'].isin(translations_to_keep)]\n",
    "\n",
    "df_filtered.reset_index(drop = True, inplace=True)\n",
    "df_filtered"
   ]
  },
  {
   "cell_type": "code",
   "execution_count": 6,
   "metadata": {},
   "outputs": [
    {
     "data": {
      "text/plain": [
       "array(['arabic;;حُرّ;;adj', 'armenian;;ազատ;;adj', 'assamese;;মুকলি;;adj',\n",
       "       ..., 'spanish;;aguar;;verb', 'swedish;;vattna;;verb',\n",
       "       'portuguese;;dígito;;noun'], dtype=object)"
      ]
     },
     "execution_count": 6,
     "metadata": {},
     "output_type": "execute_result"
    }
   ],
   "source": [
    "unique_lang_and_trans = df_filtered[\"language_and_translation\"].unique()\n",
    "unique_lang_and_trans"
   ]
  },
  {
   "cell_type": "code",
   "execution_count": 7,
   "metadata": {},
   "outputs": [
    {
     "data": {
      "text/plain": [
       "51999"
      ]
     },
     "execution_count": 7,
     "metadata": {},
     "output_type": "execute_result"
    }
   ],
   "source": [
    "df_filtered[\"language_and_translation\"].nunique()"
   ]
  },
  {
   "cell_type": "markdown",
   "metadata": {},
   "source": [
    "Each concept is mapped to their corresponding language, translation and POS-Tag."
   ]
  },
  {
   "cell_type": "code",
   "execution_count": 8,
   "metadata": {},
   "outputs": [
    {
     "name": "stdout",
     "output_type": "stream",
     "text": [
      "59 | free;;(social) unconstrained.;;not imprisoned or enslaved. | {'bambara;;hɔrɔn;;adj', 'chinese mandarin;;自由的;;adj', 'galician;;libre;;adj', 'greek;;ελεύθερος;;adj', 'norman;;libre;;adj', 'icelandic;;frjáls;;adj', 'yiddish;;פֿרײַ;;adj', 'macedonian;;слободен;;adj', 'japanese;;自由;;adj', 'catalan;;lliure;;adj', 'asturian;;llibre;;adj', 'armenian;;ազատ;;adj', 'norwegian;;fri;;adj', 'serbo-croatian;;slobodan;;adj', 'malayalam;;സ്വതന്ത്രം;;adj', 'danish;;fri;;adj', 'portuguese;;livre;;adj', 'assamese;;মুকলি;;adj', 'indonesian;;bebas;;adj', 'arabic;;حُرّ;;adj', 'italian;;libero;;adj', 'czech;;volný;;adj', 'ido;;libera;;adj', 'low german;;free;;adj', 'persian;;آزاد;;adj', 'czech;;svobodný;;adj', 'french;;libre;;adj', 'russian;;свобо́дный;;adj', 'zazaki;;azad (diq);;adj', 'occitan;;liure;;adj', 'dutch;;vrij;;adj', 'estonian;;vaba;;adj', 'hungarian;;szabad;;adj', 'spanish;;libre;;adj', 'hebrew;;חופשי;;adj', 'limburgish;;vrie;;adj', 'hebrew;;חָפְשִׁי;;adj', 'romanian;;liber;;adj', 'zazaki;;xoser;;adj', 'finnish;;vapaa;;adj', 'bashkir;;ирекле;;adj', 'old english;;frēo;;adj', 'scottish gaelic;;saor;;adj', 'latvian;;brīvs;;adj', 'malay;;bebas;;adj', 'old irish;;sóer;;adj', 'turkish;;özgür;;adj', 'swedish;;fri;;adj', 'korean;;자유;;adj', 'slovak;;slobodný;;adj', 'polish;;swobodny;;adj', 'irish;;saor;;adj', 'interlingua;;libere;;adj', 'northern kurdish;;azad;;adj', 'german;;frei;;adj', 'azerbaijani;;azad;;adj', 'northern kurdish;;serbest;;adj', 'polish;;wolny;;adj', 'esperanto;;libera;;adj'}\n",
      "117 | trade;;(uncountable) buying and selling of goods and services on a market. | {'german;;kommerz;;noun', 'northern kurdish;;sewda;;noun', 'lao;;ການຄ້າ;;noun', 'korean;;상업;;noun', 'azerbaijani;;alver;;noun', 'belarusian;;каме́рцыя;;noun', 'macedonian;;комерција;;noun', 'hungarian;;kereskedelem;;noun', 'hindi;;व्यवसाय;;noun', 'hebrew;;מִסְחָר;;noun', 'serbo-croatian;;trgòvina;;noun', 'icelandic;;verslun;;noun', 'middle english;;chaffare;;noun', 'khmer;;ពាណិជ្ជ;;noun', 'galician;;trato;;noun', 'arabic;;تِجَارَة;;noun', 'spanish;;comercio;;noun', 'afrikaans;;handel;;noun', 'lao;;ທຸລະກິດ;;noun', 'norwegian bokmål;;handel;;noun', 'ukrainian;;коме́рція;;noun', 'bulgarian;;търго́вия;;noun', 'khmer;;វណិជ្ជា;;noun', 'uzbek;;kommersiya;;noun', 'malayalam;;വ്യാപാരം;;noun', 'burmese;;ဝါဏိဇ္ဇ;;noun', 'greek;;εμπόριο;;noun', 'kyrgyz;;коммерция;;noun', 'maltese;;kummerċ;;noun', 'turkish;;ticaret;;noun', 'esperanto;;komerco;;noun', 'tajik;;тиҷорат;;noun', 'french;;commerce;;noun', 'swedish;;handel;;noun', 'lithuanian;;prekyba;;noun', 'pashto;;تجارت;;noun', 'irish;;tráchtáil;;noun', 'turkmen;;söwda;;noun', 'sanskrit;;वाणिज्य;;noun', 'tagalog;;baliwasan;;noun', 'ingrian;;kauppa;;noun', 'russian;;торго́вля;;noun', 'japanese;;商業;;noun', 'malay;;perdagangan;;noun', 'slovak;;obchod;;noun', 'norwegian nynorsk;;handel;;noun', 'afrikaans;;ruil;;noun', 'georgian;;ვაჭრობა;;noun', 'korean;;교역;;noun', 'czech;;obchod;;noun', 'lithuanian;;komercija;;noun', 'catalan;;comerç;;noun', 'japanese;;貿易;;noun', 'uzbek;;tijorat;;noun', 'uyghur;;سودا;;noun', 'romanian;;comerț;;noun', 'kyrgyz;;соода;;noun', 'polish;;handel;;noun', 'belarusian;;га́ндаль;;noun', 'hebrew;;סַחַר;;noun', 'portuguese;;comércio;;noun', 'dutch;;commercie;;noun', 'bashkir;;сауҙа;;noun', 'tatar;;сәүдә;;noun', 'danish;;handel;;noun', 'estonian;;kaubandus;;noun', 'latin;;commercium;;noun', 'bengali;;তেজারত;;noun', 'turkish;;alım satım;;noun', 'macedonian;;трговија;;noun', 'bengali;;বাণিজ্য;;noun', 'german;;handel;;noun', 'pali;;vaṇijjā;;noun', 'serbo-croatian;;трго̀вина;;noun', 'ukrainian;;торгі́вля;;noun', 'albanian;;tregti;;noun', 'thai;;การค้า;;noun', 'galician;;comercio;;noun', 'latvian;;tirdzniecība;;noun', 'uyghur;;تىجارەت;;noun', 'mongolian;;худалдаа;;noun', 'finnish;;kaupankäynti;;noun', 'italian;;commercio;;noun', 'kazakh;;сауда;;noun', 'hindi;;वाणिज्य;;noun', 'japanese;;交易;;noun', 'indonesian;;perdagangan;;noun', 'slovene;;trgovina;;noun', 'tagalog;;kalakalan;;noun', 'uzbek;;savdo;;noun', 'swahili;;biashara;;noun', 'ottoman turkish;;تجارت;;noun', 'korean;;무역;;noun', 'burmese;;အရောင်းအဝယ်;;noun', 'vietnamese;;thương nghiệp;;noun', 'belarusian;;тарго́ўля;;noun', 'ancient greek;;ἐμπορία;;noun', 'dutch;;handel;;noun', 'vietnamese;;sự buôn bán;;noun', 'chinese mandarin;;貿易 /贸易;;noun', 'thai;;พาณิชย์;;noun', 'thai;;ธุรกิจ;;noun', 'amharic;;ንግድ;;noun', 'burmese;;ကုန်သွယ်ရေး;;noun', 'azerbaijani;;ticarət;;noun', 'finnish;;kauppa;;noun', 'yiddish;;האַנדל;;noun', 'chinese mandarin;;交易;;noun', 'hindi;;व्यापार;;noun', 'korean;;거래;;noun', 'tajik;;савдо;;noun', 'latvian;;komercija;;noun', 'russian;;комме́рция;;noun', 'tocharian b;;karyor;;noun', 'khmer;;ពាណិជ្ជកម្ម;;noun', 'kazakh;;коммерция;;noun', 'vietnamese;;thương mại;;noun'}\n",
      "124 | cunt;;(vulgar, countable) the female genitalia, especially the vulva. | {'armenian;;պուց;;noun', 'french;;con;;noun', 'macedonian;;пичка;;noun', 'albanian;;piçkë;;noun', 'northern sami;;cinˈná;;noun', 'spanish;;coño;;noun', 'spanish;;chocho;;noun', 'bulgarian;;пу́тка;;noun', 'czech;;kunda;;noun', 'faroese;;kusa;;noun', 'serbo-croatian;;пичка;;noun', 'slovene;;pička;;noun', 'afrikaans;;doos;;noun', 'estonian;;puts;;noun', 'georgian;;მუტელი;;noun', 'faroese;;kunta;;noun', 'greenlandic;;utsuk;;noun', 'spanish;;concha;;noun', 'norwegian nynorsk;;mus;;noun', 'macedonian;;минџа;;noun', 'malay;;puki;;noun', 'lithuanian;;putė;;noun', 'russian;;манда́;;noun', 'uzbek;;am;;noun', 'serbo-croatian;;pizda;;noun', 'arabic;;كُس;;noun', 'finnish;;vittu;;noun', 'dutch;;kut;;noun', 'khmer;;កណ្ដួយ;;noun', 'scottish gaelic;;pit;;noun', 'romanian;;pizdă;;noun', 'german;;muschi;;noun', 'danish;;fisse;;noun', 'japanese;;まんこ;;noun', 'chinese;;膣屄;;noun', 'serbo-croatian;;pička;;noun', 'russian;;пизда́;;noun', 'norwegian nynorsk;;fitte;;noun', 'slovak;;kunda;;noun', 'slovak;;pizda;;noun', 'galician;;crica;;noun', 'indonesian;;meki;;noun', 'hindi;;योनी;;noun', 'thai;;จิ๋ม;;noun', 'chinese mandarin;;屄;;noun', 'polish;;pizda;;noun', 'afrikaans;;poes;;noun', 'serbo-croatian;;минџа;;noun', 'serbo-croatian;;pica;;noun', 'turkmen;;am;;noun', 'russian;;пи́ська;;noun', 'korean;;보지;;noun', 'italian;;fica;;noun', 'catalan;;cony;;noun', 'azerbaijani;;amcıq;;noun', 'maltese;;għoxx;;noun', 'czech;;pizda;;noun', 'portuguese;;cona;;noun', 'javanese;;tempik;;noun', 'lao;;ຫີ;;noun', 'kazakh;;ам;;noun', 'irish;;pit;;noun', 'latvian;;peža;;noun', 'esperanto;;piĉo;;noun', 'ukrainian;;пизда́;;noun', 'faroese;;pill;;noun', 'serbo-croatian;;пица;;noun', 'hungarian;;pina;;noun', 'volapük;;kunud;;noun', 'galician;;cona;;noun', 'persian;;کس;;noun', 'slovene;;pizda;;noun', 'neapolitan;;pucchiacca;;noun', 'thai;;หอย;;noun', 'spanish;;chucha;;noun', 'serbo-croatian;;пизда;;noun', 'vietnamese;;lồn;;noun', 'albanian;;pidh;;noun', 'icelandic;;píka;;noun', 'swedish;;fitta;;noun', 'estonian;;vitt;;noun', 'thai;;หี;;noun', 'bikol central;;buray;;noun', 'polish;;cipa;;noun', 'greek;;μουνί;;noun', 'danish;;kusse;;noun', 'polish;;cipsko;;noun', 'welsh;;cont;;noun', 'ukrainian;;пі́ська;;noun', 'czech;;píča;;noun', 'latin;;cunnus;;noun', 'italian;;figa;;noun', 'macedonian;;слива;;noun', 'lithuanian;;pyzda;;noun', 'portuguese;;boceta;;noun', 'indonesian;;memek;;noun', 'spanish;;cuca;;noun', 'urdu;;چوت;;noun', 'italian;;fregna;;noun', 'faroese;;lall;;noun', 'belarusian;;пізда́;;noun', 'norwegian bokmål;;mus;;noun', 'yiddish;;פּירגע;;noun', 'indonesian;;tempik;;noun', 'arabic;;كِس;;noun', 'serbo-croatian;;mindža;;noun', 'turkish;;amcık;;noun', 'estonian;;tuss;;noun', 'french;;chatte;;noun', 'german;;möse;;noun', 'neapolitan;;purchiacca;;noun', 'middle english;;quoniam;;noun', 'slovak;;piča;;noun', 'azerbaijani;;am;;noun', 'kyrgyz;;ам;;noun', 'afrikaans;;kont;;noun', 'hindi;;चूत;;noun', 'norwegian bokmål;;fitte;;noun', 'turkish;;am;;noun', 'javanese;;turuk;;noun', 'korean;;씹;;noun', 'javanese;;bawuk;;noun', 'japanese;;おまんこ;;noun', 'german;;fotze;;noun'}\n",
      "125 | world;;(with \"the\") the earth, especially in a geopolitical or cultural context, or as the physical planet. | {'punjabi;;دُنِیا;;noun', 'dutch;;aarde;;noun', 'uzbek;;dunyo;;noun', 'catalan;;món;;noun', 'cebuano;;kalibotan;;noun', 'middle english;;world;;noun', 'welsh;;byd;;noun', 'norwegian nynorsk;;klode;;noun', 'italian;;mondo;;noun', 'uyghur;;دۇنيا;;noun', 'korean;;세계;;noun', 'lithuanian;;pasaulis;;noun', 'ukrainian;;світ;;noun', 'spanish;;tierra;;noun', 'hindi;;दुनिया;;noun', 'tarifit;;ddunya;;noun', 'hakka chinese;;世界;;noun', 'tamil;;ஞாலம்;;noun', 'german;;welt;;noun', 'hindi;;आलम;;noun', 'bavarian;;wöd;;noun', 'scottish gaelic;;saoghal;;noun', 'serbo-croatian;;све̑т;;noun', 'bengali;;জাহান;;noun', 'serbo-croatian;;свије̑т;;noun', 'serbo-croatian;;svijȇt;;noun', 'serbo-croatian;;svȇt;;noun', 'uzbek;;jahon;;noun', 'turkish;;dünya;;noun', 'finnish;;maa;;noun', 'aragonese;;mundo;;noun', 'catalan;;terra;;noun', 'maori;;ao;;noun', 'old spanish;;mundo;;noun', 'urdu;;دُنْیا;;noun', 'chinese mandarin;;世界;;noun', 'chuvash;;ҫӗр;;noun', 'tamil;;உலகம்;;noun', 'esperanto;;mondo;;noun', 'turkmen;;dünýä;;noun', \"chickasaw;;yaakni';;noun\", 'ladino;;mundo;;noun', 'lower sorbian;;swět;;noun', 'ancient greek;;κόσμος;;noun', 'greek;;κόσμος;;noun', 'interlingua;;mundo;;noun', 'latvian;;pasaule;;noun', 'asturian;;tierra;;noun', 'asturian;;mundu;;noun', 'chinese;;世界;;noun', 'georgian;;მსოფლიო;;noun', 'norwegian bokmål;;klode;;noun', 'macedonian;;свет;;noun', 'west frisian;;wrâld;;noun', 'norwegian bokmål;;verd;;noun', 'urdu;;دُنِیا;;noun', 'turkish;;acun;;noun', 'scots;;warld;;noun', 'khmer;;ពិភពលោក;;noun', 'zazaki;;erd (diq);;noun', 'armenian;;աշխարհ;;noun', 'burmese;;ကမ္ဘာ;;noun', 'west frisian;;ierde;;noun', 'yiddish;;וועלט;;noun', 'portuguese;;mundo;;noun', 'latin;;mundus;;noun', 'old irish;;domun;;noun', 'walloon;;monde;;noun', 'bengali;;দুনিয়া;;noun', 'hindi;;जहान;;noun', 'bengali;;আলম;;noun', 'low german;;werld;;noun', 'romansch;;mund;;noun', 'occitan;;mond;;noun', 'friulian;;mond;;noun', 'cornish;;bys;;noun', 'dhivehi;;ދުނިޔެ;;noun', 'russian;;свет;;noun', 'northern kurdish;;dinya;;noun', 'french;;terre;;noun', 'afrikaans;;aarde;;noun', 'tamil;;பார்;;noun', 'spanish;;mundo;;noun', 'swedish;;värld;;noun', 'quechua;;paca;;noun', 'malay;;dunia;;noun', 'arabic;;عَالَم;;noun', 'hungarian;;világ;;noun', 'danish;;verden;;noun', 'central kurdish;;دنیا;;noun', 'finnish;;maailma;;noun', 'marathi;;जग;;noun', 'galician;;mundo;;noun', 'breton;;bed;;noun', 'romanian;;lume;;noun', 'chinese cantonese;;世界;;noun', 'thai;;โลก;;noun', 'russian;;мир;;noun', 'indonesian;;dunia;;noun', 'turkish;;yeryüzü;;noun', 'lao;;ໂລກ;;noun', 'sinhalese;;ලෝකය;;noun', 'hebrew;;עוֹלָם;;noun', 'basque;;mundu;;noun', 'norwegian nynorsk;;verd;;noun', 'turkish;;cihan;;noun', 'hindi;;संसार;;noun', 'yakut;;аан дойду;;noun', 'japanese;;世界;;noun', 'norwegian bokmål;;verden;;noun', 'sicilian;;munnu;;noun', 'hindi;;भूमि;;noun', 'estonian;;maailm;;noun', 'romanian;;pământ;;noun', 'sicilian;;terra;;noun', 'czech;;svět;;noun', 'punjabi;;ਦੁਨੀਆ;;noun', 'iranian persian;;جَهان;;noun', 'dutch;;wereld;;noun', 'ancient greek;;γῆ;;noun', 'sindhi;;دنيا;;noun', 'polish;;świat;;noun', 'german;;erde;;noun', 'ido;;mondo;;noun', 'cornish;;bes;;noun'}\n",
      "162 | say;;(transitive) to pronounce.  | {'odia;;କହିବା;;verb', 'assamese;;ক;;verb', 'mongolian;;хэлэх;;verb', 'german;;säge;;verb', 'bulgarian;;ка́звам;;verb', 'tatar;;әйтергә;;verb', 'italian;;dire;;verb', 'berber tashelhit;;ini;;verb', 'esperanto;;diri;;verb', 'turkish;;demek;;verb', 'latin;;loquor;;verb', 'portuguese;;dizer;;verb', 'polish;;powiadać;;verb', 'japanese;;言う;;verb', 'galician;;dicir;;verb', 'tocharian b;;we-;;verb', 'burmese;;ပြော;;verb', 'macedonian;;каже;;verb', 'slovak;;hovoriť;;verb', 'serbo-croatian;;govòriti;;verb', 'kashmiri;;وَنُن;;verb', 'catalan;;dir;;verb', 'portuguese;;falar;;verb', 'lao;;ເວົ້າ;;verb', 'higaonon;;ikagi;;verb', 'korean;;말하다;;verb', 'swedish;;säga;;verb', 'yiddish;;זאָגן;;verb', 'arabic;;قال;;verb', 'cherokee;;ꮒꭶꮺꭰ;;verb', 'burmese;;ဆို;;verb', 'ainu;;イェ;;verb', 'czech;;říkat;;verb', 'thai;;พูด;;verb', 'french;;dire;;verb', 'hebrew;;אָמַר;;verb', 'norman;;dithe;;verb', 'finnish;;kertoa;;verb', 'aromanian;;dzãc;;verb', 'ancient greek;;λέγω;;verb', 'kashmiri;;دَپُن;;verb', 'ukrainian;;каза́ти;;verb', 'chinese cantonese;;講 /讲;;verb', 'latin;;inquam;;verb', 'khmer;;ថា;;verb', 'nepali;;बोल्नु;;verb', 'sanskrit;;भाषते;;verb', 'azerbaijani;;demək;;verb', 'belarusian;;каза́ць;;verb', 'icelandic;;segja;;verb', 'cornish;;lawl;;verb', 'persian;;dari گُفْتَن;;verb', 'latin;;dico;;verb', 'finnish;;sanoa;;verb', 'egyptian;;d:d;;verb', 'romansch;;dir;;verb', 'malay;;kata;;verb', 'serbo-croatian;;rȅći;;verb', 'serbo-croatian;;гово̀рити;;verb', 'extremaduran;;izil;;verb', 'friulian;;dî;;verb', 'macedonian;;кажува;;verb', 'urdu;;کَہْنا;;verb', 'chinese mandarin;;告訴 /告诉;;verb', 'walloon;;dire;;verb', 'slovene;;povedati;;verb', 'german;;sagen;;verb', 'irish;;abair;;verb', 'arabic;;قَالَ;;verb', 'nanai;;ун-;;verb', 'polish;;mówić;;verb', 'belarusian;;сказа́ць;;verb', 'marathi;;म्हणणे;;verb', 'northern kurdish;;gotin;;verb', 'chinese mandarin;;說 /说;;verb', 'sardinian;;faeddare;;verb', 'romanian;;spune;;verb', 'even;;гӫндэй;;verb', 'polish;;powiedzieć;;verb', 'japanese;;申す;;verb', 'lao;;ກ່າວ;;verb', 'uzbek;;demoq;;verb', 'dutch;;luiden;;verb', 'tatar;;дияргә;;verb', 'arabic;;حكى;;verb', 'evenki;;гунми;;verb', 'serbo-croatian;;ре̏ћи;;verb', 'zhuang;;gangj;;verb', 'slovak;;povedať;;verb', 'armenian;;ասել;;verb', 'malay;;cakap;;verb', 'eastern min chinese;;講 /讲;;verb', 'danish;;sige;;verb', 'bengali;;বলা;;verb', 'uzbek;;gapirmoq;;verb', 'slovene;;reči;;verb', 'javanese;;kandha;;verb', 'old east slavic;;говорити;;verb', 'pannonian rusyn;;гуториц;;verb', 'welsh;;dweud;;verb', 'russian;;говори́ть;;verb', 'dutch;;zeggen;;verb', 'latin;;proloquor;;verb', 'ukrainian;;сказа́ти;;verb', 'japanese;;申し上げる;;verb', 'ukrainian;;говори́ти;;verb', 'latin;;for;;verb', 'emilian;;dîr;;verb', 'romanian;;zice;;verb', 'turkmen;;diýmek;;verb', 'indonesian;;bicara;;verb', 'japanese;;語る;;verb', 'vietnamese;;nói;;verb', 'hindi;;कहना;;verb', 'bashkir;;тейеү;;verb', 'albanian;;them;;verb', 'tajik;;гуфтан;;verb', 'dutch;;opzeggen;;verb', 'czech;;říct;;verb', 'iranian persian;;گُفْتَن;;verb', 'interlingua;;dicer;;verb', 'georgian;;ლაპარაკი;;verb', 'japanese;;おっしゃる;;verb', 'uyghur;;دېمەك;;verb', 'sundanese;;carios;;verb', 'afrikaans;;sê;;verb', 'norwegian bokmål;;si;;verb', 'spanish;;decir;;verb', 'thai;;กล่าว;;verb', 'estonian;;ütlema;;verb', 'tagalog;;sabihin;;verb', 'korean;;말씀하다;;verb', 'manx;;abbyr;;verb', 'chickasaw;;aachi;;verb', 'kazakh;;айту;;verb', 'khmer;;និយាយ;;verb', 'lower sorbian;;groniś;;verb', 'wu chinese;;講 /讲;;verb', 'kyrgyz;;айтуу;;verb', 'turkish;;söylemek;;verb', 'serbo-croatian;;ка́зати;;verb', 'old english;;secgan;;verb', 'serbo-croatian;;kázati;;verb', 'kazakh;;деу;;verb', 'belarusian;;гавары́ць;;verb', 'georgian;;თქმა;;verb', 'gothic;;𐌵𐌹𐌸𐌰𐌽;;verb', 'chinese;;講 /讲;;verb', 'bashkir;;әйтеү;;verb', 'aromanian;;spun;;verb', 'norwegian nynorsk;;seie;;verb', 'hungarian;;mond;;verb', 'norwegian nynorsk;;seia;;verb', 'bulgarian;;ка́жа;;verb', 'pashto;;اظهارول;;verb', 'lithuanian;;sakyti;;verb', 'nepali;;भन्नु;;verb', 'cornish;;leverel;;verb', 'latvian;;teikt;;verb', 'polish;;rzec;;verb', 'old irish;;as·beir;;verb', 'russian;;сказа́ть;;verb'}\n",
      "170 | fool;;(derogatory) a person with poor judgment or little intelligence. | {'finnish;;pöljä;;noun', 'vietnamese;;thằng ngu;;noun', 'russian;;идио́т;;noun', 'french;;crétin;;noun', 'russian;;ду́рень;;noun', 'galician;;paspán;;noun', 'french;;imbécile;;noun', 'kazakh;;ақымақ;;noun', 'russian;;тупи́ца;;noun', 'bulgarian;;абда́л;;noun', 'burmese;;ဗာလ;;noun', 'finnish;;munapää;;noun', 'spanish;;tonto;;noun', 'czech;;blbec;;noun', 'chinese mandarin;;蠢人;;noun', 'finnish;;tollo;;noun', 'azerbaijani;;axmaq;;noun', 'czech;;blázen;;noun', 'catalan;;idiota;;noun', 'latin;;stultus;;noun', 'chinese mandarin;;蠢貨 /蠢货;;noun', 'latvian;;duraks;;noun', 'italian;;sciocco;;noun', 'lithuanian;;kvailys;;noun', 'polish;;głupek;;noun', 'spanish;;gilí;;noun', 'chinese mandarin;;傻瓜;;noun', 'tajik;;аблаҳ;;noun', 'galician;;doudo;;noun', 'thai;;ควาย;;noun', 'turkish;;aptal;;noun', 'polish;;idiota;;noun', 'russian;;ду́ра;;noun', 'ingrian;;tuhkuri;;noun', 'czech;;pitomec;;noun', 'czech;;hlupák;;noun', 'catalan;;beneit;;noun', 'kyrgyz;;келесоо;;noun', 'finnish;;narri;;noun', 'georgian;;იდიოტი;;noun', 'bengali;;মূর্খ;;noun', 'polish;;bałwan;;noun', 'russian;;деби́л;;noun', 'thai;;คนโง่;;noun', 'swahili;;mjinga;;noun', 'gujarati;;મૂર્ખ;;noun', 'maori;;pōrewarewa;;noun', 'polish;;bęcwał;;noun', 'spanish;;bobo;;noun', 'lao;;ຄົນໂງ່;;noun', 'german;;dummkopf;;noun', 'serbo-croatian;;luđak;;noun', 'macedonian;;абдал;;noun', 'urdu;;مورکھ;;noun', 'esperanto;;stultulo;;noun', 'french;;couillon;;noun', 'bulgarian;;глупа́к;;noun', 'maori;;hākawa;;noun', 'irish;;amadán;;noun', 'estonian;;tola;;noun', 'yiddish;;שוטה;;noun', 'ingrian;;bolvana;;noun', 'ingrian;;tuhkapussi;;noun', 'kyrgyz;;акмак;;noun', 'swedish;;dåre;;noun', 'french;;idiot;;noun', 'malay;;bodoh;;noun', 'ottoman turkish;;طوی;;noun', 'portuguese;;bobo;;noun', 'romanian;;prost;;noun', 'serbo-croatian;;budala;;noun', 'portuguese;;burro;;noun', 'korean;;백치;;noun', 'galician;;pallouco;;noun', 'ingrian;;vohma;;noun', 'ingrian;;foofana;;noun', 'russian;;глупе́ц;;noun', 'japanese;;アホ;;noun', 'scottish gaelic;;òinseach;;noun', 'serbo-croatian;;glupan;;noun', 'finnish;;hölmö;;noun', 'latvian;;muļķis;;noun', 'finnish;;typerys;;noun', 'french;;abruti;;noun', 'finnish;;idiootti;;noun', 'bulgarian;;глупа́чка;;noun', 'spanish;;imbécil;;noun', 'turkish;;ahmak;;noun', 'hungarian;;hülye;;noun', 'german;;trottel;;noun', 'ingrian;;durakka;;noun', 'chinese mandarin;;笨蛋;;noun', 'ingrian;;tuhkapää;;noun', 'polish;;baran;;noun', 'german;;narr;;noun', 'spanish;;taba;;noun', 'albanian;;idiot;;noun', 'hebrew;;גולם \\\\ גֹּלֶם;;noun', 'dutch;;domme gans;;noun', 'danish;;fjols;;noun', 'italian;;scemo;;noun', 'yiddish;;נאַר;;noun', 'irish;;baothán;;noun', 'azerbaijani;;abdal;;noun', 'slovak;;hlupák;;noun', 'spanish;;pendejo;;noun', 'czech;;blb;;noun', 'portuguese;;tolo;;noun', 'turkish;;salak;;noun', 'khmer;;ល្ងីល្ងើ;;noun', 'portuguese;;imbecil;;noun', 'ukrainian;;ду́рник;;noun', 'galician;;parvo;;noun', 'galician;;idiota;;noun', 'bulgarian;;тъпа́к;;noun', 'czech;;šašek;;noun', 'french;;andouille;;noun', 'armenian;;հիմար;;noun', 'italian;;cretino;;noun', 'galician;;lores;;noun', 'russian;;идио́тка;;noun', 'finnish;;tomppeli;;noun', 'hindi;;मूर्ख;;noun', 'maori;;hukehuke;;noun', 'ingrian;;hapalka;;noun', 'polish;;głupiec;;noun', 'french;;dinde;;noun', 'japanese;;あほ;;noun', 'russian;;дура́к;;noun', 'indonesian;;tolol;;noun', 'galician;;babeco;;noun', 'korean;;바보;;noun', 'latin;;mōrus;;noun', 'italian;;buffone;;noun', 'italian;;imbecille;;noun', 'galician;;mascato;;noun', 'latvian;;muļķe;;noun', 'italian;;idiota;;noun', 'japanese;;馬鹿;;noun', 'german;;pute;;noun', 'belarusian;;ду́рань;;noun', 'arabic;;أَحْمَق;;noun', 'polish;;dureń;;noun', 'portuguese;;idiota;;noun', 'russian;;болва́н;;noun', 'finnish;;hullu;;noun', 'finnish;;ääliö;;noun', 'ingrian;;oolo;;noun', 'italian;;stupido;;noun', 'scottish gaelic;;amadan;;noun', 'galician;;babiolo;;noun', 'faroese;;býttlingur;;noun', 'german;;tor;;noun', 'german;;närrin;;noun', 'german;;dumme gans;;noun', 'hebrew;;שׁוֹטֶה;;noun', 'arabic;;مُغَفَّل;;noun', 'maori;;poroheahea;;noun', 'old norse;;api;;noun', 'ukrainian;;ду́рень;;noun', 'albanian;;budalla;;noun', 'chinese mandarin;;傻子;;noun', 'uzbek;;ahmoq;;noun', 'maori;;ngoungoua;;noun', 'tajik;;аҳмақ;;noun', 'maori;;wawau;;noun', 'chinese mandarin;;呆子;;noun', 'ukrainian;;йо́лоп;;noun', 'sanskrit;;दुर्मति;;noun', 'chichewa;;chitsiru;;noun'}\n"
     ]
    }
   ],
   "source": [
    "concept_map = dict()\n",
    "def add_concept_to_translation(translation: str, concept: str) -> None:\n",
    "    if not concept in concept_map:\n",
    "        concept_map[concept] = set()\n",
    "    concept_map[concept].add(translation)\n",
    "\n",
    "df_filtered.apply(lambda row: add_concept_to_translation(row[\"language_and_translation\"], row[\"word_and_gloss\"]), axis=1)\n",
    "\n",
    "maximum = 0\n",
    "for key, value in concept_map.items():\n",
    "    if len(value) > maximum:\n",
    "        maximum = len(value)\n",
    "        print(f\"{maximum:2d} | {key:32s} | {value}\")\n",
    "\n"
   ]
  },
  {
   "cell_type": "markdown",
   "metadata": {},
   "source": [
    "We have 5315 concepts."
   ]
  },
  {
   "cell_type": "code",
   "execution_count": 9,
   "metadata": {},
   "outputs": [
    {
     "data": {
      "text/plain": [
       "5315"
      ]
     },
     "execution_count": 9,
     "metadata": {},
     "output_type": "execute_result"
    }
   ],
   "source": [
    "len(concept_map)"
   ]
  },
  {
   "cell_type": "markdown",
   "metadata": {},
   "source": [
    "Show first entry of the Concept Map."
   ]
  },
  {
   "cell_type": "code",
   "execution_count": 10,
   "metadata": {},
   "outputs": [
    {
     "data": {
      "text/plain": [
       "{'free;;(social) unconstrained.;;not imprisoned or enslaved.': {'arabic;;حُرّ;;adj',\n",
       "  'armenian;;ազատ;;adj',\n",
       "  'assamese;;মুকলি;;adj',\n",
       "  'asturian;;llibre;;adj',\n",
       "  'azerbaijani;;azad;;adj',\n",
       "  'bambara;;hɔrɔn;;adj',\n",
       "  'bashkir;;ирекле;;adj',\n",
       "  'catalan;;lliure;;adj',\n",
       "  'chinese mandarin;;自由的;;adj',\n",
       "  'czech;;svobodný;;adj',\n",
       "  'czech;;volný;;adj',\n",
       "  'danish;;fri;;adj',\n",
       "  'dutch;;vrij;;adj',\n",
       "  'esperanto;;libera;;adj',\n",
       "  'estonian;;vaba;;adj',\n",
       "  'finnish;;vapaa;;adj',\n",
       "  'french;;libre;;adj',\n",
       "  'galician;;libre;;adj',\n",
       "  'german;;frei;;adj',\n",
       "  'greek;;ελεύθερος;;adj',\n",
       "  'hebrew;;חָפְשִׁי;;adj',\n",
       "  'hebrew;;חופשי;;adj',\n",
       "  'hungarian;;szabad;;adj',\n",
       "  'icelandic;;frjáls;;adj',\n",
       "  'ido;;libera;;adj',\n",
       "  'indonesian;;bebas;;adj',\n",
       "  'interlingua;;libere;;adj',\n",
       "  'irish;;saor;;adj',\n",
       "  'italian;;libero;;adj',\n",
       "  'japanese;;自由;;adj',\n",
       "  'korean;;자유;;adj',\n",
       "  'latvian;;brīvs;;adj',\n",
       "  'limburgish;;vrie;;adj',\n",
       "  'low german;;free;;adj',\n",
       "  'macedonian;;слободен;;adj',\n",
       "  'malay;;bebas;;adj',\n",
       "  'malayalam;;സ്വതന്ത്രം;;adj',\n",
       "  'norman;;libre;;adj',\n",
       "  'northern kurdish;;azad;;adj',\n",
       "  'northern kurdish;;serbest;;adj',\n",
       "  'norwegian;;fri;;adj',\n",
       "  'occitan;;liure;;adj',\n",
       "  'old english;;frēo;;adj',\n",
       "  'old irish;;sóer;;adj',\n",
       "  'persian;;آزاد;;adj',\n",
       "  'polish;;swobodny;;adj',\n",
       "  'polish;;wolny;;adj',\n",
       "  'portuguese;;livre;;adj',\n",
       "  'romanian;;liber;;adj',\n",
       "  'russian;;свобо́дный;;adj',\n",
       "  'scottish gaelic;;saor;;adj',\n",
       "  'serbo-croatian;;slobodan;;adj',\n",
       "  'slovak;;slobodný;;adj',\n",
       "  'spanish;;libre;;adj',\n",
       "  'swedish;;fri;;adj',\n",
       "  'turkish;;özgür;;adj',\n",
       "  'yiddish;;פֿרײַ;;adj',\n",
       "  'zazaki;;azad (diq);;adj',\n",
       "  'zazaki;;xoser;;adj'}}"
      ]
     },
     "execution_count": 10,
     "metadata": {},
     "output_type": "execute_result"
    }
   ],
   "source": [
    "first_concept = dict(list(concept_map.items())[:1])\n",
    "first_concept"
   ]
  },
  {
   "cell_type": "code",
   "execution_count": 11,
   "metadata": {},
   "outputs": [],
   "source": [
    "G = nx.Graph()\n",
    "\n",
    "# Takes about 30 seconds on my machine\n",
    "edge_map = dict() \n",
    "maximum = 0\n",
    "for i, concept1 in enumerate(concept_map.keys()):\n",
    "    for concept2 in concept_map.keys():\n",
    "        if concept1 == concept2:\n",
    "            continue\n",
    "        \n",
    "        pair = tuple(sorted([concept1, concept2]))\n",
    "        if intersection := concept_map[concept1].intersection(concept_map[concept2]):\n",
    "            edge_map[pair] = Edge(len(intersection), intersection)\n",
    "            if len(intersection) > maximum:\n",
    "                maximum = len(intersection)\n",
    "\n",
    "# Add edges to the graph with weights\n",
    "for pair, edge in edge_map.items():\n",
    "    G.add_edge(pair[0], pair[1], weight=edge.weight)\n",
    "\n",
    "pickle.dump(edge_map, open(\"resources/create_graph/edge_map.pickle\", \"wb\")) \n",
    "\n",
    "edges = G.edges(data=True)\n",
    "weights = [edge.weight for edge in edge_map.values()]\n"
   ]
  },
  {
   "cell_type": "markdown",
   "metadata": {},
   "source": [
    "Inspecting strongest and weakest edges"
   ]
  },
  {
   "cell_type": "code",
   "execution_count": 12,
   "metadata": {},
   "outputs": [
    {
     "name": "stdout",
     "output_type": "stream",
     "text": [
      "Strongest connections:\n",
      "(weight: 137) football;;(uk, africa, caribbean, south asia, uncountable) association football, also called soccer: a game in which two teams each contend to get a round ball into the other team's goal primarily by kicking the ball. -- soccer;;(originated, late 19th c, now often us, australia, ireland, philippines, and other countries; see usage notes) association football.\n",
      "(weight: 129) disease;;(medicine) an abnormal condition of a human, animal or plant that causes discomfort or dysfunction; distinct from injury insofar as the latter is usually instantaneously acquired. -- illness;;(countable) an instance of a disease or poor health.\n",
      "(weight: 122) talk;;(intransitive) to communicate, usually by means of speech. -- speak;;(intransitive) to communicate with one's voice, to say words out loud.\n",
      "(weight: 116) earth;;(uncountable) soil. -- soil;;(uncountable) a mixture of mineral particles and organic material, used to support plant growth.\n",
      "(weight: 115) hug;;(transitive or reciprocal) to embrace by holding closely, especially in the arms. -- embrace;;(transitive) to clasp (someone or each other) in the arms with affection; to take in the arms; to hug.\n",
      "\n",
      "Weakest connections:\n",
      "(weight: 1) otolaryngology;;(medicine) the study of diseases of the ear, nose and throat. -- otorhinolaryngologist;;(medicine) a doctor specializing in otorhinolaryngology, the study of the ear, nose, and throat.\n",
      "(weight: 1) god willing;;(often as disjunct) barring unforeseen circumstances, it is hoped that (while generally also indicating acceptance of god's will). -- as if;;(idiomatic) indicates that the speaker deems something highly unlikely.\n",
      "(weight: 1) big dipper;;(astronomy, especially us) a bright circumpolar asterism of the northern sky, said to resemble a ladle or cart, and a part of the constellation ursa major which includes the stars mizar, dubhe, and alkaid. the other stars comprising it are alioth, megrez, merak, and phecda. -- pleiades;;(astronomy) an open cluster of hot blue stars in the constellation taurus, and the most easily visible such cluster from earth.\n",
      "(weight: 1) forester;;(forestry) a person who practices forestry. -- leshy;;(slavic mythology) a male woodland spirit in slavic mythology who protects wild animals and forests.\n",
      "(weight: 1) birds of a feather flock together;;(idiomatic) people of similar character, background or taste tend to congregate or associate with one another; it is easier to establish friendships with people that one has a lot in common with. -- the apple does not fall far from the tree;;(idiomatic) a child grows up to be similar to its parents, both in behavior and in physical characteristics.\n"
     ]
    }
   ],
   "source": [
    "sorted_edges = sorted(edges, key = lambda edge: edge[2]['weight'], reverse=True)\n",
    "print(\"Strongest connections:\")\n",
    "for parent1, parent2, edge_data in sorted_edges[:5]:\n",
    "    print(f\"(weight: {edge_data['weight']}) {parent1} -- {parent2}\")\n",
    "\n",
    "print(\"\\nWeakest connections:\")\n",
    "for parent1, parent2, edge_data in sorted_edges[-5:]:\n",
    "    print(f\"(weight: {edge_data['weight']}) {parent1} -- {parent2}\")"
   ]
  },
  {
   "cell_type": "markdown",
   "metadata": {},
   "source": [
    "Keep only edges with a weight of at least `WEIGHT_THRESHOLD` translations.\n",
    "Save resulting graph to file as python binary."
   ]
  },
  {
   "cell_type": "code",
   "execution_count": 13,
   "metadata": {},
   "outputs": [],
   "source": [
    "edges_to_remove = [(u, v) for u, v, data in G.edges(data=True) if data['weight'] < settings.WEIGHT_THRESHOLD]\n",
    "G.remove_edges_from(edges_to_remove)\n",
    "\n",
    "pickle.dump(G, open('resources/create_graph/full_graph.pickle', 'wb'))"
   ]
  }
 ],
 "metadata": {
  "kernelspec": {
   "display_name": "Python 3",
   "language": "python",
   "name": "python3"
  },
  "language_info": {
   "codemirror_mode": {
    "name": "ipython",
    "version": 3
   },
   "file_extension": ".py",
   "mimetype": "text/x-python",
   "name": "python",
   "nbconvert_exporter": "python",
   "pygments_lexer": "ipython3",
   "version": "3.11.9"
  }
 },
 "nbformat": 4,
 "nbformat_minor": 2
}
