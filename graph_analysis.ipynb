{
 "cells": [
  {
   "cell_type": "code",
   "execution_count": 6,
   "metadata": {},
   "outputs": [],
   "source": [
    "import networkx as nx\n",
    "import graph_utils as gu\n",
    "import settings\n",
    "import random\n",
    "import numpy as np\n",
    "from sklearn.manifold import MDS\n",
    "import numpy as np\n",
    "import matplotlib.pyplot as plt\n",
    "from tqdm import tqdm\n",
    "from kneed import KneeLocator\n",
    "import seaborn as sns\n",
    "import pickle\n",
    "from typing import Dict, List"
   ]
  },
  {
   "cell_type": "code",
   "execution_count": 7,
   "metadata": {},
   "outputs": [],
   "source": [
    "def debug(msg: str = \"\") -> None:\n",
    "    \"\"\"\n",
    "    Small method for controlling number of debug messages.\n",
    "    \"\"\"\n",
    "    if settings.DEBUG:\n",
    "        print(msg)\n"
   ]
  },
  {
   "cell_type": "markdown",
   "metadata": {},
   "source": [
    "Load data from python binaries. Processed by the preprocessing notebook."
   ]
  },
  {
   "cell_type": "code",
   "execution_count": 8,
   "metadata": {},
   "outputs": [],
   "source": [
    "G = pickle.load(open('resources/create_graph/full_graph.pickle', 'rb'))\n",
    "edge_map = pickle.load(open('resources/create_graph/edge_map.pickle', 'rb'))"
   ]
  },
  {
   "cell_type": "code",
   "execution_count": 9,
   "metadata": {},
   "outputs": [],
   "source": [
    "def get_matrix_for_component_graph(component_graph: nx.Graph) -> List[List[int]]:\n",
    "    \"\"\"\n",
    "    Create a probability matrix for every nodepair by executing a number of random walks\n",
    "    starting at every available node in the given component graph.\n",
    "\n",
    "    :param component_graph: The graph to calculate the matrix from\n",
    "    :return: The len(nodes) x len(nodes) matrix containing every start stop pair\n",
    "    \"\"\"\n",
    "    path_len: int = gu.find_longest_path_approx(component_graph=component_graph)\n",
    "\n",
    "    # Sort component_grpah nodes for a consistent matrix representation (index=node)\n",
    "    nodes = sorted(component_graph.nodes)\n",
    "    debug(\"\\n  \".join([\"Sorted Node Index:\"] + nodes))\n",
    "\n",
    "    # Run random_walk starting from every node once and save the last visited node\n",
    "    start_stop_map: Dict[str, str] = {node: [gu.random_walk_in_component(component_graph=component_graph, \n",
    "                                                                         start_node=node, \n",
    "                                                                         walk_length=path_len) for _ in range(settings.RANDOM_WALK_COUNT)] \n",
    "                                      for node in nodes}\n",
    "\n",
    "    # Initialize matrix full of 0   \n",
    "    matrix: List[List[int]] = [[0 for _ in range(len(nodes))] for _ in range(len(nodes))]\n",
    "\n",
    "    # Add 1 to every start stop pair and devide by node_count * walk_count\n",
    "    for start, end_nodes in start_stop_map.items():\n",
    "        for end in end_nodes:\n",
    "            matrix[nodes.index(start)][nodes.index(end)] = matrix[nodes.index(start)][nodes.index(end)] + (1 / (settings.RANDOM_WALK_COUNT))\n",
    "\n",
    "    debug()\n",
    "    debug('\\n  '.join([\"EndNode Percentages:\"] + [\", \".join([f\"{value:0.4f}\" for value in row]) for row in matrix]))\n",
    "    debug()\n",
    "    debug(f\"Sum of percentages: {sum([sum(row) for row in matrix])}\")\n",
    "    debug(f\"Sum per row: {[sum(row) for row in matrix]}\\nrows: {len(matrix)}\\n1/rows: {1/len(matrix)}\")\n",
    "\n",
    "    return matrix, nodes\n"
   ]
  },
  {
   "cell_type": "markdown",
   "metadata": {},
   "source": [
    "Calculate the probability matrix for every component and marge the results into one big sparse matrix.<br>\n",
    "The sparse matrix is then smoothed by a given factor."
   ]
  },
  {
   "cell_type": "code",
   "execution_count": 10,
   "metadata": {},
   "outputs": [
    {
     "name": "stdout",
     "output_type": "stream",
     "text": [
      "5315.100000000066 5316\n"
     ]
    }
   ],
   "source": [
    "total_nodes = len(G.nodes()) + 1\n",
    "matrix = np.zeros((total_nodes, total_nodes))\n",
    "components = list(nx.connected_components(G))\n",
    "node_to_index = {}\n",
    "# Get matrix for every component in G\n",
    "for i, component in enumerate(components):\n",
    "    graph = G.subgraph(component)\n",
    "\n",
    "    # Exclude big graph for dev reason\n",
    "    m, nodes = get_matrix_for_component_graph(component_graph=graph)\n",
    "    \n",
    "    # Loop over row of component matrix\n",
    "    for i, row in enumerate(m):\n",
    "\n",
    "        # Add node to node_idx map\n",
    "        node_to_index[nodes[i]] = len(node_to_index)\n",
    "        for j, value in enumerate(row):\n",
    "            matrix[len(node_to_index)][len(node_to_index) + j] = value\n",
    "\n",
    "\n",
    "\n",
    "# Smoothing factor 10% for the 0 transitions inbetween the component graphs\n",
    "smoothing_factor = 0.1\n",
    "\n",
    "for i in range(matrix.shape[0]):\n",
    "    z = max(1, np.count_nonzero(matrix[i]==0))\n",
    "    for j in range(matrix.shape[1]):\n",
    "        if matrix[i][j] == 0:\n",
    "            matrix[i][j] = smoothing_factor / z\n",
    "        else:\n",
    "            matrix[i][j] *= (1 - smoothing_factor)\n",
    "\n",
    "# Should be ~\"number of rows/cols\" (here: 5315)\n",
    "# The result may differ slightly due to rounding errors.\n",
    "print(np.sum(matrix), matrix.shape[0])\n"
   ]
  },
  {
   "cell_type": "markdown",
   "metadata": {},
   "source": [
    "Number of components (distinct sets of connected nodes)"
   ]
  },
  {
   "cell_type": "code",
   "execution_count": 11,
   "metadata": {},
   "outputs": [
    {
     "data": {
      "text/plain": [
       "1379"
      ]
     },
     "execution_count": 11,
     "metadata": {},
     "output_type": "execute_result"
    }
   ],
   "source": [
    "len(components)"
   ]
  },
  {
   "cell_type": "code",
   "execution_count": 12,
   "metadata": {},
   "outputs": [
    {
     "data": {
      "text/plain": [
       "array([[1.88111362e-05, 1.88111362e-05, 1.88111362e-05, ...,\n",
       "        1.88111362e-05, 1.88111362e-05, 1.88111362e-05],\n",
       "       [1.88359390e-05, 1.88359390e-05, 1.88359390e-05, ...,\n",
       "        1.88359390e-05, 1.88359390e-05, 1.88359390e-05],\n",
       "       [1.88465888e-05, 1.88465888e-05, 1.88465888e-05, ...,\n",
       "        1.88465888e-05, 1.88465888e-05, 1.88465888e-05],\n",
       "       ...,\n",
       "       [1.88182160e-05, 1.88182160e-05, 1.88182160e-05, ...,\n",
       "        4.50000000e-01, 4.50000000e-01, 1.88182160e-05],\n",
       "       [1.88146754e-05, 1.88146754e-05, 1.88146754e-05, ...,\n",
       "        1.88146754e-05, 9.00000000e-01, 1.88146754e-05],\n",
       "       [1.88146754e-05, 1.88146754e-05, 1.88146754e-05, ...,\n",
       "        1.88146754e-05, 1.88146754e-05, 9.00000000e-01]])"
      ]
     },
     "execution_count": 12,
     "metadata": {},
     "output_type": "execute_result"
    }
   ],
   "source": [
    "matrix"
   ]
  },
  {
   "cell_type": "markdown",
   "metadata": {},
   "source": [
    "https://stats.stackexchange.com/questions/134504/using-an-asymmetric-distance-matrix-for-clustering"
   ]
  },
  {
   "cell_type": "markdown",
   "metadata": {},
   "source": [
    "To run MDS the similarity matrix has to be symmetric. To achieve that we set each pair of nodes\n",
    "(a, b) ~ (b, a) to its corresponding average $value = \\frac{(value_{ab} + value_{ba})}{2}$\n"
   ]
  },
  {
   "cell_type": "code",
   "execution_count": 13,
   "metadata": {},
   "outputs": [],
   "source": [
    "def avg(a:float, b: float) -> float:\n",
    "    \"\"\"\n",
    "    Calculcates the average of two values.\n",
    "    \"\"\"\n",
    "    return (a + b)/2\n",
    "\n",
    "\n",
    "aggs = [min, max, avg]\n",
    "agg = aggs[2]\n",
    "\n",
    "\n",
    "for i in range(matrix.shape[0]):\n",
    "    for j in range(i):\n",
    "        matrix[i][j] = matrix[j][i] = agg(matrix[i][j], matrix[j][i])"
   ]
  },
  {
   "cell_type": "code",
   "execution_count": 14,
   "metadata": {},
   "outputs": [
    {
     "data": {
      "text/plain": [
       "array([[1.88111362e-05, 1.88235376e-05, 1.88288625e-05, ...,\n",
       "        1.88146761e-05, 1.88129058e-05, 1.88129058e-05],\n",
       "       [1.88235376e-05, 1.88359390e-05, 1.88412639e-05, ...,\n",
       "        1.88270775e-05, 1.88253072e-05, 1.88253072e-05],\n",
       "       [1.88288625e-05, 1.88412639e-05, 1.88465888e-05, ...,\n",
       "        1.88324024e-05, 1.88306321e-05, 1.88306321e-05],\n",
       "       ...,\n",
       "       [1.88146761e-05, 1.88270775e-05, 1.88324024e-05, ...,\n",
       "        4.50000000e-01, 2.25009407e-01, 1.88164457e-05],\n",
       "       [1.88129058e-05, 1.88253072e-05, 1.88306321e-05, ...,\n",
       "        2.25009407e-01, 9.00000000e-01, 1.88146754e-05],\n",
       "       [1.88129058e-05, 1.88253072e-05, 1.88306321e-05, ...,\n",
       "        1.88164457e-05, 1.88146754e-05, 9.00000000e-01]])"
      ]
     },
     "execution_count": 14,
     "metadata": {},
     "output_type": "execute_result"
    }
   ],
   "source": [
    "matrix"
   ]
  },
  {
   "cell_type": "code",
   "execution_count": 15,
   "metadata": {},
   "outputs": [],
   "source": [
    "dist_matrix = 1 - matrix"
   ]
  },
  {
   "cell_type": "code",
   "execution_count": 16,
   "metadata": {},
   "outputs": [
    {
     "data": {
      "text/plain": [
       "array([[0.99998119, 0.99998118, 0.99998117, ..., 0.99998119, 0.99998119,\n",
       "        0.99998119],\n",
       "       [0.99998118, 0.99998116, 0.99998116, ..., 0.99998117, 0.99998117,\n",
       "        0.99998117],\n",
       "       [0.99998117, 0.99998116, 0.99998115, ..., 0.99998117, 0.99998117,\n",
       "        0.99998117],\n",
       "       ...,\n",
       "       [0.99998119, 0.99998117, 0.99998117, ..., 0.55      , 0.77499059,\n",
       "        0.99998118],\n",
       "       [0.99998119, 0.99998117, 0.99998117, ..., 0.77499059, 0.1       ,\n",
       "        0.99998119],\n",
       "       [0.99998119, 0.99998117, 0.99998117, ..., 0.99998118, 0.99998119,\n",
       "        0.1       ]])"
      ]
     },
     "execution_count": 16,
     "metadata": {},
     "output_type": "execute_result"
    }
   ],
   "source": [
    "dist_matrix"
   ]
  },
  {
   "cell_type": "markdown",
   "metadata": {},
   "source": [
    "https://stackoverflow.com/questions/54055761/checking-triangle-inequality-in-a-massive-numpy-matrix"
   ]
  },
  {
   "cell_type": "code",
   "execution_count": null,
   "metadata": {},
   "outputs": [
    {
     "name": "stdout",
     "output_type": "stream",
     "text": [
      "\n",
      "Total Violations: 0 out of 10000000 checks\n"
     ]
    }
   ],
   "source": [
    "def check_triangle_inequality(matrix: np.ndarray, num_checks: int = 1_000_000) -> bool:\n",
    "    \"\"\"\n",
    "    Randomly samples triplets (i, j, k) from distance matrix\n",
    "    and checks if matrix[i, j] <= matrix[i, k] + matrix[k, j] for all sampled triplets.\n",
    "    \n",
    "    :param matrix: The matrix to be checked for triangle inequality.\n",
    "    :param num_checks: Number of triplets to check.\n",
    "\n",
    "    :return: True if all sampled triplets satisfy the inequality, else False.\n",
    "    \"\"\"\n",
    "    violations = 0\n",
    "\n",
    "    for _ in range(num_checks):\n",
    "        i, j, k = random.sample(range(matrix.shape[0]), 3)\n",
    "        dij = matrix[i, j]\n",
    "        dik = matrix[i, k]\n",
    "        dkj = matrix[k, j]\n",
    "\n",
    "        if dij > dik + dkj + 1e-8:\n",
    "            violations += 1\n",
    "\n",
    "    print(f\"\\nTotal Violations: {violations} out of {num_checks} checks\")\n",
    "\n",
    "    return violations == 0\n",
    "\n",
    "\n",
    "result = check_triangle_inequality(dist_matrix, num_checks=10_000_000)\n"
   ]
  },
  {
   "cell_type": "code",
   "execution_count": 18,
   "metadata": {},
   "outputs": [],
   "source": [
    "np.fill_diagonal(dist_matrix, 0)"
   ]
  },
  {
   "cell_type": "code",
   "execution_count": 19,
   "metadata": {},
   "outputs": [
    {
     "data": {
      "text/plain": [
       "array([[0.        , 0.99998118, 0.99998117, ..., 0.99998119, 0.99998119,\n",
       "        0.99998119],\n",
       "       [0.99998118, 0.        , 0.99998116, ..., 0.99998117, 0.99998117,\n",
       "        0.99998117],\n",
       "       [0.99998117, 0.99998116, 0.        , ..., 0.99998117, 0.99998117,\n",
       "        0.99998117],\n",
       "       ...,\n",
       "       [0.99998119, 0.99998117, 0.99998117, ..., 0.        , 0.77499059,\n",
       "        0.99998118],\n",
       "       [0.99998119, 0.99998117, 0.99998117, ..., 0.77499059, 0.        ,\n",
       "        0.99998119],\n",
       "       [0.99998119, 0.99998117, 0.99998117, ..., 0.99998118, 0.99998119,\n",
       "        0.        ]])"
      ]
     },
     "execution_count": 19,
     "metadata": {},
     "output_type": "execute_result"
    }
   ],
   "source": [
    "dist_matrix"
   ]
  },
  {
   "cell_type": "code",
   "execution_count": 20,
   "metadata": {},
   "outputs": [
    {
     "name": "stderr",
     "output_type": "stream",
     "text": [
      "Running MDS:   6%|▋         | 1/16 [00:11<02:48, 11.20s/dimension]"
     ]
    },
    {
     "name": "stdout",
     "output_type": "stream",
     "text": [
      "Dimension 1 → Stress: 4706091.38\n"
     ]
    },
    {
     "name": "stderr",
     "output_type": "stream",
     "text": [
      "Running MDS:  12%|█▎        | 2/16 [01:02<08:10, 35.02s/dimension]"
     ]
    },
    {
     "name": "stdout",
     "output_type": "stream",
     "text": [
      "Dimension 2 → Stress: 2505327.14\n"
     ]
    },
    {
     "name": "stderr",
     "output_type": "stream",
     "text": [
      "Running MDS:  19%|█▉        | 3/16 [09:12<52:34, 242.64s/dimension]"
     ]
    },
    {
     "name": "stdout",
     "output_type": "stream",
     "text": [
      "Dimension 3 → Stress: 1567064.28\n"
     ]
    },
    {
     "name": "stderr",
     "output_type": "stream",
     "text": [
      "Running MDS:  25%|██▌       | 4/16 [11:41<41:06, 205.55s/dimension]"
     ]
    },
    {
     "name": "stdout",
     "output_type": "stream",
     "text": [
      "Dimension 4 → Stress: 1096093.85\n"
     ]
    },
    {
     "name": "stderr",
     "output_type": "stream",
     "text": [
      "Running MDS:  31%|███▏      | 5/16 [15:21<38:39, 210.87s/dimension]"
     ]
    },
    {
     "name": "stdout",
     "output_type": "stream",
     "text": [
      "Dimension 5 → Stress: 839775.78\n"
     ]
    },
    {
     "name": "stderr",
     "output_type": "stream",
     "text": [
      "Running MDS:  38%|███▊      | 6/16 [20:26<40:29, 242.98s/dimension]"
     ]
    },
    {
     "name": "stdout",
     "output_type": "stream",
     "text": [
      "Dimension 6 → Stress: 679627.04\n"
     ]
    },
    {
     "name": "stderr",
     "output_type": "stream",
     "text": [
      "Running MDS:  44%|████▍     | 7/16 [27:04<44:01, 293.54s/dimension]"
     ]
    },
    {
     "name": "stdout",
     "output_type": "stream",
     "text": [
      "Dimension 7 → Stress: 570398.08\n"
     ]
    },
    {
     "name": "stderr",
     "output_type": "stream",
     "text": [
      "Running MDS:  50%|█████     | 8/16 [35:22<47:47, 358.47s/dimension]"
     ]
    },
    {
     "name": "stdout",
     "output_type": "stream",
     "text": [
      "Dimension 8 → Stress: 491257.31\n"
     ]
    },
    {
     "name": "stderr",
     "output_type": "stream",
     "text": [
      "Running MDS:  56%|█████▋    | 9/16 [44:38<49:02, 420.35s/dimension]"
     ]
    },
    {
     "name": "stdout",
     "output_type": "stream",
     "text": [
      "Dimension 9 → Stress: 431367.95\n"
     ]
    },
    {
     "name": "stderr",
     "output_type": "stream",
     "text": [
      "Running MDS:  62%|██████▎   | 10/16 [53:54<46:12, 462.10s/dimension]"
     ]
    },
    {
     "name": "stdout",
     "output_type": "stream",
     "text": [
      "Dimension 10 → Stress: 384527.90\n"
     ]
    },
    {
     "name": "stderr",
     "output_type": "stream",
     "text": [
      "Running MDS:  69%|██████▉   | 11/16 [1:00:36<36:59, 443.98s/dimension]"
     ]
    },
    {
     "name": "stdout",
     "output_type": "stream",
     "text": [
      "Dimension 11 → Stress: 346987.77\n"
     ]
    },
    {
     "name": "stderr",
     "output_type": "stream",
     "text": [
      "Running MDS:  75%|███████▌  | 12/16 [1:04:56<25:51, 387.80s/dimension]"
     ]
    },
    {
     "name": "stdout",
     "output_type": "stream",
     "text": [
      "Dimension 12 → Stress: 316066.16\n"
     ]
    },
    {
     "name": "stderr",
     "output_type": "stream",
     "text": [
      "Running MDS:  81%|████████▏ | 13/16 [1:08:28<16:43, 334.52s/dimension]"
     ]
    },
    {
     "name": "stdout",
     "output_type": "stream",
     "text": [
      "Dimension 13 → Stress: 290073.03\n"
     ]
    },
    {
     "name": "stderr",
     "output_type": "stream",
     "text": [
      "Running MDS:  88%|████████▊ | 14/16 [1:11:34<09:39, 289.87s/dimension]"
     ]
    },
    {
     "name": "stdout",
     "output_type": "stream",
     "text": [
      "Dimension 14 → Stress: 268014.64\n"
     ]
    },
    {
     "name": "stderr",
     "output_type": "stream",
     "text": [
      "Running MDS:  94%|█████████▍| 15/16 [1:14:20<04:12, 252.52s/dimension]"
     ]
    },
    {
     "name": "stdout",
     "output_type": "stream",
     "text": [
      "Dimension 15 → Stress: 249047.53\n"
     ]
    },
    {
     "name": "stderr",
     "output_type": "stream",
     "text": [
      "Running MDS: 100%|██████████| 16/16 [1:16:53<00:00, 288.35s/dimension]"
     ]
    },
    {
     "name": "stdout",
     "output_type": "stream",
     "text": [
      "Dimension 16 → Stress: 232579.87\n"
     ]
    },
    {
     "name": "stderr",
     "output_type": "stream",
     "text": [
      "\n"
     ]
    }
   ],
   "source": [
    "max_dim = 16\n",
    "dims = range(1, max_dim + 1)\n",
    "stress_vals = []\n",
    "\n",
    "for d in tqdm(dims, desc=\"Running MDS\", unit=\"dimension\"):\n",
    "    mds = MDS(n_components=d, dissimilarity='precomputed', random_state=42)\n",
    "    mds.fit(dist_matrix)\n",
    "    stress_vals.append(mds.stress_)\n",
    "    print(f\"Dimension {d} → Stress: {mds.stress_:.2f}\")\n"
   ]
  },
  {
   "cell_type": "code",
   "execution_count": 21,
   "metadata": {},
   "outputs": [
    {
     "data": {
      "image/png": "[encoded data removed]",
      "text/plain": [
       "<Figure size 640x480 with 1 Axes>"
      ]
     },
     "metadata": {},
     "output_type": "display_data"
    }
   ],
   "source": [
    "plt.plot(dims, stress_vals, marker='o')\n",
    "plt.xlabel(\"Number of Dimensions\")\n",
    "plt.ylabel(\"Stress\")\n",
    "plt.title(\"MDS Stress vs. Dimensionality\")\n",
    "plt.grid(True)\n",
    "plt.show()"
   ]
  },
  {
   "cell_type": "code",
   "execution_count": 24,
   "metadata": {},
   "outputs": [
    {
     "name": "stdout",
     "output_type": "stream",
     "text": [
      "The stress curve is strictly convex.\n"
     ]
    }
   ],
   "source": [
    "stress = np.array(stress_vals)\n",
    "\n",
    "delta_1 = np.diff(stress)\n",
    "delta_2 = np.diff(delta_1)\n",
    "\n",
    "\n",
    "if np.all(delta_2 >= 0):\n",
    "    print(\"The stress curve is strictly convex.\")\n",
    "elif np.all(delta_2[:-1] >= -1e-6):\n",
    "    print(\"The curve is mostly convex (with minor noise).\")\n",
    "else:\n",
    "    print(\"The curve is not convex.\")\n"
   ]
  },
  {
   "cell_type": "code",
   "execution_count": 25,
   "metadata": {},
   "outputs": [
    {
     "data": {
      "image/png": "[encoded data removed]",
      "text/plain": [
       "<Figure size 640x480 with 1 Axes>"
      ]
     },
     "metadata": {},
     "output_type": "display_data"
    }
   ],
   "source": [
    "dims = list(range(1, len(stress_vals) + 1))\n",
    "\n",
    "knee = KneeLocator(dims, stress_vals, curve=\"convex\", direction=\"decreasing\")\n",
    "\n",
    "sns.lineplot(x=dims, y=stress_vals, marker='o', label=\"Stress\")\n",
    "\n",
    "plt.axvline(x=knee.knee, color='#FF6F91', linestyle='--', label=f\"Elbow at dimension {knee.knee}\")\n",
    "plt.title(\"MDS Stress vs. Dimensionality (with Elbow)\")\n",
    "plt.xlabel(\"Number of Dimensions\")\n",
    "plt.ylabel(\"Stress\")\n",
    "plt.legend()\n",
    "plt.tight_layout()\n",
    "plt.show()"
   ]
  },
  {
   "cell_type": "markdown",
   "metadata": {},
   "source": [
    "Using four dimensions seems to capture the structure of colexification relationships quite. <br> \n",
    "Although the stress curve doesn’t have a clear “elbow” point, there’s a noticeable change in slope around four dimensions.<br>\n",
    "This suggests that adding more dimensions after that gives only small improvements, so four is a good balance between simplicity and accuracy."
   ]
  }
 ],
 "metadata": {
  "kernelspec": {
   "display_name": "Python 3",
   "language": "python",
   "name": "python3"
  },
  "language_info": {
   "codemirror_mode": {
    "name": "ipython",
    "version": 3
   },
   "file_extension": ".py",
   "mimetype": "text/x-python",
   "name": "python",
   "nbconvert_exporter": "python",
   "pygments_lexer": "ipython3",
   "version": "3.11.9"
  }
 },
 "nbformat": 4,
 "nbformat_minor": 2
}
