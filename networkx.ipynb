{
 "cells": [
  {
   "cell_type": "code",
   "execution_count": 185,
   "metadata": {},
   "outputs": [],
   "source": [
    "from collections import defaultdict\n",
    "import networkx as nx\n",
    "from networkx import NetworkXError\n",
    "import pandas as pd\n",
    "from pyvis.network import Network\n",
    "from typing import Any\n",
    "\n",
    "from graph_utils import add_dynamic_legend\n",
    "from edge import Edge\n",
    "import settings"
   ]
  },
  {
   "cell_type": "markdown",
   "metadata": {},
   "source": [
    "## Load Dataframe"
   ]
  },
  {
   "cell_type": "code",
   "execution_count": 186,
   "metadata": {},
   "outputs": [
    {
     "data": {
      "text/html": [
       "<div>\n",
       "<style scoped>\n",
       "    .dataframe tbody tr th:only-of-type {\n",
       "        vertical-align: middle;\n",
       "    }\n",
       "\n",
       "    .dataframe tbody tr th {\n",
       "        vertical-align: top;\n",
       "    }\n",
       "\n",
       "    .dataframe thead th {\n",
       "        text-align: right;\n",
       "    }\n",
       "</style>\n",
       "<table border=\"1\" class=\"dataframe\">\n",
       "  <thead>\n",
       "    <tr style=\"text-align: right;\">\n",
       "      <th></th>\n",
       "      <th>word_and_gloss</th>\n",
       "      <th>language_and_translation</th>\n",
       "    </tr>\n",
       "  </thead>\n",
       "  <tbody>\n",
       "    <tr>\n",
       "      <th>0</th>\n",
       "      <td>free;;(social) unconstrained.;;not imprisoned or enslaved.</td>\n",
       "      <td>afrikaans;;vrye;;adj</td>\n",
       "    </tr>\n",
       "    <tr>\n",
       "      <th>1</th>\n",
       "      <td>free;;(social) unconstrained.;;not imprisoned or enslaved.</td>\n",
       "      <td>albanian;;lirë (i/e);;adj</td>\n",
       "    </tr>\n",
       "    <tr>\n",
       "      <th>2</th>\n",
       "      <td>free;;(social) unconstrained.;;not imprisoned or enslaved.</td>\n",
       "      <td>amharic;;ነፃ;;adj</td>\n",
       "    </tr>\n",
       "    <tr>\n",
       "      <th>3</th>\n",
       "      <td>free;;(social) unconstrained.;;not imprisoned or enslaved.</td>\n",
       "      <td>arabic;;حُرّ;;adj</td>\n",
       "    </tr>\n",
       "    <tr>\n",
       "      <th>4</th>\n",
       "      <td>free;;(social) unconstrained.;;not imprisoned or enslaved.</td>\n",
       "      <td>arabic;;حر;;adj</td>\n",
       "    </tr>\n",
       "    <tr>\n",
       "      <th>...</th>\n",
       "      <td>...</td>\n",
       "      <td>...</td>\n",
       "    </tr>\n",
       "    <tr>\n",
       "      <th>1188486</th>\n",
       "      <td>fawn response;;(psychology) an overadaptation in response to a traumatic event entailing needs and wants being succumbed to those of the threat actor.</td>\n",
       "      <td>finnish;;miellyttämisreaktio;;noun</td>\n",
       "    </tr>\n",
       "    <tr>\n",
       "      <th>1188487</th>\n",
       "      <td>fawn response;;(psychology) an overadaptation in response to a traumatic event entailing needs and wants being succumbed to those of the threat actor.</td>\n",
       "      <td>german;;bambi-reflex;;noun</td>\n",
       "    </tr>\n",
       "    <tr>\n",
       "      <th>1188488</th>\n",
       "      <td>fawn response;;(psychology) an overadaptation in response to a traumatic event entailing needs and wants being succumbed to those of the threat actor.</td>\n",
       "      <td>german;;unterwerfungsreaktion;;noun</td>\n",
       "    </tr>\n",
       "    <tr>\n",
       "      <th>1188489</th>\n",
       "      <td>one heart, one soul;;(philippines, catholicism) a saying that is said in every prayer, before the sign of the cross.</td>\n",
       "      <td>latin;;cor ūnum et anima ūna;;phrase</td>\n",
       "    </tr>\n",
       "    <tr>\n",
       "      <th>1188490</th>\n",
       "      <td>one heart, one soul;;(philippines, catholicism) a saying that is said in every prayer, before the sign of the cross.</td>\n",
       "      <td>tagalog;;isang puso, isang diwa;;phrase</td>\n",
       "    </tr>\n",
       "  </tbody>\n",
       "</table>\n",
       "<p>1188491 rows × 2 columns</p>\n",
       "</div>"
      ],
      "text/plain": [
       "                                                                                                                                                 word_and_gloss  \\\n",
       "0                                                                                                    free;;(social) unconstrained.;;not imprisoned or enslaved.   \n",
       "1                                                                                                    free;;(social) unconstrained.;;not imprisoned or enslaved.   \n",
       "2                                                                                                    free;;(social) unconstrained.;;not imprisoned or enslaved.   \n",
       "3                                                                                                    free;;(social) unconstrained.;;not imprisoned or enslaved.   \n",
       "4                                                                                                    free;;(social) unconstrained.;;not imprisoned or enslaved.   \n",
       "...                                                                                                                                                         ...   \n",
       "1188486  fawn response;;(psychology) an overadaptation in response to a traumatic event entailing needs and wants being succumbed to those of the threat actor.   \n",
       "1188487  fawn response;;(psychology) an overadaptation in response to a traumatic event entailing needs and wants being succumbed to those of the threat actor.   \n",
       "1188488  fawn response;;(psychology) an overadaptation in response to a traumatic event entailing needs and wants being succumbed to those of the threat actor.   \n",
       "1188489                                    one heart, one soul;;(philippines, catholicism) a saying that is said in every prayer, before the sign of the cross.   \n",
       "1188490                                    one heart, one soul;;(philippines, catholicism) a saying that is said in every prayer, before the sign of the cross.   \n",
       "\n",
       "                        language_and_translation  \n",
       "0                           afrikaans;;vrye;;adj  \n",
       "1                      albanian;;lirë (i/e);;adj  \n",
       "2                               amharic;;ነፃ;;adj  \n",
       "3                              arabic;;حُرّ;;adj  \n",
       "4                                arabic;;حر;;adj  \n",
       "...                                          ...  \n",
       "1188486       finnish;;miellyttämisreaktio;;noun  \n",
       "1188487               german;;bambi-reflex;;noun  \n",
       "1188488      german;;unterwerfungsreaktion;;noun  \n",
       "1188489     latin;;cor ūnum et anima ūna;;phrase  \n",
       "1188490  tagalog;;isang puso, isang diwa;;phrase  \n",
       "\n",
       "[1188491 rows x 2 columns]"
      ]
     },
     "execution_count": 186,
     "metadata": {},
     "output_type": "execute_result"
    }
   ],
   "source": [
    "df = pd.read_parquet(\"cleaned_dataframe.parquet\", engine=\"pyarrow\")\n",
    "df"
   ]
  },
  {
   "cell_type": "markdown",
   "metadata": {},
   "source": [
    "## Filter Dataframe \n",
    "### Keep languages with at least 40 translations and keep only translations that appear more than once."
   ]
  },
  {
   "cell_type": "code",
   "execution_count": 187,
   "metadata": {},
   "outputs": [
    {
     "data": {
      "text/html": [
       "<div>\n",
       "<style scoped>\n",
       "    .dataframe tbody tr th:only-of-type {\n",
       "        vertical-align: middle;\n",
       "    }\n",
       "\n",
       "    .dataframe tbody tr th {\n",
       "        vertical-align: top;\n",
       "    }\n",
       "\n",
       "    .dataframe thead th {\n",
       "        text-align: right;\n",
       "    }\n",
       "</style>\n",
       "<table border=\"1\" class=\"dataframe\">\n",
       "  <thead>\n",
       "    <tr style=\"text-align: right;\">\n",
       "      <th></th>\n",
       "      <th>word_and_gloss</th>\n",
       "      <th>language_and_translation</th>\n",
       "    </tr>\n",
       "  </thead>\n",
       "  <tbody>\n",
       "    <tr>\n",
       "      <th>0</th>\n",
       "      <td>free;;(social) unconstrained.;;not imprisoned or enslaved.</td>\n",
       "      <td>afrikaans;;vrye;;adj</td>\n",
       "    </tr>\n",
       "    <tr>\n",
       "      <th>1</th>\n",
       "      <td>free;;(social) unconstrained.;;not imprisoned or enslaved.</td>\n",
       "      <td>albanian;;lirë (i/e);;adj</td>\n",
       "    </tr>\n",
       "    <tr>\n",
       "      <th>2</th>\n",
       "      <td>free;;(social) unconstrained.;;not imprisoned or enslaved.</td>\n",
       "      <td>amharic;;ነፃ;;adj</td>\n",
       "    </tr>\n",
       "    <tr>\n",
       "      <th>3</th>\n",
       "      <td>free;;(social) unconstrained.;;not imprisoned or enslaved.</td>\n",
       "      <td>arabic;;حُرّ;;adj</td>\n",
       "    </tr>\n",
       "    <tr>\n",
       "      <th>4</th>\n",
       "      <td>free;;(social) unconstrained.;;not imprisoned or enslaved.</td>\n",
       "      <td>arabic;;حر;;adj</td>\n",
       "    </tr>\n",
       "    <tr>\n",
       "      <th>...</th>\n",
       "      <td>...</td>\n",
       "      <td>...</td>\n",
       "    </tr>\n",
       "    <tr>\n",
       "      <th>550348</th>\n",
       "      <td>call the fire department;;(us) call the emergency service that specializes in extinguishing fires.</td>\n",
       "      <td>tagalog;;tawag ka ng bumbero;;phrase</td>\n",
       "    </tr>\n",
       "    <tr>\n",
       "      <th>550349</th>\n",
       "      <td>call the fire department;;(us) call the emergency service that specializes in extinguishing fires.</td>\n",
       "      <td>turkish;;itfaiyeyi çağırin;;phrase</td>\n",
       "    </tr>\n",
       "    <tr>\n",
       "      <th>550350</th>\n",
       "      <td>call the fire department;;(us) call the emergency service that specializes in extinguishing fires.</td>\n",
       "      <td>turkish;;itfaiyeyi çağır;;phrase</td>\n",
       "    </tr>\n",
       "    <tr>\n",
       "      <th>550351</th>\n",
       "      <td>call the fire department;;(us) call the emergency service that specializes in extinguishing fires.</td>\n",
       "      <td>ukrainian;;ви́кличте поже́жників;;phrase</td>\n",
       "    </tr>\n",
       "    <tr>\n",
       "      <th>550352</th>\n",
       "      <td>call the fire department;;(us) call the emergency service that specializes in extinguishing fires.</td>\n",
       "      <td>welsh;;galwch yr brigâd dân;;phrase</td>\n",
       "    </tr>\n",
       "  </tbody>\n",
       "</table>\n",
       "<p>550353 rows × 2 columns</p>\n",
       "</div>"
      ],
      "text/plain": [
       "                                                                                            word_and_gloss  \\\n",
       "0                                               free;;(social) unconstrained.;;not imprisoned or enslaved.   \n",
       "1                                               free;;(social) unconstrained.;;not imprisoned or enslaved.   \n",
       "2                                               free;;(social) unconstrained.;;not imprisoned or enslaved.   \n",
       "3                                               free;;(social) unconstrained.;;not imprisoned or enslaved.   \n",
       "4                                               free;;(social) unconstrained.;;not imprisoned or enslaved.   \n",
       "...                                                                                                    ...   \n",
       "550348  call the fire department;;(us) call the emergency service that specializes in extinguishing fires.   \n",
       "550349  call the fire department;;(us) call the emergency service that specializes in extinguishing fires.   \n",
       "550350  call the fire department;;(us) call the emergency service that specializes in extinguishing fires.   \n",
       "550351  call the fire department;;(us) call the emergency service that specializes in extinguishing fires.   \n",
       "550352  call the fire department;;(us) call the emergency service that specializes in extinguishing fires.   \n",
       "\n",
       "                        language_and_translation  \n",
       "0                           afrikaans;;vrye;;adj  \n",
       "1                      albanian;;lirë (i/e);;adj  \n",
       "2                               amharic;;ነፃ;;adj  \n",
       "3                              arabic;;حُرّ;;adj  \n",
       "4                                arabic;;حر;;adj  \n",
       "...                                          ...  \n",
       "550348      tagalog;;tawag ka ng bumbero;;phrase  \n",
       "550349        turkish;;itfaiyeyi çağırin;;phrase  \n",
       "550350          turkish;;itfaiyeyi çağır;;phrase  \n",
       "550351  ukrainian;;ви́кличте поже́жників;;phrase  \n",
       "550352       welsh;;galwch yr brigâd dân;;phrase  \n",
       "\n",
       "[550353 rows x 2 columns]"
      ]
     },
     "execution_count": 187,
     "metadata": {},
     "output_type": "execute_result"
    }
   ],
   "source": [
    "# Count trasnaltions per language\n",
    "language_counts = df['word_and_gloss'].value_counts()\n",
    "\n",
    "# filter languages with at least 40 translations\n",
    "languages_to_keep = language_counts[language_counts >= settings.MIN_LANGUAGE_COUNT].index\n",
    "\n",
    "# keep rows with filteres languages\n",
    "df_filtered = df[df['word_and_gloss'].isin(languages_to_keep)]\n",
    "\n",
    "df_filtered.reset_index(drop = True, inplace=True)\n",
    "df_filtered"
   ]
  },
  {
   "cell_type": "code",
   "execution_count": 188,
   "metadata": {},
   "outputs": [
    {
     "data": {
      "text/html": [
       "<div>\n",
       "<style scoped>\n",
       "    .dataframe tbody tr th:only-of-type {\n",
       "        vertical-align: middle;\n",
       "    }\n",
       "\n",
       "    .dataframe tbody tr th {\n",
       "        vertical-align: top;\n",
       "    }\n",
       "\n",
       "    .dataframe thead th {\n",
       "        text-align: right;\n",
       "    }\n",
       "</style>\n",
       "<table border=\"1\" class=\"dataframe\">\n",
       "  <thead>\n",
       "    <tr style=\"text-align: right;\">\n",
       "      <th></th>\n",
       "      <th>word_and_gloss</th>\n",
       "      <th>language_and_translation</th>\n",
       "    </tr>\n",
       "  </thead>\n",
       "  <tbody>\n",
       "    <tr>\n",
       "      <th>0</th>\n",
       "      <td>free;;(social) unconstrained.;;not imprisoned or enslaved.</td>\n",
       "      <td>arabic;;حُرّ;;adj</td>\n",
       "    </tr>\n",
       "    <tr>\n",
       "      <th>1</th>\n",
       "      <td>free;;(social) unconstrained.;;not imprisoned or enslaved.</td>\n",
       "      <td>armenian;;ազատ;;adj</td>\n",
       "    </tr>\n",
       "    <tr>\n",
       "      <th>2</th>\n",
       "      <td>free;;(social) unconstrained.;;not imprisoned or enslaved.</td>\n",
       "      <td>assamese;;মুকলি;;adj</td>\n",
       "    </tr>\n",
       "    <tr>\n",
       "      <th>3</th>\n",
       "      <td>free;;(social) unconstrained.;;not imprisoned or enslaved.</td>\n",
       "      <td>asturian;;llibre;;adj</td>\n",
       "    </tr>\n",
       "    <tr>\n",
       "      <th>4</th>\n",
       "      <td>free;;(social) unconstrained.;;not imprisoned or enslaved.</td>\n",
       "      <td>azerbaijani;;azad;;adj</td>\n",
       "    </tr>\n",
       "    <tr>\n",
       "      <th>...</th>\n",
       "      <td>...</td>\n",
       "      <td>...</td>\n",
       "    </tr>\n",
       "    <tr>\n",
       "      <th>119553</th>\n",
       "      <td>shaitan;;(islam) iblis, satan.</td>\n",
       "      <td>turkish;;şeytan;;name</td>\n",
       "    </tr>\n",
       "    <tr>\n",
       "      <th>119554</th>\n",
       "      <td>shaitan;;(islam) iblis, satan.</td>\n",
       "      <td>turkmen;;şeýtan;;name</td>\n",
       "    </tr>\n",
       "    <tr>\n",
       "      <th>119555</th>\n",
       "      <td>shaitan;;(islam) iblis, satan.</td>\n",
       "      <td>urdu;;شَیطان;;name</td>\n",
       "    </tr>\n",
       "    <tr>\n",
       "      <th>119556</th>\n",
       "      <td>shaitan;;(islam) iblis, satan.</td>\n",
       "      <td>uyghur;;شەيتان;;name</td>\n",
       "    </tr>\n",
       "    <tr>\n",
       "      <th>119557</th>\n",
       "      <td>shaitan;;(islam) iblis, satan.</td>\n",
       "      <td>uzbek;;shayton;;name</td>\n",
       "    </tr>\n",
       "  </tbody>\n",
       "</table>\n",
       "<p>119558 rows × 2 columns</p>\n",
       "</div>"
      ],
      "text/plain": [
       "                                                    word_and_gloss  \\\n",
       "0       free;;(social) unconstrained.;;not imprisoned or enslaved.   \n",
       "1       free;;(social) unconstrained.;;not imprisoned or enslaved.   \n",
       "2       free;;(social) unconstrained.;;not imprisoned or enslaved.   \n",
       "3       free;;(social) unconstrained.;;not imprisoned or enslaved.   \n",
       "4       free;;(social) unconstrained.;;not imprisoned or enslaved.   \n",
       "...                                                            ...   \n",
       "119553                              shaitan;;(islam) iblis, satan.   \n",
       "119554                              shaitan;;(islam) iblis, satan.   \n",
       "119555                              shaitan;;(islam) iblis, satan.   \n",
       "119556                              shaitan;;(islam) iblis, satan.   \n",
       "119557                              shaitan;;(islam) iblis, satan.   \n",
       "\n",
       "       language_and_translation  \n",
       "0             arabic;;حُرّ;;adj  \n",
       "1           armenian;;ազատ;;adj  \n",
       "2          assamese;;মুকলি;;adj  \n",
       "3         asturian;;llibre;;adj  \n",
       "4        azerbaijani;;azad;;adj  \n",
       "...                         ...  \n",
       "119553    turkish;;şeytan;;name  \n",
       "119554    turkmen;;şeýtan;;name  \n",
       "119555       urdu;;شَیطان;;name  \n",
       "119556     uyghur;;شەيتان;;name  \n",
       "119557     uzbek;;shayton;;name  \n",
       "\n",
       "[119558 rows x 2 columns]"
      ]
     },
     "execution_count": 188,
     "metadata": {},
     "output_type": "execute_result"
    }
   ],
   "source": [
    "translation_counts = df_filtered[\"language_and_translation\"].value_counts()\n",
    "\n",
    "# filter translations that appear more than once\n",
    "translations_to_keep = translation_counts[translation_counts > 1].index\n",
    "\n",
    "df_filtered = df_filtered[df_filtered['language_and_translation'].isin(translations_to_keep)]\n",
    "\n",
    "df_filtered.reset_index(drop = True, inplace=True)\n",
    "pd.set_option(\"display.max_rows\", 20)\n",
    "pd.set_option('display.max_colwidth', None)\n",
    "df_filtered"
   ]
  },
  {
   "cell_type": "code",
   "execution_count": 189,
   "metadata": {},
   "outputs": [
    {
     "data": {
      "text/plain": [
       "array(['arabic;;حُرّ;;adj', 'armenian;;ազատ;;adj', 'assamese;;মুকলি;;adj',\n",
       "       ..., 'spanish;;aguar;;verb', 'swedish;;vattna;;verb',\n",
       "       'portuguese;;dígito;;noun'], dtype=object)"
      ]
     },
     "execution_count": 189,
     "metadata": {},
     "output_type": "execute_result"
    }
   ],
   "source": [
    "unique_lang_and_trans = df_filtered[\"language_and_translation\"].unique()\n",
    "unique_lang_and_trans"
   ]
  },
  {
   "cell_type": "code",
   "execution_count": 190,
   "metadata": {},
   "outputs": [
    {
     "data": {
      "text/plain": [
       "51999"
      ]
     },
     "execution_count": 190,
     "metadata": {},
     "output_type": "execute_result"
    }
   ],
   "source": [
    "df_filtered[\"language_and_translation\"].nunique()"
   ]
  },
  {
   "cell_type": "markdown",
   "metadata": {},
   "source": [
    "## Create a Concept Map where each concept has their correspoinding Language, Translation and POS.\n",
    "## Create a Concept List with all Concepts."
   ]
  },
  {
   "cell_type": "code",
   "execution_count": 191,
   "metadata": {},
   "outputs": [
    {
     "name": "stdout",
     "output_type": "stream",
     "text": [
      "59 | free;;(social) unconstrained.;;not imprisoned or enslaved. | {'norman;;libre;;adj', 'latvian;;brīvs;;adj', 'persian;;آزاد;;adj', 'korean;;자유;;adj', 'bambara;;hɔrɔn;;adj', 'catalan;;lliure;;adj', 'occitan;;liure;;adj', 'northern kurdish;;azad;;adj', 'polish;;swobodny;;adj', 'hungarian;;szabad;;adj', 'slovak;;slobodný;;adj', 'serbo-croatian;;slobodan;;adj', 'zazaki;;xoser;;adj', 'swedish;;fri;;adj', 'polish;;wolny;;adj', 'dutch;;vrij;;adj', 'macedonian;;слободен;;adj', 'zazaki;;azad (diq);;adj', 'italian;;libero;;adj', 'turkish;;özgür;;adj', 'hebrew;;חָפְשִׁי;;adj', 'galician;;libre;;adj', 'interlingua;;libere;;adj', 'scottish gaelic;;saor;;adj', 'estonian;;vaba;;adj', 'armenian;;ազատ;;adj', 'spanish;;libre;;adj', 'romanian;;liber;;adj', 'low german;;free;;adj', 'arabic;;حُرّ;;adj', 'greek;;ελεύθερος;;adj', 'icelandic;;frjáls;;adj', 'hebrew;;חופשי;;adj', 'japanese;;自由;;adj', 'northern kurdish;;serbest;;adj', 'limburgish;;vrie;;adj', 'portuguese;;livre;;adj', 'esperanto;;libera;;adj', 'ido;;libera;;adj', 'indonesian;;bebas;;adj', 'old irish;;sóer;;adj', 'czech;;volný;;adj', 'assamese;;মুকলি;;adj', 'german;;frei;;adj', 'asturian;;llibre;;adj', 'czech;;svobodný;;adj', 'malay;;bebas;;adj', 'malayalam;;സ്വതന്ത്രം;;adj', 'yiddish;;פֿרײַ;;adj', 'chinese mandarin;;自由的;;adj', 'bashkir;;ирекле;;adj', 'finnish;;vapaa;;adj', 'norwegian;;fri;;adj', 'old english;;frēo;;adj', 'russian;;свобо́дный;;adj', 'irish;;saor;;adj', 'french;;libre;;adj', 'danish;;fri;;adj', 'azerbaijani;;azad;;adj'}\n",
      "117 | trade;;(uncountable) buying and selling of goods and services on a market. | {'vietnamese;;thương mại;;noun', 'northern kurdish;;sewda;;noun', 'belarusian;;каме́рцыя;;noun', 'catalan;;comerç;;noun', 'thai;;การค้า;;noun', 'ingrian;;kauppa;;noun', 'indonesian;;perdagangan;;noun', 'finnish;;kaupankäynti;;noun', 'amharic;;ንግድ;;noun', 'korean;;상업;;noun', 'ancient greek;;ἐμπορία;;noun', 'tagalog;;kalakalan;;noun', 'yiddish;;האַנדל;;noun', 'khmer;;វណិជ្ជា;;noun', 'bengali;;বাণিজ্য;;noun', 'turkish;;alım satım;;noun', 'hebrew;;מִסְחָר;;noun', 'german;;handel;;noun', 'lao;;ທຸລະກິດ;;noun', 'estonian;;kaubandus;;noun', 'lithuanian;;prekyba;;noun', 'lithuanian;;komercija;;noun', 'hebrew;;סַחַר;;noun', 'burmese;;ဝါဏိဇ္ဇ;;noun', 'bengali;;তেজারত;;noun', 'tajik;;савдо;;noun', 'kazakh;;коммерция;;noun', 'slovene;;trgovina;;noun', 'uyghur;;سودا;;noun', 'uyghur;;تىجارەت;;noun', 'thai;;พาณิชย์;;noun', 'finnish;;kauppa;;noun', 'chinese mandarin;;貿易 /贸易;;noun', 'czech;;obchod;;noun', 'irish;;tráchtáil;;noun', 'lao;;ການຄ້າ;;noun', 'russian;;комме́рция;;noun', 'tajik;;тиҷорат;;noun', 'vietnamese;;thương nghiệp;;noun', 'japanese;;貿易;;noun', 'galician;;comercio;;noun', 'romanian;;comerț;;noun', 'norwegian bokmål;;handel;;noun', 'uzbek;;savdo;;noun', 'chinese mandarin;;交易;;noun', 'portuguese;;comércio;;noun', 'middle english;;chaffare;;noun', 'tagalog;;baliwasan;;noun', 'ottoman turkish;;تجارت;;noun', 'arabic;;تِجَارَة;;noun', 'belarusian;;га́ндаль;;noun', 'latin;;commercium;;noun', 'vietnamese;;sự buôn bán;;noun', 'korean;;거래;;noun', 'malay;;perdagangan;;noun', 'hindi;;व्यवसाय;;noun', 'hungarian;;kereskedelem;;noun', 'icelandic;;verslun;;noun', 'japanese;;交易;;noun', 'khmer;;ពាណិជ្ជកម្ម;;noun', 'danish;;handel;;noun', 'serbo-croatian;;trgòvina;;noun', 'macedonian;;комерција;;noun', 'pali;;vaṇijjā;;noun', 'latvian;;komercija;;noun', 'latvian;;tirdzniecība;;noun', 'dutch;;commercie;;noun', 'french;;commerce;;noun', 'greek;;εμπόριο;;noun', 'swahili;;biashara;;noun', 'slovak;;obchod;;noun', 'azerbaijani;;alver;;noun', 'khmer;;ពាណិជ្ជ;;noun', 'macedonian;;трговија;;noun', 'bulgarian;;търго́вия;;noun', 'maltese;;kummerċ;;noun', 'dutch;;handel;;noun', 'norwegian nynorsk;;handel;;noun', 'kyrgyz;;коммерция;;noun', 'uzbek;;kommersiya;;noun', 'hindi;;वाणिज्य;;noun', 'malayalam;;വ്യാപാരം;;noun', 'mongolian;;худалдаа;;noun', 'kazakh;;сауда;;noun', 'tatar;;сәүдә;;noun', 'ukrainian;;коме́рція;;noun', 'serbo-croatian;;трго̀вина;;noun', 'hindi;;व्यापार;;noun', 'belarusian;;тарго́ўля;;noun', 'galician;;trato;;noun', 'burmese;;အရောင်းအဝယ်;;noun', 'swedish;;handel;;noun', 'burmese;;ကုန်သွယ်ရေး;;noun', 'italian;;commercio;;noun', 'bashkir;;сауҙа;;noun', 'sanskrit;;वाणिज्य;;noun', 'polish;;handel;;noun', 'tocharian b;;karyor;;noun', 'afrikaans;;ruil;;noun', 'azerbaijani;;ticarət;;noun', 'korean;;무역;;noun', 'esperanto;;komerco;;noun', 'german;;kommerz;;noun', 'turkmen;;söwda;;noun', 'spanish;;comercio;;noun', 'georgian;;ვაჭრობა;;noun', 'afrikaans;;handel;;noun', 'kyrgyz;;соода;;noun', 'pashto;;تجارت;;noun', 'turkish;;ticaret;;noun', 'japanese;;商業;;noun', 'korean;;교역;;noun', 'ukrainian;;торгі́вля;;noun', 'albanian;;tregti;;noun', 'russian;;торго́вля;;noun', 'thai;;ธุรกิจ;;noun', 'uzbek;;tijorat;;noun'}\n",
      "124 | cunt;;(vulgar, countable) the female genitalia, especially the vulva. | {'serbo-croatian;;минџа;;noun', 'spanish;;coño;;noun', 'faroese;;kunta;;noun', 'turkish;;am;;noun', 'javanese;;turuk;;noun', 'thai;;จิ๋ม;;noun', 'czech;;pizda;;noun', 'slovene;;pizda;;noun', 'russian;;пизда́;;noun', 'indonesian;;meki;;noun', 'spanish;;chucha;;noun', 'spanish;;concha;;noun', 'danish;;fisse;;noun', 'norwegian bokmål;;mus;;noun', 'thai;;หอย;;noun', 'persian;;کس;;noun', 'czech;;píča;;noun', 'bulgarian;;пу́тка;;noun', 'serbo-croatian;;mindža;;noun', 'slovak;;kunda;;noun', 'belarusian;;пізда́;;noun', 'spanish;;cuca;;noun', 'irish;;pit;;noun', 'latin;;cunnus;;noun', 'galician;;crica;;noun', 'vietnamese;;lồn;;noun', 'hindi;;योनी;;noun', 'azerbaijani;;am;;noun', 'chinese mandarin;;屄;;noun', 'polish;;cipsko;;noun', 'afrikaans;;poes;;noun', 'slovak;;pizda;;noun', 'malay;;puki;;noun', 'chinese;;膣屄;;noun', 'portuguese;;cona;;noun', 'middle english;;quoniam;;noun', 'polish;;pizda;;noun', 'arabic;;كِس;;noun', 'afrikaans;;doos;;noun', 'swedish;;fitta;;noun', 'albanian;;pidh;;noun', 'scottish gaelic;;pit;;noun', 'french;;con;;noun', 'volapük;;kunud;;noun', 'japanese;;まんこ;;noun', 'hindi;;चूत;;noun', 'estonian;;vitt;;noun', 'danish;;kusse;;noun', 'khmer;;កណ្ដួយ;;noun', 'polish;;cipa;;noun', 'serbo-croatian;;pizda;;noun', 'bikol central;;buray;;noun', 'kyrgyz;;ам;;noun', 'norwegian bokmål;;fitte;;noun', 'hungarian;;pina;;noun', 'faroese;;pill;;noun', 'greek;;μουνί;;noun', 'ukrainian;;пі́ська;;noun', 'spanish;;chocho;;noun', 'neapolitan;;purchiacca;;noun', 'serbo-croatian;;пица;;noun', 'estonian;;tuss;;noun', 'latvian;;peža;;noun', 'korean;;보지;;noun', 'albanian;;piçkë;;noun', 'estonian;;puts;;noun', 'lithuanian;;pyzda;;noun', 'german;;muschi;;noun', 'armenian;;պուց;;noun', 'macedonian;;минџа;;noun', 'welsh;;cont;;noun', 'georgian;;მუტელი;;noun', 'afrikaans;;kont;;noun', 'french;;chatte;;noun', 'azerbaijani;;amcıq;;noun', 'japanese;;おまんこ;;noun', 'norwegian nynorsk;;fitte;;noun', 'serbo-croatian;;pička;;noun', 'greenlandic;;utsuk;;noun', 'serbo-croatian;;пизда;;noun', 'romanian;;pizdă;;noun', 'serbo-croatian;;пичка;;noun', 'neapolitan;;pucchiacca;;noun', 'portuguese;;boceta;;noun', 'lao;;ຫີ;;noun', 'macedonian;;пичка;;noun', 'icelandic;;píka;;noun', 'catalan;;cony;;noun', 'german;;möse;;noun', 'russian;;пи́ська;;noun', 'indonesian;;tempik;;noun', 'lithuanian;;putė;;noun', 'esperanto;;piĉo;;noun', 'faroese;;lall;;noun', 'turkish;;amcık;;noun', 'italian;;figa;;noun', 'german;;fotze;;noun', 'thai;;หี;;noun', 'czech;;kunda;;noun', 'indonesian;;memek;;noun', 'korean;;씹;;noun', 'javanese;;tempik;;noun', 'norwegian nynorsk;;mus;;noun', 'italian;;fregna;;noun', 'northern sami;;cinˈná;;noun', 'maltese;;għoxx;;noun', 'ukrainian;;пизда́;;noun', 'urdu;;چوت;;noun', 'italian;;fica;;noun', 'serbo-croatian;;pica;;noun', 'finnish;;vittu;;noun', 'javanese;;bawuk;;noun', 'galician;;cona;;noun', 'kazakh;;ам;;noun', 'slovak;;piča;;noun', 'dutch;;kut;;noun', 'faroese;;kusa;;noun', 'arabic;;كُس;;noun', 'uzbek;;am;;noun', 'russian;;манда́;;noun', 'yiddish;;פּירגע;;noun', 'turkmen;;am;;noun', 'macedonian;;слива;;noun', 'slovene;;pička;;noun'}\n",
      "125 | world;;(with \"the\") the earth, especially in a geopolitical or cultural context, or as the physical planet. | {'ancient greek;;κόσμος;;noun', 'hindi;;संसार;;noun', 'estonian;;maailm;;noun', 'norwegian bokmål;;verden;;noun', 'sinhalese;;ලෝකය;;noun', 'korean;;세계;;noun', 'uzbek;;dunyo;;noun', 'ancient greek;;γῆ;;noun', 'yakut;;аан дойду;;noun', 'armenian;;աշխարհ;;noun', 'norwegian nynorsk;;verd;;noun', 'bengali;;দুনিয়া;;noun', 'czech;;svět;;noun', 'urdu;;دُنْیا;;noun', 'japanese;;世界;;noun', 'sicilian;;terra;;noun', 'french;;terre;;noun', 'malay;;dunia;;noun', 'sindhi;;دنيا;;noun', 'macedonian;;свет;;noun', 'west frisian;;wrâld;;noun', 'punjabi;;ਦੁਨੀਆ;;noun', 'asturian;;tierra;;noun', 'swedish;;värld;;noun', 'norwegian nynorsk;;klode;;noun', 'yiddish;;וועלט;;noun', 'hungarian;;világ;;noun', 'turkmen;;dünýä;;noun', 'hebrew;;עוֹלָם;;noun', 'ukrainian;;світ;;noun', 'catalan;;món;;noun', 'german;;welt;;noun', 'serbo-croatian;;све̑т;;noun', 'russian;;мир;;noun', 'latvian;;pasaule;;noun', 'middle english;;world;;noun', 'khmer;;ពិភពលោក;;noun', 'hakka chinese;;世界;;noun', 'portuguese;;mundo;;noun', 'chinese;;世界;;noun', 'finnish;;maa;;noun', 'esperanto;;mondo;;noun', 'interlingua;;mundo;;noun', 'latin;;mundus;;noun', 'tamil;;பார்;;noun', 'arabic;;عَالَم;;noun', 'central kurdish;;دنیا;;noun', 'hindi;;आलम;;noun', 'polish;;świat;;noun', 'occitan;;mond;;noun', 'maori;;ao;;noun', 'walloon;;monde;;noun', 'asturian;;mundu;;noun', 'welsh;;byd;;noun', 'romanian;;pământ;;noun', 'norwegian bokmål;;klode;;noun', 'serbo-croatian;;svijȇt;;noun', 'serbo-croatian;;свије̑т;;noun', 'greek;;κόσμος;;noun', 'ladino;;mundo;;noun', 'basque;;mundu;;noun', 'cornish;;bys;;noun', 'bengali;;জাহান;;noun', 'hindi;;भूमि;;noun', 'finnish;;maailma;;noun', 'iranian persian;;جَهان;;noun', 'norwegian bokmål;;verd;;noun', 'scottish gaelic;;saoghal;;noun', 'galician;;mundo;;noun', 'cornish;;bes;;noun', 'scots;;warld;;noun', 'zazaki;;erd (diq);;noun', 'lao;;ໂລກ;;noun', 'friulian;;mond;;noun', 'old irish;;domun;;noun', 'breton;;bed;;noun', 'northern kurdish;;dinya;;noun', 'tamil;;உலகம்;;noun', 'georgian;;მსოფლიო;;noun', 'turkish;;acun;;noun', 'low german;;werld;;noun', 'catalan;;terra;;noun', 'lower sorbian;;swět;;noun', 'dutch;;wereld;;noun', 'danish;;verden;;noun', 'turkish;;yeryüzü;;noun', 'hindi;;जहान;;noun', 'russian;;свет;;noun', 'german;;erde;;noun', 'bavarian;;wöd;;noun', 'hindi;;दुनिया;;noun', 'chinese mandarin;;世界;;noun', 'tarifit;;ddunya;;noun', 'turkish;;dünya;;noun', 'spanish;;mundo;;noun', 'italian;;mondo;;noun', 'tamil;;ஞாலம்;;noun', 'uyghur;;دۇنيا;;noun', 'romanian;;lume;;noun', 'dutch;;aarde;;noun', 'cebuano;;kalibotan;;noun', 'turkish;;cihan;;noun', 'marathi;;जग;;noun', 'west frisian;;ierde;;noun', 'romansch;;mund;;noun', 'lithuanian;;pasaulis;;noun', \"chickasaw;;yaakni';;noun\", 'punjabi;;دُنِیا;;noun', 'quechua;;paca;;noun', 'urdu;;دُنِیا;;noun', 'burmese;;ကမ္ဘာ;;noun', 'sicilian;;munnu;;noun', 'dhivehi;;ދުނިޔެ;;noun', 'bengali;;আলম;;noun', 'chinese cantonese;;世界;;noun', 'indonesian;;dunia;;noun', 'old spanish;;mundo;;noun', 'afrikaans;;aarde;;noun', 'thai;;โลก;;noun', 'uzbek;;jahon;;noun', 'aragonese;;mundo;;noun', 'serbo-croatian;;svȇt;;noun', 'ido;;mondo;;noun', 'spanish;;tierra;;noun', 'chuvash;;ҫӗр;;noun'}\n",
      "162 | say;;(transitive) to pronounce.  | {'higaonon;;ikagi;;verb', 'kyrgyz;;айтуу;;verb', 'finnish;;kertoa;;verb', 'romanian;;zice;;verb', 'northern kurdish;;gotin;;verb', 'lao;;ເວົ້າ;;verb', 'walloon;;dire;;verb', 'japanese;;言う;;verb', 'arabic;;حكى;;verb', 'eastern min chinese;;講 /讲;;verb', 'turkish;;söylemek;;verb', 'uyghur;;دېمەك;;verb', 'afrikaans;;sê;;verb', 'tatar;;әйтергә;;verb', 'slovak;;povedať;;verb', 'polish;;mówić;;verb', 'serbo-croatian;;kázati;;verb', 'ukrainian;;каза́ти;;verb', 'hebrew;;אָמַר;;verb', 'serbo-croatian;;ка́зати;;verb', 'japanese;;申す;;verb', 'czech;;říct;;verb', 'esperanto;;diri;;verb', 'chinese mandarin;;說 /说;;verb', 'armenian;;ասել;;verb', 'bulgarian;;ка́жа;;verb', 'nepali;;भन्नु;;verb', 'irish;;abair;;verb', 'tocharian b;;we-;;verb', 'nanai;;ун-;;verb', 'uzbek;;demoq;;verb', 'assamese;;ক;;verb', 'khmer;;ថា;;verb', 'polish;;powiedzieć;;verb', 'kazakh;;деу;;verb', 'evenki;;гунми;;verb', 'latin;;dico;;verb', 'gothic;;𐌵𐌹𐌸𐌰𐌽;;verb', 'cornish;;leverel;;verb', 'urdu;;کَہْنا;;verb', 'slovak;;hovoriť;;verb', 'bashkir;;тейеү;;verb', 'chickasaw;;aachi;;verb', 'chinese mandarin;;告訴 /告诉;;verb', 'lao;;ກ່າວ;;verb', 'old east slavic;;говорити;;verb', 'pannonian rusyn;;гуториц;;verb', 'ukrainian;;сказа́ти;;verb', 'bashkir;;әйтеү;;verb', 'albanian;;them;;verb', 'polish;;rzec;;verb', 'serbo-croatian;;гово̀рити;;verb', 'estonian;;ütlema;;verb', 'belarusian;;каза́ць;;verb', 'spanish;;decir;;verb', 'romanian;;spune;;verb', 'japanese;;語る;;verb', 'friulian;;dî;;verb', 'zhuang;;gangj;;verb', 'chinese cantonese;;講 /讲;;verb', 'odia;;କହିବା;;verb', 'marathi;;म्हणणे;;verb', 'sardinian;;faeddare;;verb', 'turkish;;demek;;verb', 'norwegian bokmål;;si;;verb', 'belarusian;;сказа́ць;;verb', 'danish;;sige;;verb', 'lithuanian;;sakyti;;verb', 'azerbaijani;;demək;;verb', 'hindi;;कहना;;verb', 'cherokee;;ꮒꭶꮺꭰ;;verb', 'czech;;říkat;;verb', 'bengali;;বলা;;verb', 'icelandic;;segja;;verb', 'lower sorbian;;groniś;;verb', 'ancient greek;;λέγω;;verb', 'dutch;;luiden;;verb', 'sundanese;;carios;;verb', 'khmer;;និយាយ;;verb', 'latin;;for;;verb', 'old english;;secgan;;verb', 'berber tashelhit;;ini;;verb', 'portuguese;;dizer;;verb', 'serbo-croatian;;rȅći;;verb', 'chinese;;講 /讲;;verb', 'aromanian;;spun;;verb', 'mongolian;;хэлэх;;verb', 'iranian persian;;گُفْتَن;;verb', 'old irish;;as·beir;;verb', 'norwegian nynorsk;;seie;;verb', 'slovene;;povedati;;verb', 'egyptian;;d:d;;verb', 'latin;;proloquor;;verb', 'russian;;говори́ть;;verb', 'korean;;말씀하다;;verb', 'hungarian;;mond;;verb', 'portuguese;;falar;;verb', 'macedonian;;кажува;;verb', 'nepali;;बोल्नु;;verb', 'aromanian;;dzãc;;verb', 'pashto;;اظهارول;;verb', 'cornish;;lawl;;verb', 'interlingua;;dicer;;verb', 'norman;;dithe;;verb', 'georgian;;ლაპარაკი;;verb', 'macedonian;;каже;;verb', 'uzbek;;gapirmoq;;verb', 'vietnamese;;nói;;verb', 'swedish;;säga;;verb', 'serbo-croatian;;ре̏ћи;;verb', 'tatar;;дияргә;;verb', 'indonesian;;bicara;;verb', 'tajik;;гуфтан;;verb', 'latvian;;teikt;;verb', 'sanskrit;;भाषते;;verb', 'kashmiri;;دَپُن;;verb', 'manx;;abbyr;;verb', 'persian;;dari گُفْتَن;;verb', 'burmese;;ပြော;;verb', 'malay;;kata;;verb', 'german;;säge;;verb', 'french;;dire;;verb', 'wu chinese;;講 /讲;;verb', 'italian;;dire;;verb', 'javanese;;kandha;;verb', 'romansch;;dir;;verb', 'yiddish;;זאָגן;;verb', 'tagalog;;sabihin;;verb', 'latin;;inquam;;verb', 'turkmen;;diýmek;;verb', 'emilian;;dîr;;verb', 'thai;;กล่าว;;verb', 'japanese;;おっしゃる;;verb', 'catalan;;dir;;verb', 'thai;;พูด;;verb', 'georgian;;თქმა;;verb', 'burmese;;ဆို;;verb', 'ainu;;イェ;;verb', 'finnish;;sanoa;;verb', 'galician;;dicir;;verb', 'malay;;cakap;;verb', 'slovene;;reči;;verb', 'extremaduran;;izil;;verb', 'norwegian nynorsk;;seia;;verb', 'even;;гӫндэй;;verb', 'kashmiri;;وَنُن;;verb', 'welsh;;dweud;;verb', 'arabic;;قال;;verb', 'dutch;;zeggen;;verb', 'bulgarian;;ка́звам;;verb', 'japanese;;申し上げる;;verb', 'serbo-croatian;;govòriti;;verb', 'latin;;loquor;;verb', 'kazakh;;айту;;verb', 'polish;;powiadać;;verb', 'belarusian;;гавары́ць;;verb', 'ukrainian;;говори́ти;;verb', 'korean;;말하다;;verb', 'german;;sagen;;verb', 'russian;;сказа́ть;;verb', 'arabic;;قَالَ;;verb', 'dutch;;opzeggen;;verb'}\n",
      "170 | fool;;(derogatory) a person with poor judgment or little intelligence. | {'portuguese;;idiota;;noun', 'ingrian;;tuhkapää;;noun', 'irish;;baothán;;noun', 'galician;;babeco;;noun', 'finnish;;narri;;noun', 'serbo-croatian;;budala;;noun', 'faroese;;býttlingur;;noun', 'swahili;;mjinga;;noun', 'galician;;doudo;;noun', 'maori;;ngoungoua;;noun', 'french;;andouille;;noun', 'finnish;;pöljä;;noun', 'portuguese;;tolo;;noun', 'finnish;;tomppeli;;noun', 'galician;;lores;;noun', 'japanese;;馬鹿;;noun', 'lao;;ຄົນໂງ່;;noun', 'thai;;ควาย;;noun', 'ingrian;;foofana;;noun', 'latvian;;muļķe;;noun', 'maori;;wawau;;noun', 'ingrian;;durakka;;noun', 'czech;;pitomec;;noun', 'arabic;;مُغَفَّل;;noun', 'italian;;buffone;;noun', 'malay;;bodoh;;noun', 'galician;;idiota;;noun', 'maori;;hākawa;;noun', 'portuguese;;burro;;noun', 'belarusian;;ду́рань;;noun', 'french;;imbécile;;noun', 'russian;;тупи́ца;;noun', 'bulgarian;;абда́л;;noun', 'scottish gaelic;;òinseach;;noun', 'kazakh;;ақымақ;;noun', 'finnish;;ääliö;;noun', 'russian;;ду́ра;;noun', 'french;;crétin;;noun', 'ingrian;;tuhkapussi;;noun', 'galician;;babiolo;;noun', 'turkish;;salak;;noun', 'czech;;blbec;;noun', 'polish;;głupiec;;noun', 'maori;;hukehuke;;noun', 'ottoman turkish;;طوی;;noun', 'italian;;cretino;;noun', 'romanian;;prost;;noun', 'galician;;mascato;;noun', 'spanish;;taba;;noun', 'lithuanian;;kvailys;;noun', 'ingrian;;bolvana;;noun', 'bengali;;মূর্খ;;noun', 'czech;;hlupák;;noun', 'hungarian;;hülye;;noun', 'polish;;bałwan;;noun', 'spanish;;gilí;;noun', 'finnish;;tollo;;noun', 'chichewa;;chitsiru;;noun', 'hebrew;;שׁוֹטֶה;;noun', 'italian;;scemo;;noun', 'sanskrit;;दुर्मति;;noun', 'finnish;;typerys;;noun', 'german;;närrin;;noun', 'burmese;;ဗာလ;;noun', 'russian;;идио́т;;noun', 'korean;;바보;;noun', 'polish;;głupek;;noun', 'chinese mandarin;;笨蛋;;noun', 'german;;trottel;;noun', 'bulgarian;;глупа́чка;;noun', 'french;;idiot;;noun', 'chinese mandarin;;傻瓜;;noun', 'spanish;;bobo;;noun', 'armenian;;հիմար;;noun', 'galician;;parvo;;noun', 'tajik;;аҳмақ;;noun', 'german;;narr;;noun', 'esperanto;;stultulo;;noun', 'italian;;imbecille;;noun', 'urdu;;مورکھ;;noun', 'french;;couillon;;noun', 'georgian;;იდიოტი;;noun', 'italian;;idiota;;noun', 'swedish;;dåre;;noun', 'hindi;;मूर्ख;;noun', 'spanish;;imbécil;;noun', 'chinese mandarin;;蠢貨 /蠢货;;noun', 'latin;;mōrus;;noun', 'russian;;деби́л;;noun', 'german;;dumme gans;;noun', 'macedonian;;абдал;;noun', 'gujarati;;મૂર્ખ;;noun', 'maori;;pōrewarewa;;noun', 'german;;dummkopf;;noun', 'french;;abruti;;noun', 'polish;;idiota;;noun', 'ingrian;;vohma;;noun', 'tajik;;аблаҳ;;noun', 'russian;;глупе́ц;;noun', 'french;;dinde;;noun', 'thai;;คนโง่;;noun', 'arabic;;أَحْمَق;;noun', 'albanian;;idiot;;noun', 'finnish;;munapää;;noun', 'czech;;blázen;;noun', 'italian;;sciocco;;noun', 'irish;;amadán;;noun', 'galician;;paspán;;noun', 'finnish;;hullu;;noun', 'ukrainian;;ду́рень;;noun', 'serbo-croatian;;glupan;;noun', 'scottish gaelic;;amadan;;noun', 'japanese;;アホ;;noun', 'german;;pute;;noun', 'ukrainian;;ду́рник;;noun', 'latvian;;duraks;;noun', 'old norse;;api;;noun', 'kyrgyz;;келесоо;;noun', 'korean;;백치;;noun', 'ingrian;;oolo;;noun', 'ukrainian;;йо́лоп;;noun', 'azerbaijani;;axmaq;;noun', 'catalan;;idiota;;noun', 'portuguese;;imbecil;;noun', 'slovak;;hlupák;;noun', 'indonesian;;tolol;;noun', 'ingrian;;tuhkuri;;noun', 'estonian;;tola;;noun', 'khmer;;ល្ងីល្ងើ;;noun', 'chinese mandarin;;傻子;;noun', 'russian;;дура́к;;noun', 'italian;;stupido;;noun', 'dutch;;domme gans;;noun', 'ingrian;;hapalka;;noun', 'latin;;stultus;;noun', 'russian;;идио́тка;;noun', 'azerbaijani;;abdal;;noun', 'latvian;;muļķis;;noun', 'turkish;;aptal;;noun', 'spanish;;tonto;;noun', 'yiddish;;נאַר;;noun', 'kyrgyz;;акмак;;noun', 'russian;;болва́н;;noun', 'finnish;;idiootti;;noun', 'polish;;baran;;noun', 'yiddish;;שוטה;;noun', 'russian;;ду́рень;;noun', 'japanese;;あほ;;noun', 'galician;;pallouco;;noun', 'czech;;šašek;;noun', 'danish;;fjols;;noun', 'bulgarian;;тъпа́к;;noun', 'vietnamese;;thằng ngu;;noun', 'hebrew;;גולם \\\\ גֹּלֶם;;noun', 'finnish;;hölmö;;noun', 'maori;;poroheahea;;noun', 'german;;tor;;noun', 'polish;;bęcwał;;noun', 'spanish;;pendejo;;noun', 'polish;;dureń;;noun', 'uzbek;;ahmoq;;noun', 'portuguese;;bobo;;noun', 'czech;;blb;;noun', 'catalan;;beneit;;noun', 'albanian;;budalla;;noun', 'chinese mandarin;;呆子;;noun', 'bulgarian;;глупа́к;;noun', 'chinese mandarin;;蠢人;;noun', 'serbo-croatian;;luđak;;noun', 'turkish;;ahmak;;noun'}\n"
     ]
    }
   ],
   "source": [
    "concept_map = dict()\n",
    "concept_list = set()\n",
    "def add_concept_to_translation(translation: str, concept: str) -> None:\n",
    "    concept_list.add(concept)\n",
    "    if not concept in concept_map:\n",
    "        concept_map[concept] = set()\n",
    "    concept_map[concept].add(translation)\n",
    "\n",
    "df_filtered.apply(lambda row: add_concept_to_translation(row[\"language_and_translation\"], row[\"word_and_gloss\"]), axis=1)\n",
    "\n",
    "maximum = 0\n",
    "for key, value in concept_map.items():\n",
    "    if len(value) > maximum:\n",
    "        maximum = len(value)\n",
    "        print(f\"{maximum:2d} | {key:32s} | {value}\")"
   ]
  },
  {
   "cell_type": "markdown",
   "metadata": {},
   "source": [
    "### We have 5315 concepts."
   ]
  },
  {
   "cell_type": "code",
   "execution_count": 192,
   "metadata": {},
   "outputs": [
    {
     "data": {
      "text/plain": [
       "5315"
      ]
     },
     "execution_count": 192,
     "metadata": {},
     "output_type": "execute_result"
    }
   ],
   "source": [
    "len(concept_list)"
   ]
  },
  {
   "cell_type": "markdown",
   "metadata": {},
   "source": [
    "### Show first entry of the Concept Map."
   ]
  },
  {
   "cell_type": "code",
   "execution_count": 193,
   "metadata": {},
   "outputs": [
    {
     "data": {
      "text/plain": [
       "{'free;;(social) unconstrained.;;not imprisoned or enslaved.': {'arabic;;حُرّ;;adj',\n",
       "  'armenian;;ազատ;;adj',\n",
       "  'assamese;;মুকলি;;adj',\n",
       "  'asturian;;llibre;;adj',\n",
       "  'azerbaijani;;azad;;adj',\n",
       "  'bambara;;hɔrɔn;;adj',\n",
       "  'bashkir;;ирекле;;adj',\n",
       "  'catalan;;lliure;;adj',\n",
       "  'chinese mandarin;;自由的;;adj',\n",
       "  'czech;;svobodný;;adj',\n",
       "  'czech;;volný;;adj',\n",
       "  'danish;;fri;;adj',\n",
       "  'dutch;;vrij;;adj',\n",
       "  'esperanto;;libera;;adj',\n",
       "  'estonian;;vaba;;adj',\n",
       "  'finnish;;vapaa;;adj',\n",
       "  'french;;libre;;adj',\n",
       "  'galician;;libre;;adj',\n",
       "  'german;;frei;;adj',\n",
       "  'greek;;ελεύθερος;;adj',\n",
       "  'hebrew;;חָפְשִׁי;;adj',\n",
       "  'hebrew;;חופשי;;adj',\n",
       "  'hungarian;;szabad;;adj',\n",
       "  'icelandic;;frjáls;;adj',\n",
       "  'ido;;libera;;adj',\n",
       "  'indonesian;;bebas;;adj',\n",
       "  'interlingua;;libere;;adj',\n",
       "  'irish;;saor;;adj',\n",
       "  'italian;;libero;;adj',\n",
       "  'japanese;;自由;;adj',\n",
       "  'korean;;자유;;adj',\n",
       "  'latvian;;brīvs;;adj',\n",
       "  'limburgish;;vrie;;adj',\n",
       "  'low german;;free;;adj',\n",
       "  'macedonian;;слободен;;adj',\n",
       "  'malay;;bebas;;adj',\n",
       "  'malayalam;;സ്വതന്ത്രം;;adj',\n",
       "  'norman;;libre;;adj',\n",
       "  'northern kurdish;;azad;;adj',\n",
       "  'northern kurdish;;serbest;;adj',\n",
       "  'norwegian;;fri;;adj',\n",
       "  'occitan;;liure;;adj',\n",
       "  'old english;;frēo;;adj',\n",
       "  'old irish;;sóer;;adj',\n",
       "  'persian;;آزاد;;adj',\n",
       "  'polish;;swobodny;;adj',\n",
       "  'polish;;wolny;;adj',\n",
       "  'portuguese;;livre;;adj',\n",
       "  'romanian;;liber;;adj',\n",
       "  'russian;;свобо́дный;;adj',\n",
       "  'scottish gaelic;;saor;;adj',\n",
       "  'serbo-croatian;;slobodan;;adj',\n",
       "  'slovak;;slobodný;;adj',\n",
       "  'spanish;;libre;;adj',\n",
       "  'swedish;;fri;;adj',\n",
       "  'turkish;;özgür;;adj',\n",
       "  'yiddish;;פֿרײַ;;adj',\n",
       "  'zazaki;;azad (diq);;adj',\n",
       "  'zazaki;;xoser;;adj'}}"
      ]
     },
     "execution_count": 193,
     "metadata": {},
     "output_type": "execute_result"
    }
   ],
   "source": [
    "first_concept = dict(list(concept_map.items())[:1])\n",
    "first_concept"
   ]
  },
  {
   "cell_type": "code",
   "execution_count": 194,
   "metadata": {},
   "outputs": [],
   "source": [
    "G = nx.Graph()\n",
    "\n",
    "# Takes about 30 seconds on my machine\n",
    "edge_map = dict() \n",
    "maximum = 0\n",
    "for i, concept1 in enumerate(concept_list):\n",
    "    for concept2 in concept_list:\n",
    "        if concept1 == concept2:\n",
    "            continue\n",
    "        \n",
    "        pair = tuple(sorted([concept1, concept2]))\n",
    "        if intersection := concept_map[concept1].intersection(concept_map[concept2]):\n",
    "            edge_map[pair] = Edge(len(intersection), intersection)\n",
    "            if len(intersection) > maximum:\n",
    "                maximum = len(intersection)\n",
    "\n",
    "\n",
    "# Add edges to the graph with weights\n",
    "for pair, edge in edge_map.items():\n",
    "    G.add_edge(pair[0], pair[1], weight=edge.weight)\n",
    "\n",
    "edges = G.edges(data=True)\n",
    "weights = [edge.weight for edge in edge_map.values()]\n"
   ]
  },
  {
   "cell_type": "code",
   "execution_count": 195,
   "metadata": {},
   "outputs": [
    {
     "name": "stdout",
     "output_type": "stream",
     "text": [
      "Strongest connections:\n",
      "(weight: 137) football;;(uk, africa, caribbean, south asia, uncountable) association football, also called soccer: a game in which two teams each contend to get a round ball into the other team's goal primarily by kicking the ball. -- soccer;;(originated, late 19th c, now often us, australia, ireland, philippines, and other countries; see usage notes) association football.\n",
      "(weight: 129) illness;;(countable) an instance of a disease or poor health. -- disease;;(medicine) an abnormal condition of a human, animal or plant that causes discomfort or dysfunction; distinct from injury insofar as the latter is usually instantaneously acquired.\n",
      "(weight: 122) speak;;(intransitive) to communicate with one's voice, to say words out loud. -- talk;;(intransitive) to communicate, usually by means of speech.\n",
      "(weight: 116) soil;;(uncountable) a mixture of mineral particles and organic material, used to support plant growth. -- earth;;(uncountable) soil.\n",
      "(weight: 115) conceal;;(transitive) to hide something from view or from public knowledge, to try to keep something secret. -- hide;;(transitive) to put (something) in a place where it will be harder to discover or out of sight.\n",
      "\n",
      "Weakest connections:\n",
      "(weight: 1) decay;;(ecology, medicine) the process or result of being gradually decomposed; rot, decomposition. -- mutation;;(genetics) any heritable change of the base-pair sequence of genetic material.\n",
      "(weight: 1) hajj;;(islam) the pilgrimage to mecca made by pious muslims; one of the five pillars of islam. -- summer solstice;;(astronomy) the moment when the earth is in that point of its orbit where the northern or southern hemisphere is most inclined toward the sun.\n",
      "(weight: 1) pancreas;;(anatomy) a gland near the stomach which secretes a fluid into the duodenum to assist with food digestion. -- rake;;(agriculture, horticulture) a garden tool with a row of pointed teeth fixed to a long handle, used for collecting debris, grass, etc., for flattening the ground, or for loosening soil; also, a similar wheel-mounted tool drawn by a horse or a tractor.\n",
      "(weight: 1) atheist;;(religion) a person who does not believe in deities or gods.;;(loosely) a person who doubts the existence of deities (therefore, an agnostic may be considered an atheist). -- kafir;;(islam, countable, offensive, religious slur, politics) a disbeliever, a denier: someone who rejects or disbelieves in allah or the tenets of islam; or more broadly any non-muslim.\n",
      "(weight: 1) atheist;;(religion) a person who does not believe in deities or gods.;;(loosely) a person who doubts the existence of deities (therefore, an agnostic may be considered an atheist). -- giaour;;(religious slur) a non-muslim, especially a christian, an infidel; especially as used by turkish people with particular reference to christians such as greeks, armenians, bulgarians, serbs and assyrians.\n"
     ]
    }
   ],
   "source": [
    "# Meaningful comment\n",
    "\n",
    "sorted_edges = sorted(edges, key = lambda edge: edge[2]['weight'], reverse=True)\n",
    "print(\"Strongest connections:\")\n",
    "for parent1, parent2, edge_data in sorted_edges[:5]:\n",
    "    print(f\"(weight: {edge_data['weight']}) {parent1} -- {parent2}\")\n",
    "\n",
    "print(\"\\nWeakest connections:\")\n",
    "for parent1, parent2, edge_data in sorted_edges[-5:]:\n",
    "    print(f\"(weight: {edge_data['weight']}) {parent1} -- {parent2}\")"
   ]
  },
  {
   "cell_type": "code",
   "execution_count": null,
   "metadata": {},
   "outputs": [],
   "source": [
    "def create_graph(focus_concept: str) -> None:\n",
    "    \"\"\"\n",
    "    Creates an interactive network and saves it as a HTML file.\n",
    "    \n",
    "    Args:\n",
    "        focus_concept (str): The concept for which the network should be created.\n",
    "        For Example: \"free;;(social) unconstrained.;;not imprisoned or enslaved.\"\n",
    "    \"\"\"\n",
    "    ## Validate input TODO\n",
    "    try:\n",
    "        # Get all neighbors of the focus concept\n",
    "        neighbors = list(G.neighbors(focus_concept))\n",
    "    except NetworkXError:\n",
    "        print(f\"Invalid focus_concept={focus_concept}. Dataset does not contain this concept.\")\n",
    "        return\n",
    "\n",
    "    # Create a pyvis network\n",
    "    net = Network(notebook=False, height=\"750px\", width=\"100%\", bgcolor=\"#222222\", font_color=\"white\")\n",
    "\n",
    "    # Create a subgraph containing the focus concept and its neighbors\n",
    "    local_subgraph = G.subgraph([focus_concept] + neighbors)\n",
    "\n",
    "    # Map edges to the languages that connect them\n",
    "    edge_to_languages = defaultdict(tuple)\n",
    "\n",
    "    subgraph_maximum = 0\n",
    "    for pair in local_subgraph.edges():\n",
    "        pair = tuple(sorted(list(pair)))\n",
    "        edge = edge_map[pair]\n",
    "        edge_to_languages[pair] = edge.value\n",
    "\n",
    "        if edge.weight > subgraph_maximum:\n",
    "            subgraph_maximum = edge.weight\n",
    "\n",
    "\n",
    "    # Add nodes to the pyvis network\n",
    "    for node in local_subgraph.nodes:\n",
    "        net.add_node(node, title=node, label=node.split(settings.SEPERATOR)[0])\n",
    "\n",
    "    # Add edges with language information\n",
    "    for pair, languages in edge_to_languages.items():\n",
    "        edge: Edge = edge_map[pair]\n",
    "        value = edge.weight\n",
    "        width = edge.normalized(subgraph_maximum)\n",
    "        net.add_edge(*pair, value=value, languages=', '.join(languages), width=width)\n",
    "\n",
    "    # Save graph to a temporary file\n",
    "    temp_file = \"temp_network.html\"\n",
    "    net.save_graph(temp_file)\n",
    "\n",
    "    # Add dynamic legend to the HTML file\n",
    "    add_dynamic_legend(temp_file, edge_to_languages, focus_concept)\n",
    "\n",
    "    print(f\"Saved Network '{focus_concept}' under 'networks/network_{focus_concept}.html'.\")"
   ]
  },
  {
   "cell_type": "markdown",
   "metadata": {},
   "source": [
    "## 2 Example Subgraphs"
   ]
  },
  {
   "cell_type": "code",
   "execution_count": 197,
   "metadata": {},
   "outputs": [
    {
     "name": "stdout",
     "output_type": "stream",
     "text": [
      "Saved Network 'pyramid;;(geometry) a solid with triangular lateral faces and a polygonal (often square or rectangular) base.' under 'networks/network_pyramid;;(geometry) a solid with triangular lateral faces and a polygonal (often square or rectangular) base..html'.\n",
      "Saved Network 'free;;(social) unconstrained.;;not imprisoned or enslaved.' under 'networks/network_free;;(social) unconstrained.;;not imprisoned or enslaved..html'.\n"
     ]
    }
   ],
   "source": [
    "create_graph(\"pyramid;;(geometry) a solid with triangular lateral faces and a polygonal (often square or rectangular) base.\")\n",
    "create_graph(\"free;;(social) unconstrained.;;not imprisoned or enslaved.\")"
   ]
  },
  {
   "cell_type": "code",
   "execution_count": null,
   "metadata": {},
   "outputs": [],
   "source": []
  }
 ],
 "metadata": {
  "kernelspec": {
   "display_name": "Python 3",
   "language": "python",
   "name": "python3"
  },
  "language_info": {
   "codemirror_mode": {
    "name": "ipython",
    "version": 3
   },
   "file_extension": ".py",
   "mimetype": "text/x-python",
   "name": "python",
   "nbconvert_exporter": "python",
   "pygments_lexer": "ipython3",
   "version": "3.11.9"
  }
 },
 "nbformat": 4,
 "nbformat_minor": 2
}
