{
 "cells": [
  {
   "cell_type": "code",
   "execution_count": null,
   "metadata": {},
   "outputs": [],
   "source": [
    "from collections import defaultdict\n",
    "import networkx as nx\n",
    "from networkx import NetworkXError\n",
    "import pandas as pd\n",
    "from pyvis.network import Network\n",
    "from typing import Any\n",
    "from edge import Edge\n",
    "from graph_utils import add_dynamic_legend, add_dynamic_legend_to_component_graph\n",
    "import settings\n",
    "import json\n",
    "import random\n",
    "import numpy as np\n",
    "from sklearn.manifold import MDS\n",
    "import numpy as np\n",
    "import matplotlib.pyplot as plt\n",
    "from tqdm import tqdm\n",
    "from kneed import KneeLocator\n",
    "import seaborn as sns"
   ]
  },
  {
   "cell_type": "code",
   "execution_count": 128,
   "metadata": {},
   "outputs": [],
   "source": [
    "def debug(msg: str = \"\") -> None:\n",
    "    if settings.DEBUG:\n",
    "        print(msg)\n"
   ]
  },
  {
   "cell_type": "markdown",
   "metadata": {},
   "source": [
    "## Load Dataframe"
   ]
  },
  {
   "cell_type": "code",
   "execution_count": 129,
   "metadata": {},
   "outputs": [
    {
     "data": {
      "text/html": [
       "<div>\n",
       "<style scoped>\n",
       "    .dataframe tbody tr th:only-of-type {\n",
       "        vertical-align: middle;\n",
       "    }\n",
       "\n",
       "    .dataframe tbody tr th {\n",
       "        vertical-align: top;\n",
       "    }\n",
       "\n",
       "    .dataframe thead th {\n",
       "        text-align: right;\n",
       "    }\n",
       "</style>\n",
       "<table border=\"1\" class=\"dataframe\">\n",
       "  <thead>\n",
       "    <tr style=\"text-align: right;\">\n",
       "      <th></th>\n",
       "      <th>word_and_gloss</th>\n",
       "      <th>language_and_translation</th>\n",
       "    </tr>\n",
       "  </thead>\n",
       "  <tbody>\n",
       "    <tr>\n",
       "      <th>0</th>\n",
       "      <td>free;;(social) unconstrained.;;not imprisoned or enslaved.</td>\n",
       "      <td>afrikaans;;vrye;;adj</td>\n",
       "    </tr>\n",
       "    <tr>\n",
       "      <th>1</th>\n",
       "      <td>free;;(social) unconstrained.;;not imprisoned or enslaved.</td>\n",
       "      <td>albanian;;lirë (i/e);;adj</td>\n",
       "    </tr>\n",
       "    <tr>\n",
       "      <th>2</th>\n",
       "      <td>free;;(social) unconstrained.;;not imprisoned or enslaved.</td>\n",
       "      <td>amharic;;ነፃ;;adj</td>\n",
       "    </tr>\n",
       "    <tr>\n",
       "      <th>3</th>\n",
       "      <td>free;;(social) unconstrained.;;not imprisoned or enslaved.</td>\n",
       "      <td>arabic;;حُرّ;;adj</td>\n",
       "    </tr>\n",
       "    <tr>\n",
       "      <th>4</th>\n",
       "      <td>free;;(social) unconstrained.;;not imprisoned or enslaved.</td>\n",
       "      <td>arabic;;حر;;adj</td>\n",
       "    </tr>\n",
       "    <tr>\n",
       "      <th>...</th>\n",
       "      <td>...</td>\n",
       "      <td>...</td>\n",
       "    </tr>\n",
       "    <tr>\n",
       "      <th>1188486</th>\n",
       "      <td>fawn response;;(psychology) an overadaptation in response to a traumatic event entailing needs and wants being succumbed to those of the threat actor.</td>\n",
       "      <td>finnish;;miellyttämisreaktio;;noun</td>\n",
       "    </tr>\n",
       "    <tr>\n",
       "      <th>1188487</th>\n",
       "      <td>fawn response;;(psychology) an overadaptation in response to a traumatic event entailing needs and wants being succumbed to those of the threat actor.</td>\n",
       "      <td>german;;bambi-reflex;;noun</td>\n",
       "    </tr>\n",
       "    <tr>\n",
       "      <th>1188488</th>\n",
       "      <td>fawn response;;(psychology) an overadaptation in response to a traumatic event entailing needs and wants being succumbed to those of the threat actor.</td>\n",
       "      <td>german;;unterwerfungsreaktion;;noun</td>\n",
       "    </tr>\n",
       "    <tr>\n",
       "      <th>1188489</th>\n",
       "      <td>one heart, one soul;;(philippines, catholicism) a saying that is said in every prayer, before the sign of the cross.</td>\n",
       "      <td>latin;;cor ūnum et anima ūna;;phrase</td>\n",
       "    </tr>\n",
       "    <tr>\n",
       "      <th>1188490</th>\n",
       "      <td>one heart, one soul;;(philippines, catholicism) a saying that is said in every prayer, before the sign of the cross.</td>\n",
       "      <td>tagalog;;isang puso, isang diwa;;phrase</td>\n",
       "    </tr>\n",
       "  </tbody>\n",
       "</table>\n",
       "<p>1188491 rows × 2 columns</p>\n",
       "</div>"
      ],
      "text/plain": [
       "                                                                                                                                                 word_and_gloss  \\\n",
       "0                                                                                                    free;;(social) unconstrained.;;not imprisoned or enslaved.   \n",
       "1                                                                                                    free;;(social) unconstrained.;;not imprisoned or enslaved.   \n",
       "2                                                                                                    free;;(social) unconstrained.;;not imprisoned or enslaved.   \n",
       "3                                                                                                    free;;(social) unconstrained.;;not imprisoned or enslaved.   \n",
       "4                                                                                                    free;;(social) unconstrained.;;not imprisoned or enslaved.   \n",
       "...                                                                                                                                                         ...   \n",
       "1188486  fawn response;;(psychology) an overadaptation in response to a traumatic event entailing needs and wants being succumbed to those of the threat actor.   \n",
       "1188487  fawn response;;(psychology) an overadaptation in response to a traumatic event entailing needs and wants being succumbed to those of the threat actor.   \n",
       "1188488  fawn response;;(psychology) an overadaptation in response to a traumatic event entailing needs and wants being succumbed to those of the threat actor.   \n",
       "1188489                                    one heart, one soul;;(philippines, catholicism) a saying that is said in every prayer, before the sign of the cross.   \n",
       "1188490                                    one heart, one soul;;(philippines, catholicism) a saying that is said in every prayer, before the sign of the cross.   \n",
       "\n",
       "                        language_and_translation  \n",
       "0                           afrikaans;;vrye;;adj  \n",
       "1                      albanian;;lirë (i/e);;adj  \n",
       "2                               amharic;;ነፃ;;adj  \n",
       "3                              arabic;;حُرّ;;adj  \n",
       "4                                arabic;;حر;;adj  \n",
       "...                                          ...  \n",
       "1188486       finnish;;miellyttämisreaktio;;noun  \n",
       "1188487               german;;bambi-reflex;;noun  \n",
       "1188488      german;;unterwerfungsreaktion;;noun  \n",
       "1188489     latin;;cor ūnum et anima ūna;;phrase  \n",
       "1188490  tagalog;;isang puso, isang diwa;;phrase  \n",
       "\n",
       "[1188491 rows x 2 columns]"
      ]
     },
     "execution_count": 129,
     "metadata": {},
     "output_type": "execute_result"
    }
   ],
   "source": [
    "pd.set_option(\"display.max_rows\", 20)\n",
    "pd.set_option('display.max_colwidth', None)\n",
    "\n",
    "df = pd.read_parquet(\"resources/cleaned_dataframe.parquet\", engine=\"pyarrow\")\n",
    "df"
   ]
  },
  {
   "cell_type": "markdown",
   "metadata": {},
   "source": [
    "## Filter Dataframe \n",
    "### Keep languages with at least 40 translations and keep only translations that appear more than once."
   ]
  },
  {
   "cell_type": "code",
   "execution_count": 130,
   "metadata": {},
   "outputs": [
    {
     "data": {
      "text/html": [
       "<div>\n",
       "<style scoped>\n",
       "    .dataframe tbody tr th:only-of-type {\n",
       "        vertical-align: middle;\n",
       "    }\n",
       "\n",
       "    .dataframe tbody tr th {\n",
       "        vertical-align: top;\n",
       "    }\n",
       "\n",
       "    .dataframe thead th {\n",
       "        text-align: right;\n",
       "    }\n",
       "</style>\n",
       "<table border=\"1\" class=\"dataframe\">\n",
       "  <thead>\n",
       "    <tr style=\"text-align: right;\">\n",
       "      <th></th>\n",
       "      <th>word_and_gloss</th>\n",
       "      <th>language_and_translation</th>\n",
       "    </tr>\n",
       "  </thead>\n",
       "  <tbody>\n",
       "    <tr>\n",
       "      <th>0</th>\n",
       "      <td>free;;(social) unconstrained.;;not imprisoned or enslaved.</td>\n",
       "      <td>afrikaans;;vrye;;adj</td>\n",
       "    </tr>\n",
       "    <tr>\n",
       "      <th>1</th>\n",
       "      <td>free;;(social) unconstrained.;;not imprisoned or enslaved.</td>\n",
       "      <td>albanian;;lirë (i/e);;adj</td>\n",
       "    </tr>\n",
       "    <tr>\n",
       "      <th>2</th>\n",
       "      <td>free;;(social) unconstrained.;;not imprisoned or enslaved.</td>\n",
       "      <td>amharic;;ነፃ;;adj</td>\n",
       "    </tr>\n",
       "    <tr>\n",
       "      <th>3</th>\n",
       "      <td>free;;(social) unconstrained.;;not imprisoned or enslaved.</td>\n",
       "      <td>arabic;;حُرّ;;adj</td>\n",
       "    </tr>\n",
       "    <tr>\n",
       "      <th>4</th>\n",
       "      <td>free;;(social) unconstrained.;;not imprisoned or enslaved.</td>\n",
       "      <td>arabic;;حر;;adj</td>\n",
       "    </tr>\n",
       "    <tr>\n",
       "      <th>...</th>\n",
       "      <td>...</td>\n",
       "      <td>...</td>\n",
       "    </tr>\n",
       "    <tr>\n",
       "      <th>550348</th>\n",
       "      <td>call the fire department;;(us) call the emergency service that specializes in extinguishing fires.</td>\n",
       "      <td>tagalog;;tawag ka ng bumbero;;phrase</td>\n",
       "    </tr>\n",
       "    <tr>\n",
       "      <th>550349</th>\n",
       "      <td>call the fire department;;(us) call the emergency service that specializes in extinguishing fires.</td>\n",
       "      <td>turkish;;itfaiyeyi çağırin;;phrase</td>\n",
       "    </tr>\n",
       "    <tr>\n",
       "      <th>550350</th>\n",
       "      <td>call the fire department;;(us) call the emergency service that specializes in extinguishing fires.</td>\n",
       "      <td>turkish;;itfaiyeyi çağır;;phrase</td>\n",
       "    </tr>\n",
       "    <tr>\n",
       "      <th>550351</th>\n",
       "      <td>call the fire department;;(us) call the emergency service that specializes in extinguishing fires.</td>\n",
       "      <td>ukrainian;;ви́кличте поже́жників;;phrase</td>\n",
       "    </tr>\n",
       "    <tr>\n",
       "      <th>550352</th>\n",
       "      <td>call the fire department;;(us) call the emergency service that specializes in extinguishing fires.</td>\n",
       "      <td>welsh;;galwch yr brigâd dân;;phrase</td>\n",
       "    </tr>\n",
       "  </tbody>\n",
       "</table>\n",
       "<p>550353 rows × 2 columns</p>\n",
       "</div>"
      ],
      "text/plain": [
       "                                                                                            word_and_gloss  \\\n",
       "0                                               free;;(social) unconstrained.;;not imprisoned or enslaved.   \n",
       "1                                               free;;(social) unconstrained.;;not imprisoned or enslaved.   \n",
       "2                                               free;;(social) unconstrained.;;not imprisoned or enslaved.   \n",
       "3                                               free;;(social) unconstrained.;;not imprisoned or enslaved.   \n",
       "4                                               free;;(social) unconstrained.;;not imprisoned or enslaved.   \n",
       "...                                                                                                    ...   \n",
       "550348  call the fire department;;(us) call the emergency service that specializes in extinguishing fires.   \n",
       "550349  call the fire department;;(us) call the emergency service that specializes in extinguishing fires.   \n",
       "550350  call the fire department;;(us) call the emergency service that specializes in extinguishing fires.   \n",
       "550351  call the fire department;;(us) call the emergency service that specializes in extinguishing fires.   \n",
       "550352  call the fire department;;(us) call the emergency service that specializes in extinguishing fires.   \n",
       "\n",
       "                        language_and_translation  \n",
       "0                           afrikaans;;vrye;;adj  \n",
       "1                      albanian;;lirë (i/e);;adj  \n",
       "2                               amharic;;ነፃ;;adj  \n",
       "3                              arabic;;حُرّ;;adj  \n",
       "4                                arabic;;حر;;adj  \n",
       "...                                          ...  \n",
       "550348      tagalog;;tawag ka ng bumbero;;phrase  \n",
       "550349        turkish;;itfaiyeyi çağırin;;phrase  \n",
       "550350          turkish;;itfaiyeyi çağır;;phrase  \n",
       "550351  ukrainian;;ви́кличте поже́жників;;phrase  \n",
       "550352       welsh;;galwch yr brigâd dân;;phrase  \n",
       "\n",
       "[550353 rows x 2 columns]"
      ]
     },
     "execution_count": 130,
     "metadata": {},
     "output_type": "execute_result"
    }
   ],
   "source": [
    "# Count trasnaltions per language\n",
    "language_counts = df['word_and_gloss'].value_counts()\n",
    "\n",
    "# filter languages with at least 40 translations\n",
    "languages_to_keep = language_counts[language_counts >= settings.MIN_LANGUAGE_COUNT].index\n",
    "\n",
    "# keep rows with filteres languages\n",
    "df_filtered = df[df['word_and_gloss'].isin(languages_to_keep)]\n",
    "\n",
    "df_filtered.reset_index(drop = True, inplace=True)\n",
    "df_filtered"
   ]
  },
  {
   "cell_type": "code",
   "execution_count": 131,
   "metadata": {},
   "outputs": [
    {
     "data": {
      "text/html": [
       "<div>\n",
       "<style scoped>\n",
       "    .dataframe tbody tr th:only-of-type {\n",
       "        vertical-align: middle;\n",
       "    }\n",
       "\n",
       "    .dataframe tbody tr th {\n",
       "        vertical-align: top;\n",
       "    }\n",
       "\n",
       "    .dataframe thead th {\n",
       "        text-align: right;\n",
       "    }\n",
       "</style>\n",
       "<table border=\"1\" class=\"dataframe\">\n",
       "  <thead>\n",
       "    <tr style=\"text-align: right;\">\n",
       "      <th></th>\n",
       "      <th>word_and_gloss</th>\n",
       "      <th>language_and_translation</th>\n",
       "    </tr>\n",
       "  </thead>\n",
       "  <tbody>\n",
       "    <tr>\n",
       "      <th>0</th>\n",
       "      <td>free;;(social) unconstrained.;;not imprisoned or enslaved.</td>\n",
       "      <td>arabic;;حُرّ;;adj</td>\n",
       "    </tr>\n",
       "    <tr>\n",
       "      <th>1</th>\n",
       "      <td>free;;(social) unconstrained.;;not imprisoned or enslaved.</td>\n",
       "      <td>armenian;;ազատ;;adj</td>\n",
       "    </tr>\n",
       "    <tr>\n",
       "      <th>2</th>\n",
       "      <td>free;;(social) unconstrained.;;not imprisoned or enslaved.</td>\n",
       "      <td>assamese;;মুকলি;;adj</td>\n",
       "    </tr>\n",
       "    <tr>\n",
       "      <th>3</th>\n",
       "      <td>free;;(social) unconstrained.;;not imprisoned or enslaved.</td>\n",
       "      <td>asturian;;llibre;;adj</td>\n",
       "    </tr>\n",
       "    <tr>\n",
       "      <th>4</th>\n",
       "      <td>free;;(social) unconstrained.;;not imprisoned or enslaved.</td>\n",
       "      <td>azerbaijani;;azad;;adj</td>\n",
       "    </tr>\n",
       "    <tr>\n",
       "      <th>...</th>\n",
       "      <td>...</td>\n",
       "      <td>...</td>\n",
       "    </tr>\n",
       "    <tr>\n",
       "      <th>119553</th>\n",
       "      <td>shaitan;;(islam) iblis, satan.</td>\n",
       "      <td>turkish;;şeytan;;name</td>\n",
       "    </tr>\n",
       "    <tr>\n",
       "      <th>119554</th>\n",
       "      <td>shaitan;;(islam) iblis, satan.</td>\n",
       "      <td>turkmen;;şeýtan;;name</td>\n",
       "    </tr>\n",
       "    <tr>\n",
       "      <th>119555</th>\n",
       "      <td>shaitan;;(islam) iblis, satan.</td>\n",
       "      <td>urdu;;شَیطان;;name</td>\n",
       "    </tr>\n",
       "    <tr>\n",
       "      <th>119556</th>\n",
       "      <td>shaitan;;(islam) iblis, satan.</td>\n",
       "      <td>uyghur;;شەيتان;;name</td>\n",
       "    </tr>\n",
       "    <tr>\n",
       "      <th>119557</th>\n",
       "      <td>shaitan;;(islam) iblis, satan.</td>\n",
       "      <td>uzbek;;shayton;;name</td>\n",
       "    </tr>\n",
       "  </tbody>\n",
       "</table>\n",
       "<p>119558 rows × 2 columns</p>\n",
       "</div>"
      ],
      "text/plain": [
       "                                                    word_and_gloss  \\\n",
       "0       free;;(social) unconstrained.;;not imprisoned or enslaved.   \n",
       "1       free;;(social) unconstrained.;;not imprisoned or enslaved.   \n",
       "2       free;;(social) unconstrained.;;not imprisoned or enslaved.   \n",
       "3       free;;(social) unconstrained.;;not imprisoned or enslaved.   \n",
       "4       free;;(social) unconstrained.;;not imprisoned or enslaved.   \n",
       "...                                                            ...   \n",
       "119553                              shaitan;;(islam) iblis, satan.   \n",
       "119554                              shaitan;;(islam) iblis, satan.   \n",
       "119555                              shaitan;;(islam) iblis, satan.   \n",
       "119556                              shaitan;;(islam) iblis, satan.   \n",
       "119557                              shaitan;;(islam) iblis, satan.   \n",
       "\n",
       "       language_and_translation  \n",
       "0             arabic;;حُرّ;;adj  \n",
       "1           armenian;;ազատ;;adj  \n",
       "2          assamese;;মুকলি;;adj  \n",
       "3         asturian;;llibre;;adj  \n",
       "4        azerbaijani;;azad;;adj  \n",
       "...                         ...  \n",
       "119553    turkish;;şeytan;;name  \n",
       "119554    turkmen;;şeýtan;;name  \n",
       "119555       urdu;;شَیطان;;name  \n",
       "119556     uyghur;;شەيتان;;name  \n",
       "119557     uzbek;;shayton;;name  \n",
       "\n",
       "[119558 rows x 2 columns]"
      ]
     },
     "execution_count": 131,
     "metadata": {},
     "output_type": "execute_result"
    }
   ],
   "source": [
    "translation_counts = df_filtered[\"language_and_translation\"].value_counts()\n",
    "\n",
    "# filter translations that appear more than once\n",
    "translations_to_keep = translation_counts[translation_counts > 1].index\n",
    "\n",
    "df_filtered = df_filtered[df_filtered['language_and_translation'].isin(translations_to_keep)]\n",
    "\n",
    "df_filtered.reset_index(drop = True, inplace=True)\n",
    "df_filtered"
   ]
  },
  {
   "cell_type": "code",
   "execution_count": 132,
   "metadata": {},
   "outputs": [
    {
     "data": {
      "text/plain": [
       "array(['arabic;;حُرّ;;adj', 'armenian;;ազատ;;adj', 'assamese;;মুকলি;;adj',\n",
       "       ..., 'spanish;;aguar;;verb', 'swedish;;vattna;;verb',\n",
       "       'portuguese;;dígito;;noun'], dtype=object)"
      ]
     },
     "execution_count": 132,
     "metadata": {},
     "output_type": "execute_result"
    }
   ],
   "source": [
    "unique_lang_and_trans = df_filtered[\"language_and_translation\"].unique()\n",
    "unique_lang_and_trans"
   ]
  },
  {
   "cell_type": "code",
   "execution_count": 133,
   "metadata": {},
   "outputs": [
    {
     "data": {
      "text/plain": [
       "51999"
      ]
     },
     "execution_count": 133,
     "metadata": {},
     "output_type": "execute_result"
    }
   ],
   "source": [
    "df_filtered[\"language_and_translation\"].nunique()"
   ]
  },
  {
   "cell_type": "markdown",
   "metadata": {},
   "source": [
    "## Create a Concept Map where each concept has their correspoinding Language, Translation and POS.\n",
    "## Create a Concept List with all Concepts."
   ]
  },
  {
   "cell_type": "code",
   "execution_count": 134,
   "metadata": {},
   "outputs": [
    {
     "name": "stdout",
     "output_type": "stream",
     "text": [
      "59 | free;;(social) unconstrained.;;not imprisoned or enslaved. | {'estonian;;vaba;;adj', 'azerbaijani;;azad;;adj', 'italian;;libero;;adj', 'turkish;;özgür;;adj', 'zazaki;;xoser;;adj', 'ido;;libera;;adj', 'indonesian;;bebas;;adj', 'macedonian;;слободен;;adj', 'assamese;;মুকলি;;adj', 'danish;;fri;;adj', 'czech;;svobodný;;adj', 'limburgish;;vrie;;adj', 'greek;;ελεύθερος;;adj', 'slovak;;slobodný;;adj', 'hebrew;;חופשי;;adj', 'korean;;자유;;adj', 'norman;;libre;;adj', 'russian;;свобо́дный;;adj', 'persian;;آزاد;;adj', 'armenian;;ազատ;;adj', 'old irish;;sóer;;adj', 'galician;;libre;;adj', 'bambara;;hɔrɔn;;adj', 'catalan;;lliure;;adj', 'german;;frei;;adj', 'hebrew;;חָפְשִׁי;;adj', 'low german;;free;;adj', 'norwegian;;fri;;adj', 'polish;;wolny;;adj', 'polish;;swobodny;;adj', 'yiddish;;פֿרײַ;;adj', 'chinese mandarin;;自由的;;adj', 'asturian;;llibre;;adj', 'bashkir;;ирекле;;adj', 'dutch;;vrij;;adj', 'irish;;saor;;adj', 'latvian;;brīvs;;adj', 'northern kurdish;;azad;;adj', 'scottish gaelic;;saor;;adj', 'swedish;;fri;;adj', 'hungarian;;szabad;;adj', 'esperanto;;libera;;adj', 'zazaki;;azad (diq);;adj', 'spanish;;libre;;adj', 'arabic;;حُرّ;;adj', 'finnish;;vapaa;;adj', 'japanese;;自由;;adj', 'portuguese;;livre;;adj', 'romanian;;liber;;adj', 'czech;;volný;;adj', 'malay;;bebas;;adj', 'interlingua;;libere;;adj', 'french;;libre;;adj', 'malayalam;;സ്വതന്ത്രം;;adj', 'icelandic;;frjáls;;adj', 'northern kurdish;;serbest;;adj', 'serbo-croatian;;slobodan;;adj', 'occitan;;liure;;adj', 'old english;;frēo;;adj'}\n",
      "117 | trade;;(uncountable) buying and selling of goods and services on a market. | {'bulgarian;;търго́вия;;noun', 'slovak;;obchod;;noun', 'burmese;;အရောင်းအဝယ်;;noun', 'vietnamese;;thương mại;;noun', 'tajik;;тиҷорат;;noun', 'sanskrit;;वाणिज्य;;noun', 'ukrainian;;коме́рція;;noun', 'chinese mandarin;;貿易 /贸易;;noun', 'macedonian;;трговија;;noun', 'afrikaans;;ruil;;noun', 'macedonian;;комерција;;noun', 'hebrew;;סַחַר;;noun', 'polish;;handel;;noun', 'swahili;;biashara;;noun', 'swedish;;handel;;noun', 'khmer;;ពាណិជ្ជកម្ម;;noun', 'malayalam;;വ്യാപാരം;;noun', 'tocharian b;;karyor;;noun', 'spanish;;comercio;;noun', 'norwegian bokmål;;handel;;noun', 'lao;;ທຸລະກິດ;;noun', 'tagalog;;baliwasan;;noun', 'uyghur;;سودا;;noun', 'uzbek;;kommersiya;;noun', 'burmese;;ဝါဏိဇ္ဇ;;noun', 'catalan;;comerç;;noun', 'amharic;;ንግድ;;noun', 'hindi;;व्यापार;;noun', 'korean;;무역;;noun', 'yiddish;;האַנדל;;noun', 'tajik;;савдо;;noun', 'czech;;obchod;;noun', 'ancient greek;;ἐμπορία;;noun', 'hindi;;व्यवसाय;;noun', 'serbo-croatian;;trgòvina;;noun', 'maltese;;kummerċ;;noun', 'mongolian;;худалдаа;;noun', 'icelandic;;verslun;;noun', 'latvian;;komercija;;noun', 'chinese mandarin;;交易;;noun', 'uzbek;;tijorat;;noun', 'dutch;;commercie;;noun', 'bengali;;বাণিজ্য;;noun', 'turkish;;alım satım;;noun', 'dutch;;handel;;noun', 'lao;;ການຄ້າ;;noun', 'middle english;;chaffare;;noun', 'kyrgyz;;коммерция;;noun', 'esperanto;;komerco;;noun', 'uyghur;;تىجارەت;;noun', 'tatar;;сәүдә;;noun', 'irish;;tráchtáil;;noun', 'hindi;;वाणिज्य;;noun', 'indonesian;;perdagangan;;noun', 'kyrgyz;;соода;;noun', 'belarusian;;га́ндаль;;noun', 'pashto;;تجارت;;noun', 'lithuanian;;prekyba;;noun', 'bengali;;তেজারত;;noun', 'northern kurdish;;sewda;;noun', 'tagalog;;kalakalan;;noun', 'khmer;;វណិជ្ជា;;noun', 'georgian;;ვაჭრობა;;noun', 'german;;kommerz;;noun', 'portuguese;;comércio;;noun', 'belarusian;;каме́рцыя;;noun', 'french;;commerce;;noun', 'ukrainian;;торгі́вля;;noun', 'latin;;commercium;;noun', 'finnish;;kaupankäynti;;noun', 'kazakh;;сауда;;noun', 'korean;;교역;;noun', 'burmese;;ကုန်သွယ်ရေး;;noun', 'danish;;handel;;noun', 'ottoman turkish;;تجارت;;noun', 'galician;;comercio;;noun', 'slovene;;trgovina;;noun', 'thai;;พาณิชย์;;noun', 'pali;;vaṇijjā;;noun', 'thai;;ธุรกิจ;;noun', 'japanese;;交易;;noun', 'uzbek;;savdo;;noun', 'greek;;εμπόριο;;noun', 'kazakh;;коммерция;;noun', 'korean;;거래;;noun', 'latvian;;tirdzniecība;;noun', 'russian;;торго́вля;;noun', 'turkmen;;söwda;;noun', 'afrikaans;;handel;;noun', 'japanese;;商業;;noun', 'lithuanian;;komercija;;noun', 'ingrian;;kauppa;;noun', 'khmer;;ពាណិជ្ជ;;noun', 'norwegian nynorsk;;handel;;noun', 'estonian;;kaubandus;;noun', 'italian;;commercio;;noun', 'serbo-croatian;;трго̀вина;;noun', 'japanese;;貿易;;noun', 'korean;;상업;;noun', 'turkish;;ticaret;;noun', 'malay;;perdagangan;;noun', 'belarusian;;тарго́ўля;;noun', 'albanian;;tregti;;noun', 'hebrew;;מִסְחָר;;noun', 'thai;;การค้า;;noun', 'arabic;;تِجَارَة;;noun', 'romanian;;comerț;;noun', 'hungarian;;kereskedelem;;noun', 'vietnamese;;sự buôn bán;;noun', 'azerbaijani;;alver;;noun', 'russian;;комме́рция;;noun', 'finnish;;kauppa;;noun', 'azerbaijani;;ticarət;;noun', 'german;;handel;;noun', 'bashkir;;сауҙа;;noun', 'vietnamese;;thương nghiệp;;noun', 'galician;;trato;;noun'}\n",
      "124 | cunt;;(vulgar, countable) the female genitalia, especially the vulva. | {'polish;;cipa;;noun', 'norwegian nynorsk;;fitte;;noun', 'kazakh;;ам;;noun', 'arabic;;كِس;;noun', 'armenian;;պուց;;noun', 'galician;;cona;;noun', 'faroese;;kunta;;noun', 'ukrainian;;пизда́;;noun', 'hindi;;चूत;;noun', 'estonian;;tuss;;noun', 'arabic;;كُس;;noun', 'catalan;;cony;;noun', 'azerbaijani;;amcıq;;noun', 'albanian;;piçkë;;noun', 'estonian;;puts;;noun', 'polish;;cipsko;;noun', 'spanish;;coño;;noun', 'russian;;пизда́;;noun', 'greek;;μουνί;;noun', 'korean;;보지;;noun', 'lithuanian;;pyzda;;noun', 'russian;;манда́;;noun', 'hindi;;योनी;;noun', 'macedonian;;минџа;;noun', 'czech;;pizda;;noun', 'serbo-croatian;;пичка;;noun', 'icelandic;;píka;;noun', 'macedonian;;пичка;;noun', 'javanese;;bawuk;;noun', 'bulgarian;;пу́тка;;noun', 'esperanto;;piĉo;;noun', 'italian;;fregna;;noun', 'korean;;씹;;noun', 'albanian;;pidh;;noun', 'afrikaans;;doos;;noun', 'turkish;;amcık;;noun', 'neapolitan;;pucchiacca;;noun', 'greenlandic;;utsuk;;noun', 'irish;;pit;;noun', 'chinese mandarin;;屄;;noun', 'thai;;หี;;noun', 'serbo-croatian;;пица;;noun', 'japanese;;おまんこ;;noun', 'ukrainian;;пі́ська;;noun', 'northern sami;;cinˈná;;noun', 'neapolitan;;purchiacca;;noun', 'french;;chatte;;noun', 'danish;;fisse;;noun', 'macedonian;;слива;;noun', 'swedish;;fitta;;noun', 'hungarian;;pina;;noun', 'vietnamese;;lồn;;noun', 'bikol central;;buray;;noun', 'portuguese;;cona;;noun', 'spanish;;chocho;;noun', 'serbo-croatian;;пизда;;noun', 'danish;;kusse;;noun', 'georgian;;მუტელი;;noun', 'serbo-croatian;;pizda;;noun', 'german;;möse;;noun', 'romanian;;pizdă;;noun', 'slovak;;pizda;;noun', 'spanish;;chucha;;noun', 'maltese;;għoxx;;noun', 'german;;muschi;;noun', 'japanese;;まんこ;;noun', 'yiddish;;פּירגע;;noun', 'norwegian nynorsk;;mus;;noun', 'estonian;;vitt;;noun', 'norwegian bokmål;;fitte;;noun', 'french;;con;;noun', 'kyrgyz;;ам;;noun', 'thai;;หอย;;noun', 'polish;;pizda;;noun', 'italian;;fica;;noun', 'persian;;کس;;noun', 'indonesian;;meki;;noun', 'lithuanian;;putė;;noun', 'serbo-croatian;;минџа;;noun', 'afrikaans;;poes;;noun', 'slovak;;piča;;noun', 'urdu;;چوت;;noun', 'finnish;;vittu;;noun', 'dutch;;kut;;noun', 'malay;;puki;;noun', 'serbo-croatian;;pička;;noun', 'slovene;;pička;;noun', 'czech;;kunda;;noun', 'spanish;;cuca;;noun', 'turkmen;;am;;noun', 'azerbaijani;;am;;noun', 'indonesian;;tempik;;noun', 'afrikaans;;kont;;noun', 'faroese;;lall;;noun', 'turkish;;am;;noun', 'slovak;;kunda;;noun', 'faroese;;kusa;;noun', 'faroese;;pill;;noun', 'khmer;;កណ្ដួយ;;noun', 'chinese;;膣屄;;noun', 'german;;fotze;;noun', 'russian;;пи́ська;;noun', 'javanese;;tempik;;noun', 'italian;;figa;;noun', 'serbo-croatian;;mindža;;noun', 'lao;;ຫີ;;noun', 'uzbek;;am;;noun', 'slovene;;pizda;;noun', 'czech;;píča;;noun', 'portuguese;;boceta;;noun', 'latvian;;peža;;noun', 'belarusian;;пізда́;;noun', 'galician;;crica;;noun', 'latin;;cunnus;;noun', 'serbo-croatian;;pica;;noun', 'norwegian bokmål;;mus;;noun', 'javanese;;turuk;;noun', 'spanish;;concha;;noun', 'volapük;;kunud;;noun', 'scottish gaelic;;pit;;noun', 'welsh;;cont;;noun', 'indonesian;;memek;;noun', 'thai;;จิ๋ม;;noun', 'middle english;;quoniam;;noun'}\n",
      "125 | world;;(with \"the\") the earth, especially in a geopolitical or cultural context, or as the physical planet. | {'romanian;;lume;;noun', 'hakka chinese;;世界;;noun', 'serbo-croatian;;свије̑т;;noun', 'esperanto;;mondo;;noun', 'yakut;;аан дойду;;noun', 'galician;;mundo;;noun', 'punjabi;;ਦੁਨੀਆ;;noun', 'uyghur;;دۇنيا;;noun', 'bengali;;আলম;;noun', 'french;;terre;;noun', 'hungarian;;világ;;noun', 'thai;;โลก;;noun', 'turkish;;yeryüzü;;noun', 'ancient greek;;γῆ;;noun', 'uzbek;;dunyo;;noun', 'danish;;verden;;noun', 'turkish;;dünya;;noun', 'zazaki;;erd (diq);;noun', 'spanish;;mundo;;noun', 'turkmen;;dünýä;;noun', 'welsh;;byd;;noun', 'korean;;세계;;noun', 'indonesian;;dunia;;noun', 'serbo-croatian;;svȇt;;noun', 'romanian;;pământ;;noun', 'sicilian;;munnu;;noun', 'lower sorbian;;swět;;noun', 'tamil;;ஞாலம்;;noun', 'sinhalese;;ලෝකය;;noun', 'norwegian bokmål;;verd;;noun', \"chickasaw;;yaakni';;noun\", 'cebuano;;kalibotan;;noun', 'hindi;;संसार;;noun', 'west frisian;;ierde;;noun', 'spanish;;tierra;;noun', 'russian;;мир;;noun', 'czech;;svět;;noun', 'breton;;bed;;noun', 'middle english;;world;;noun', 'arabic;;عَالَم;;noun', 'occitan;;mond;;noun', 'bengali;;দুনিয়া;;noun', 'old spanish;;mundo;;noun', 'aragonese;;mundo;;noun', 'chinese cantonese;;世界;;noun', 'serbo-croatian;;svijȇt;;noun', 'hindi;;भूमि;;noun', 'scottish gaelic;;saoghal;;noun', 'urdu;;دُنِیا;;noun', 'catalan;;món;;noun', 'central kurdish;;دنیا;;noun', 'hindi;;आलम;;noun', 'walloon;;monde;;noun', 'finnish;;maa;;noun', 'german;;welt;;noun', 'estonian;;maailm;;noun', 'ladino;;mundo;;noun', 'tamil;;உலகம்;;noun', 'hindi;;दुनिया;;noun', 'chinese mandarin;;世界;;noun', 'urdu;;دُنْیا;;noun', 'turkish;;cihan;;noun', 'sindhi;;دنيا;;noun', 'low german;;werld;;noun', 'catalan;;terra;;noun', 'asturian;;mundu;;noun', 'lithuanian;;pasaulis;;noun', 'hebrew;;עוֹלָם;;noun', 'german;;erde;;noun', 'west frisian;;wrâld;;noun', 'cornish;;bes;;noun', 'italian;;mondo;;noun', 'burmese;;ကမ္ဘာ;;noun', 'scots;;warld;;noun', 'japanese;;世界;;noun', 'yiddish;;וועלט;;noun', 'interlingua;;mundo;;noun', 'malay;;dunia;;noun', 'armenian;;աշխարհ;;noun', 'greek;;κόσμος;;noun', 'swedish;;värld;;noun', 'portuguese;;mundo;;noun', 'hindi;;जहान;;noun', 'uzbek;;jahon;;noun', 'basque;;mundu;;noun', 'lao;;ໂລກ;;noun', 'russian;;свет;;noun', 'tamil;;பார்;;noun', 'ido;;mondo;;noun', 'quechua;;paca;;noun', 'norwegian nynorsk;;verd;;noun', 'old irish;;domun;;noun', 'polish;;świat;;noun', 'turkish;;acun;;noun', 'ukrainian;;світ;;noun', 'norwegian nynorsk;;klode;;noun', 'norwegian bokmål;;klode;;noun', 'khmer;;ពិភពលោក;;noun', 'finnish;;maailma;;noun', 'tarifit;;ddunya;;noun', 'serbo-croatian;;све̑т;;noun', 'dhivehi;;ދުނިޔެ;;noun', 'punjabi;;دُنِیا;;noun', 'maori;;ao;;noun', 'asturian;;tierra;;noun', 'bavarian;;wöd;;noun', 'northern kurdish;;dinya;;noun', 'romansch;;mund;;noun', 'georgian;;მსოფლიო;;noun', 'norwegian bokmål;;verden;;noun', 'bengali;;জাহান;;noun', 'latin;;mundus;;noun', 'chinese;;世界;;noun', 'ancient greek;;κόσμος;;noun', 'sicilian;;terra;;noun', 'afrikaans;;aarde;;noun', 'dutch;;wereld;;noun', 'dutch;;aarde;;noun', 'friulian;;mond;;noun', 'latvian;;pasaule;;noun', 'macedonian;;свет;;noun', 'iranian persian;;جَهان;;noun', 'marathi;;जग;;noun', 'chuvash;;ҫӗр;;noun', 'cornish;;bys;;noun'}\n",
      "162 | say;;(transitive) to pronounce.  | {'german;;säge;;verb', 'arabic;;قال;;verb', 'serbo-croatian;;kázati;;verb', 'berber tashelhit;;ini;;verb', 'serbo-croatian;;govòriti;;verb', 'portuguese;;falar;;verb', 'georgian;;თქმა;;verb', 'malay;;cakap;;verb', 'romanian;;spune;;verb', 'cornish;;leverel;;verb', 'czech;;říct;;verb', 'pashto;;اظهارول;;verb', 'sundanese;;carios;;verb', 'ainu;;イェ;;verb', 'dutch;;zeggen;;verb', 'walloon;;dire;;verb', 'iranian persian;;گُفْتَن;;verb', 'russian;;говори́ть;;verb', 'icelandic;;segja;;verb', 'german;;sagen;;verb', 'korean;;말하다;;verb', 'old irish;;as·beir;;verb', 'french;;dire;;verb', 'serbo-croatian;;rȅći;;verb', 'nepali;;बोल्नु;;verb', 'zhuang;;gangj;;verb', 'polish;;rzec;;verb', 'eastern min chinese;;講 /讲;;verb', 'vietnamese;;nói;;verb', 'finnish;;sanoa;;verb', 'dutch;;opzeggen;;verb', 'malay;;kata;;verb', 'dutch;;luiden;;verb', 'ukrainian;;каза́ти;;verb', 'czech;;říkat;;verb', 'lao;;ເວົ້າ;;verb', 'hungarian;;mond;;verb', 'thai;;พูด;;verb', 'turkish;;demek;;verb', 'lao;;ກ່າວ;;verb', 'lower sorbian;;groniś;;verb', 'nepali;;भन्नु;;verb', 'danish;;sige;;verb', 'korean;;말씀하다;;verb', 'cherokee;;ꮒꭶꮺꭰ;;verb', 'tagalog;;sabihin;;verb', 'belarusian;;гавары́ць;;verb', 'polish;;powiedzieć;;verb', 'kazakh;;айту;;verb', 'northern kurdish;;gotin;;verb', 'assamese;;ক;;verb', 'japanese;;おっしゃる;;verb', 'chinese mandarin;;告訴 /告诉;;verb', 'macedonian;;кажува;;verb', 'kazakh;;деу;;verb', 'swedish;;säga;;verb', 'japanese;;申す;;verb', 'javanese;;kandha;;verb', 'norman;;dithe;;verb', 'portuguese;;dizer;;verb', 'indonesian;;bicara;;verb', 'hindi;;कहना;;verb', 'hebrew;;אָמַר;;verb', 'aromanian;;dzãc;;verb', 'aromanian;;spun;;verb', 'bulgarian;;ка́жа;;verb', 'interlingua;;dicer;;verb', 'odia;;କହିବା;;verb', 'welsh;;dweud;;verb', 'norwegian nynorsk;;seia;;verb', 'thai;;กล่าว;;verb', 'manx;;abbyr;;verb', 'armenian;;ասել;;verb', 'belarusian;;каза́ць;;verb', 'finnish;;kertoa;;verb', 'latin;;dico;;verb', 'latin;;proloquor;;verb', 'wu chinese;;講 /讲;;verb', 'sardinian;;faeddare;;verb', 'bashkir;;тейеү;;verb', 'old east slavic;;говорити;;verb', 'polish;;mówić;;verb', 'khmer;;ថា;;verb', 'norwegian nynorsk;;seie;;verb', 'nanai;;ун-;;verb', 'tatar;;дияргә;;verb', 'japanese;;言う;;verb', 'tatar;;әйтергә;;verb', 'kashmiri;;دَپُن;;verb', 'spanish;;decir;;verb', 'tajik;;гуфтан;;verb', 'evenki;;гунми;;verb', 'norwegian bokmål;;si;;verb', 'arabic;;حكى;;verb', 'japanese;;申し上げる;;verb', 'sanskrit;;भाषते;;verb', 'bengali;;বলা;;verb', 'japanese;;語る;;verb', 'chickasaw;;aachi;;verb', 'marathi;;म्हणणे;;verb', 'galician;;dicir;;verb', 'estonian;;ütlema;;verb', 'gothic;;𐌵𐌹𐌸𐌰𐌽;;verb', 'persian;;dari گُفْتَن;;verb', 'slovak;;povedať;;verb', 'romansch;;dir;;verb', 'extremaduran;;izil;;verb', 'burmese;;ဆို;;verb', 'mongolian;;хэлэх;;verb', 'even;;гӫндэй;;verb', 'lithuanian;;sakyti;;verb', 'latvian;;teikt;;verb', 'slovene;;reči;;verb', 'serbo-croatian;;ка́зати;;verb', 'turkish;;söylemek;;verb', 'afrikaans;;sê;;verb', 'italian;;dire;;verb', 'burmese;;ပြော;;verb', 'macedonian;;каже;;verb', 'urdu;;کَہْنا;;verb', 'latin;;inquam;;verb', 'esperanto;;diri;;verb', 'turkmen;;diýmek;;verb', 'kashmiri;;وَنُن;;verb', 'chinese cantonese;;講 /讲;;verb', 'cornish;;lawl;;verb', 'georgian;;ლაპარაკი;;verb', 'romanian;;zice;;verb', 'tocharian b;;we-;;verb', 'belarusian;;сказа́ць;;verb', 'higaonon;;ikagi;;verb', 'bulgarian;;ка́звам;;verb', 'slovak;;hovoriť;;verb', 'chinese mandarin;;說 /说;;verb', 'ukrainian;;сказа́ти;;verb', 'chinese;;講 /讲;;verb', 'emilian;;dîr;;verb', 'latin;;for;;verb', 'uzbek;;demoq;;verb', 'old english;;secgan;;verb', 'albanian;;them;;verb', 'kyrgyz;;айтуу;;verb', 'catalan;;dir;;verb', 'yiddish;;זאָגן;;verb', 'friulian;;dî;;verb', 'bashkir;;әйтеү;;verb', 'russian;;сказа́ть;;verb', 'ukrainian;;говори́ти;;verb', 'irish;;abair;;verb', 'latin;;loquor;;verb', 'pannonian rusyn;;гуториц;;verb', 'uyghur;;دېمەك;;verb', 'egyptian;;d:d;;verb', 'slovene;;povedati;;verb', 'ancient greek;;λέγω;;verb', 'serbo-croatian;;ре̏ћи;;verb', 'arabic;;قَالَ;;verb', 'polish;;powiadać;;verb', 'uzbek;;gapirmoq;;verb', 'khmer;;និយាយ;;verb', 'azerbaijani;;demək;;verb', 'serbo-croatian;;гово̀рити;;verb'}\n",
      "170 | fool;;(derogatory) a person with poor judgment or little intelligence. | {'finnish;;hullu;;noun', 'malay;;bodoh;;noun', 'french;;andouille;;noun', 'kyrgyz;;акмак;;noun', 'swedish;;dåre;;noun', 'indonesian;;tolol;;noun', 'chichewa;;chitsiru;;noun', 'german;;narr;;noun', 'portuguese;;imbecil;;noun', 'finnish;;typerys;;noun', 'spanish;;taba;;noun', 'italian;;sciocco;;noun', 'japanese;;あほ;;noun', 'danish;;fjols;;noun', 'finnish;;pöljä;;noun', 'japanese;;アホ;;noun', 'chinese mandarin;;呆子;;noun', 'estonian;;tola;;noun', 'czech;;pitomec;;noun', 'latin;;stultus;;noun', 'serbo-croatian;;glupan;;noun', 'ingrian;;tuhkuri;;noun', 'yiddish;;שוטה;;noun', 'galician;;lores;;noun', 'polish;;bęcwał;;noun', 'ukrainian;;ду́рень;;noun', 'ottoman turkish;;طوی;;noun', 'polish;;baran;;noun', 'korean;;바보;;noun', 'ingrian;;bolvana;;noun', 'hebrew;;גולם \\\\ גֹּלֶם;;noun', 'spanish;;imbécil;;noun', 'chinese mandarin;;蠢貨 /蠢货;;noun', 'gujarati;;મૂર્ખ;;noun', 'maori;;poroheahea;;noun', 'ingrian;;oolo;;noun', 'slovak;;hlupák;;noun', 'japanese;;馬鹿;;noun', 'german;;närrin;;noun', 'tajik;;аблаҳ;;noun', 'azerbaijani;;abdal;;noun', 'bulgarian;;глупа́чка;;noun', 'galician;;doudo;;noun', 'italian;;scemo;;noun', 'ingrian;;durakka;;noun', 'georgian;;იდიოტი;;noun', 'french;;dinde;;noun', 'azerbaijani;;axmaq;;noun', 'galician;;mascato;;noun', 'russian;;ду́ра;;noun', 'russian;;деби́л;;noun', 'tajik;;аҳмақ;;noun', 'bengali;;মূর্খ;;noun', 'galician;;babeco;;noun', 'latvian;;muļķis;;noun', 'portuguese;;idiota;;noun', 'galician;;babiolo;;noun', 'turkish;;aptal;;noun', 'macedonian;;абдал;;noun', 'russian;;идио́тка;;noun', 'belarusian;;ду́рань;;noun', 'italian;;imbecille;;noun', 'hungarian;;hülye;;noun', 'portuguese;;tolo;;noun', 'russian;;болва́н;;noun', 'catalan;;idiota;;noun', 'italian;;idiota;;noun', 'portuguese;;bobo;;noun', 'german;;dummkopf;;noun', 'czech;;blbec;;noun', 'kazakh;;ақымақ;;noun', 'scottish gaelic;;òinseach;;noun', 'irish;;baothán;;noun', 'galician;;paspán;;noun', 'finnish;;hölmö;;noun', 'spanish;;pendejo;;noun', 'latin;;mōrus;;noun', 'maori;;hākawa;;noun', 'chinese mandarin;;傻瓜;;noun', 'ingrian;;tuhkapussi;;noun', 'finnish;;idiootti;;noun', 'finnish;;munapää;;noun', 'bulgarian;;тъпа́к;;noun', 'armenian;;հիմար;;noun', 'maori;;ngoungoua;;noun', 'italian;;buffone;;noun', 'polish;;głupek;;noun', 'maori;;hukehuke;;noun', 'khmer;;ល្ងីល្ងើ;;noun', 'polish;;bałwan;;noun', 'chinese mandarin;;笨蛋;;noun', 'spanish;;bobo;;noun', 'hindi;;मूर्ख;;noun', 'portuguese;;burro;;noun', 'german;;trottel;;noun', 'french;;couillon;;noun', 'thai;;คนโง่;;noun', 'french;;idiot;;noun', 'arabic;;مُغَفَّل;;noun', 'polish;;głupiec;;noun', 'czech;;hlupák;;noun', 'german;;tor;;noun', 'italian;;cretino;;noun', 'ingrian;;vohma;;noun', 'lithuanian;;kvailys;;noun', 'russian;;тупи́ца;;noun', 'finnish;;tollo;;noun', 'ingrian;;hapalka;;noun', 'kyrgyz;;келесоо;;noun', 'latvian;;muļķe;;noun', 'korean;;백치;;noun', 'latvian;;duraks;;noun', 'swahili;;mjinga;;noun', 'romanian;;prost;;noun', 'serbo-croatian;;budala;;noun', 'arabic;;أَحْمَق;;noun', 'galician;;pallouco;;noun', 'german;;pute;;noun', 'catalan;;beneit;;noun', 'czech;;blázen;;noun', 'finnish;;ääliö;;noun', 'italian;;stupido;;noun', 'esperanto;;stultulo;;noun', 'turkish;;salak;;noun', 'galician;;parvo;;noun', 'hebrew;;שׁוֹטֶה;;noun', 'german;;dumme gans;;noun', 'scottish gaelic;;amadan;;noun', 'finnish;;narri;;noun', 'faroese;;býttlingur;;noun', 'sanskrit;;दुर्मति;;noun', 'albanian;;idiot;;noun', 'vietnamese;;thằng ngu;;noun', 'albanian;;budalla;;noun', 'old norse;;api;;noun', 'french;;abruti;;noun', 'burmese;;ဗာလ;;noun', 'maori;;pōrewarewa;;noun', 'ingrian;;foofana;;noun', 'polish;;idiota;;noun', 'galician;;idiota;;noun', 'chinese mandarin;;蠢人;;noun', 'french;;imbécile;;noun', 'czech;;blb;;noun', 'russian;;глупе́ц;;noun', 'russian;;идио́т;;noun', 'bulgarian;;глупа́к;;noun', 'uzbek;;ahmoq;;noun', 'finnish;;tomppeli;;noun', 'yiddish;;נאַר;;noun', 'ingrian;;tuhkapää;;noun', 'bulgarian;;абда́л;;noun', 'irish;;amadán;;noun', 'lao;;ຄົນໂງ່;;noun', 'dutch;;domme gans;;noun', 'czech;;šašek;;noun', 'thai;;ควาย;;noun', 'chinese mandarin;;傻子;;noun', 'polish;;dureń;;noun', 'turkish;;ahmak;;noun', 'french;;crétin;;noun', 'serbo-croatian;;luđak;;noun', 'spanish;;gilí;;noun', 'russian;;дура́к;;noun', 'maori;;wawau;;noun', 'ukrainian;;ду́рник;;noun', 'urdu;;مورکھ;;noun', 'spanish;;tonto;;noun', 'ukrainian;;йо́лоп;;noun', 'russian;;ду́рень;;noun'}\n"
     ]
    }
   ],
   "source": [
    "concept_map = dict()\n",
    "concept_list = set()\n",
    "def add_concept_to_translation(translation: str, concept: str) -> None:\n",
    "    concept_list.add(concept)\n",
    "    if not concept in concept_map:\n",
    "        concept_map[concept] = set()\n",
    "    concept_map[concept].add(translation)\n",
    "\n",
    "df_filtered.apply(lambda row: add_concept_to_translation(row[\"language_and_translation\"], row[\"word_and_gloss\"]), axis=1)\n",
    "\n",
    "maximum = 0\n",
    "for key, value in concept_map.items():\n",
    "    if len(value) > maximum:\n",
    "        maximum = len(value)\n",
    "        print(f\"{maximum:2d} | {key:32s} | {value}\")"
   ]
  },
  {
   "cell_type": "markdown",
   "metadata": {},
   "source": [
    "### We have 5315 concepts."
   ]
  },
  {
   "cell_type": "code",
   "execution_count": 135,
   "metadata": {},
   "outputs": [
    {
     "data": {
      "text/plain": [
       "5315"
      ]
     },
     "execution_count": 135,
     "metadata": {},
     "output_type": "execute_result"
    }
   ],
   "source": [
    "len(concept_list)"
   ]
  },
  {
   "cell_type": "markdown",
   "metadata": {},
   "source": [
    "### Show first entry of the Concept Map."
   ]
  },
  {
   "cell_type": "code",
   "execution_count": 136,
   "metadata": {},
   "outputs": [
    {
     "data": {
      "text/plain": [
       "{'free;;(social) unconstrained.;;not imprisoned or enslaved.': {'arabic;;حُرّ;;adj',\n",
       "  'armenian;;ազատ;;adj',\n",
       "  'assamese;;মুকলি;;adj',\n",
       "  'asturian;;llibre;;adj',\n",
       "  'azerbaijani;;azad;;adj',\n",
       "  'bambara;;hɔrɔn;;adj',\n",
       "  'bashkir;;ирекле;;adj',\n",
       "  'catalan;;lliure;;adj',\n",
       "  'chinese mandarin;;自由的;;adj',\n",
       "  'czech;;svobodný;;adj',\n",
       "  'czech;;volný;;adj',\n",
       "  'danish;;fri;;adj',\n",
       "  'dutch;;vrij;;adj',\n",
       "  'esperanto;;libera;;adj',\n",
       "  'estonian;;vaba;;adj',\n",
       "  'finnish;;vapaa;;adj',\n",
       "  'french;;libre;;adj',\n",
       "  'galician;;libre;;adj',\n",
       "  'german;;frei;;adj',\n",
       "  'greek;;ελεύθερος;;adj',\n",
       "  'hebrew;;חָפְשִׁי;;adj',\n",
       "  'hebrew;;חופשי;;adj',\n",
       "  'hungarian;;szabad;;adj',\n",
       "  'icelandic;;frjáls;;adj',\n",
       "  'ido;;libera;;adj',\n",
       "  'indonesian;;bebas;;adj',\n",
       "  'interlingua;;libere;;adj',\n",
       "  'irish;;saor;;adj',\n",
       "  'italian;;libero;;adj',\n",
       "  'japanese;;自由;;adj',\n",
       "  'korean;;자유;;adj',\n",
       "  'latvian;;brīvs;;adj',\n",
       "  'limburgish;;vrie;;adj',\n",
       "  'low german;;free;;adj',\n",
       "  'macedonian;;слободен;;adj',\n",
       "  'malay;;bebas;;adj',\n",
       "  'malayalam;;സ്വതന്ത്രം;;adj',\n",
       "  'norman;;libre;;adj',\n",
       "  'northern kurdish;;azad;;adj',\n",
       "  'northern kurdish;;serbest;;adj',\n",
       "  'norwegian;;fri;;adj',\n",
       "  'occitan;;liure;;adj',\n",
       "  'old english;;frēo;;adj',\n",
       "  'old irish;;sóer;;adj',\n",
       "  'persian;;آزاد;;adj',\n",
       "  'polish;;swobodny;;adj',\n",
       "  'polish;;wolny;;adj',\n",
       "  'portuguese;;livre;;adj',\n",
       "  'romanian;;liber;;adj',\n",
       "  'russian;;свобо́дный;;adj',\n",
       "  'scottish gaelic;;saor;;adj',\n",
       "  'serbo-croatian;;slobodan;;adj',\n",
       "  'slovak;;slobodný;;adj',\n",
       "  'spanish;;libre;;adj',\n",
       "  'swedish;;fri;;adj',\n",
       "  'turkish;;özgür;;adj',\n",
       "  'yiddish;;פֿרײַ;;adj',\n",
       "  'zazaki;;azad (diq);;adj',\n",
       "  'zazaki;;xoser;;adj'}}"
      ]
     },
     "execution_count": 136,
     "metadata": {},
     "output_type": "execute_result"
    }
   ],
   "source": [
    "first_concept = dict(list(concept_map.items())[:1])\n",
    "first_concept"
   ]
  },
  {
   "cell_type": "code",
   "execution_count": 137,
   "metadata": {},
   "outputs": [],
   "source": [
    "G = nx.Graph()\n",
    "\n",
    "# Takes about 30 seconds on my machine\n",
    "edge_map = dict() \n",
    "maximum = 0\n",
    "for i, concept1 in enumerate(concept_list):\n",
    "    for concept2 in concept_list:\n",
    "        if concept1 == concept2:\n",
    "            continue\n",
    "        \n",
    "        pair = tuple(sorted([concept1, concept2]))\n",
    "        if intersection := concept_map[concept1].intersection(concept_map[concept2]):\n",
    "            edge_map[pair] = Edge(len(intersection), intersection)\n",
    "            if len(intersection) > maximum:\n",
    "                maximum = len(intersection)\n",
    "\n",
    "# Add edges to the graph with weights\n",
    "for pair, edge in edge_map.items():\n",
    "    G.add_edge(pair[0], pair[1], weight=edge.weight)\n",
    "\n",
    "edges = G.edges(data=True)\n",
    "weights = [edge.weight for edge in edge_map.values()]\n"
   ]
  },
  {
   "cell_type": "code",
   "execution_count": 138,
   "metadata": {},
   "outputs": [
    {
     "name": "stdout",
     "output_type": "stream",
     "text": [
      "Strongest connections:\n",
      "(weight: 137) football;;(uk, africa, caribbean, south asia, uncountable) association football, also called soccer: a game in which two teams each contend to get a round ball into the other team's goal primarily by kicking the ball. -- soccer;;(originated, late 19th c, now often us, australia, ireland, philippines, and other countries; see usage notes) association football.\n",
      "(weight: 129) illness;;(countable) an instance of a disease or poor health. -- disease;;(medicine) an abnormal condition of a human, animal or plant that causes discomfort or dysfunction; distinct from injury insofar as the latter is usually instantaneously acquired.\n",
      "(weight: 122) speak;;(intransitive) to communicate with one's voice, to say words out loud. -- talk;;(intransitive) to communicate, usually by means of speech.\n",
      "(weight: 116) soil;;(uncountable) a mixture of mineral particles and organic material, used to support plant growth. -- earth;;(uncountable) soil.\n",
      "(weight: 115) hide;;(transitive) to put (something) in a place where it will be harder to discover or out of sight. -- conceal;;(transitive) to hide something from view or from public knowledge, to try to keep something secret.\n",
      "\n",
      "Weakest connections:\n",
      "(weight: 1) hell;;(in many religions, uncountable) a place of torment where some or all sinners are believed to go after death and evil spirits are believed to be. -- purgatory;;(christianity) an intermediate state after death in which some of those ultimately destined for heaven must first undergo purification.\n",
      "(weight: 1) birthday suit;;(idiomatic, often humorous) nakedness, unclothed skin; an exposure of a human's natural anatomy without clothing. -- nudity;;(uncountable) the state or quality of being without clothing on the body; specifically, the quality of being without clothing on the genitals.\n",
      "(weight: 1) runway;;(aviation) a section of land, usually paved, for airplanes to land on or take off from. -- airfield;;(aviation) an open field designated for the taking off and landing of aircraft, but which, unlike an airport, does not necessarily have terminals or paved runways.\n",
      "(weight: 1) appendicitis;;(pathology) inflammation of the vermiform appendix -- vermiform appendix;;(anatomy) an organ consisting of a blind tube projecting from the caecum. of disputed function (if any), it is known for sometimes causing inflammation (appendicitis) in humans.\n",
      "(weight: 1) demigod;;(mythology) a half-god or hero; the offspring of a deity and a mortal. -- divinity;;(uncountable) the state, position, or fact of being a god or god. [from 14th c.]\n"
     ]
    }
   ],
   "source": [
    "sorted_edges = sorted(edges, key = lambda edge: edge[2]['weight'], reverse=True)\n",
    "print(\"Strongest connections:\")\n",
    "for parent1, parent2, edge_data in sorted_edges[:5]:\n",
    "    print(f\"(weight: {edge_data['weight']}) {parent1} -- {parent2}\")\n",
    "\n",
    "print(\"\\nWeakest connections:\")\n",
    "for parent1, parent2, edge_data in sorted_edges[-5:]:\n",
    "    print(f\"(weight: {edge_data['weight']}) {parent1} -- {parent2}\")"
   ]
  },
  {
   "cell_type": "code",
   "execution_count": 139,
   "metadata": {},
   "outputs": [],
   "source": [
    "def create_graph(focus_concept: str) -> None:\n",
    "    \"\"\"\n",
    "    Creates an interactive network and saves it as a HTML file.\n",
    "    \n",
    "    Args:\n",
    "        focus_concept (str): The concept for which the network should be created.\n",
    "        For Example: \"free;;(social) unconstrained.;;not imprisoned or enslaved.\"\n",
    "    \"\"\"\n",
    "    ## Validate input TODO\n",
    "    try:\n",
    "        # Get all neighbors of the focus concept\n",
    "        neighbors = list(G.neighbors(focus_concept))\n",
    "    except NetworkXError:\n",
    "        print(f\"Invalid focus_concept={focus_concept}. Dataset does not contain this concept.\")\n",
    "        return\n",
    "\n",
    "    # Create a pyvis network\n",
    "    net = Network(notebook=False, height=\"750px\", width=\"100%\", bgcolor=\"#222222\", font_color=\"white\")\n",
    "\n",
    "    # Create a subgraph containing the focus concept and its neighbors\n",
    "    local_subgraph = G.subgraph([focus_concept] + neighbors)\n",
    "\n",
    "    # Map edges to the languages that connect them\n",
    "    edge_to_languages = defaultdict(tuple)\n",
    "\n",
    "    subgraph_maximum = 0\n",
    "    for pair in local_subgraph.edges():\n",
    "        pair = tuple(sorted(list(pair)))\n",
    "        edge = edge_map[pair]\n",
    "        edge_to_languages[pair] = edge.value\n",
    "\n",
    "        if edge.weight > subgraph_maximum:\n",
    "            subgraph_maximum = edge.weight\n",
    "\n",
    "\n",
    "    # Add nodes to the pyvis network\n",
    "    for node in local_subgraph.nodes:\n",
    "        net.add_node(node, title=node, label=node.split(settings.SEPERATOR)[0])\n",
    "\n",
    "    # Add edges with language information\n",
    "    for pair, languages in edge_to_languages.items():\n",
    "        edge: Edge = edge_map[pair]\n",
    "        value = edge.weight\n",
    "        width = edge.normalized(subgraph_maximum)\n",
    "        net.add_edge(*pair, value=value, languages=', '.join(languages), width=width)\n",
    "\n",
    "    # Save graph to a temporary file\n",
    "    temp_file = \"temp_network.html\"\n",
    "    net.save_graph(temp_file)\n",
    "\n",
    "    # Add dynamic legend to the HTML file\n",
    "    add_dynamic_legend(temp_file, edge_to_languages, focus_concept)\n",
    "\n",
    "    print(f\"Saved html Network '{focus_concept}'.\")"
   ]
  },
  {
   "cell_type": "markdown",
   "metadata": {},
   "source": [
    "## Two Example Subgraphs"
   ]
  },
  {
   "cell_type": "code",
   "execution_count": 140,
   "metadata": {},
   "outputs": [
    {
     "name": "stdout",
     "output_type": "stream",
     "text": [
      "Saved html Network 'free;;(social) unconstrained.;;not imprisoned or enslaved.'.\n"
     ]
    }
   ],
   "source": [
    "#create_graph(\"pyramid;;(geometry) a solid with triangular lateral faces and a polygonal (often square or rectangular) base.\")\n",
    "create_graph(\"free;;(social) unconstrained.;;not imprisoned or enslaved.\")"
   ]
  },
  {
   "cell_type": "code",
   "execution_count": 141,
   "metadata": {},
   "outputs": [],
   "source": [
    "weight_threshold = 5 # too high?\n",
    "\n",
    "# remove edges under threshold\n",
    "edges_to_remove = [(u, v) for u, v, data in G.edges(data=True) if data['weight'] < weight_threshold]\n",
    "G.remove_edges_from(edges_to_remove)\n",
    "\n",
    "# Graph Depth 2 (Nur für Visualisierung)\n",
    "d2_graph = nx.Graph()\n",
    "for node in G.nodes():\n",
    "    subgraph = nx.ego_graph(G, node, radius=2)\n",
    "    d2_graph.add_edges_from(subgraph.edges(data=True))\n",
    "\n",
    "# Remove duplicate edges\n",
    "d2_graph = nx.Graph(d2_graph)\n",
    "\n",
    "# Seperate graph into zusammenhangskomponenten\n",
    "components = list(nx.connected_components(d2_graph))\n",
    "\n",
    "# Create Graph for each component\n",
    "def create_html(component, index):\n",
    "    component_graph = d2_graph.subgraph(component)\n",
    "\n",
    "    net = Network(notebook=False, height=\"100vh\", bgcolor=\"#222222\", font_color=\"white\")\n",
    "\n",
    "    for node in component_graph.nodes:\n",
    "        net.add_node(node, title=node, label=node.split(\";;\")[0])\n",
    "\n",
    "    # Calculcate the global maximum of edge weights for the component\n",
    "    try:\n",
    "        component_maximum = max(\n",
    "            edge_map[pair].weight for pair in component_graph.edges\n",
    "            if pair in edge_map  # Check if edge exists in edge_map\n",
    "        )\n",
    "    except ValueError:\n",
    "        # If no edges exist, set default component maximum on 1\n",
    "        component_maximum = 1\n",
    "        #print(f\"Component {index + 1} has no edges in edge_map. Use default value for component_maximum.\")\n",
    "\n",
    "    # Add edges with weights and Information\n",
    "    edge_to_languages = defaultdict(tuple)\n",
    "    for u, v, data in component_graph.edges(data=True):\n",
    "        pair = tuple(sorted([u, v]))\n",
    "        if pair in edge_map:   # Check if edge exists in edge_map\n",
    "            edge = edge_map[pair]\n",
    "            value = edge.weight\n",
    "            languages = edge.value\n",
    "            width = edge.normalized(component_maximum)  # Use max of the component for normalization\n",
    "            net.add_edge(u, v, value=value, languages=', '.join(languages), width=width)\n",
    "            edge_to_languages[pair] = edge.value\n",
    "\n",
    "    # save graph in a html file\n",
    "    output_file = f\"component_graphs/component_{index + 1}_graph.html\"\n",
    "    net.save_graph(output_file)\n",
    "\n",
    "    # Add dynamix language legend\n",
    "    add_dynamic_legend_to_component_graph(output_file, edge_to_languages, f\"component_{index + 1}_graph\")"
   ]
  },
  {
   "cell_type": "code",
   "execution_count": 142,
   "metadata": {},
   "outputs": [],
   "source": [
    "def save_results_to_file(results, filename):\n",
    "    \"\"\"\n",
    "    Saves results to a JSON file.\n",
    "    \"\"\"\n",
    "    with open(filename, \"w\", encoding=\"utf-8\") as f:\n",
    "        json.dump(results, f, indent=4)\n",
    "        \n",
    "\n",
    "def random_walk_in_component(component_graph, start_node, walk_length):\n",
    "    \"\"\"\n",
    "    Performs a random walk in a component. Ganz oft aufrufen auf dem gleichen (für alle im graphen) Knoten udn dann wahrscheinlichkeitsverteilung über output (5% dieser Knoten, 10% anmderer usw.)\n",
    "    \"\"\"\n",
    "    current_node = start_node \n",
    "\n",
    "    for _ in range(walk_length - 1):\n",
    "        neighbors = list(component_graph.neighbors(current_node)) + [current_node]\n",
    "        next_node = random.choice(neighbors)\n",
    "        current_node = next_node\n",
    "\n",
    "    return current_node\n",
    "\n",
    "\n",
    "def find_longest_path_approx(component_graph, max_depth=None) -> int:\n",
    "    \"\"\"\n",
    "    Get the longest path. \n",
    "    :return: Number of nodes of the longest path.\n",
    "    \"\"\"\n",
    "    longest_path_length = 0\n",
    "    for node in component_graph.nodes:\n",
    "        # Depth is 2 * number of nodes\n",
    "        if max_depth is None:\n",
    "            max_depth = component_graph.number_of_nodes()\n",
    "        path_length = nx.single_source_shortest_path(component_graph, node, cutoff=max_depth) # not path, lengths\n",
    "        longest_path_length = max(longest_path_length, len(path_length))\n",
    "    return longest_path_length\n",
    "\n",
    "\n",
    "def process_all_components(d2_graph):\n",
    "    \"\"\"\n",
    "    Processes all connected components of the graph.\n",
    "    \"\"\"\n",
    "    components = list(nx.connected_components(d2_graph))\n",
    "\n",
    "    for index, component in enumerate(components):\n",
    "\n",
    "        # Create a visualisation for the component\n",
    "        create_html(component=component, index=index)\n",
    "        \n",
    "        component_graph = d2_graph.subgraph(component)\n",
    "\n",
    "        # Get the longest path\n",
    "        longest_path = find_longest_path_approx(component_graph)\n",
    "\n",
    "        # random walk\n",
    "        start_node = list(component_graph.nodes)[0]  # start\n",
    "        walk_length = longest_path  # Lieber bei zweimal bleiben\n",
    "        random_walk = random_walk_in_component(component_graph, start_node, walk_length)\n",
    "        # wahrscheinlichkeitsverteilung von jedem Knoten zu einem anderem, führt aber zu vielen 0, 10% abziehen von allen die ich schon habe, dividieren durch anzahl der 0 werte und dazuaddieren\n",
    "        # sparse matrix (default wert kann eingestellt werden.)\n",
    "\n",
    "        summary = {\n",
    "            \"component_id\": index + 1,\n",
    "            \"num_nodes\": component_graph.number_of_nodes(),\n",
    "            \"num_edges\": component_graph.number_of_edges(),\n",
    "            \"density\": nx.density(component_graph),\n",
    "            \"longest_path\": walk_length,\n",
    "            \"random_walk\": random_walk\n",
    "        }\n",
    "\n",
    "        save_results_to_file(summary, f\"component_graphs/component_{index + 1}_summary.json\")\n",
    "\n",
    "        # uncomment\n",
    "        #print(f\"Component {index + 1} processed and saved.\")\n",
    "\n",
    "process_all_components(d2_graph)"
   ]
  },
  {
   "cell_type": "code",
   "execution_count": 143,
   "metadata": {},
   "outputs": [],
   "source": [
    "from typing import Dict, List\n",
    "\n",
    "random_count: int = 10\n",
    "\n",
    "def get_matrix_for_component_graph(component_graph: nx.Graph) -> List[List[int]]:\n",
    "    \"\"\"\n",
    "    ...\n",
    "\n",
    "    :param component_graph: The graph to calculate the matrix from\n",
    "    :return: The len(nodes) x len(nodes) matrix containing every start stop pair\n",
    "    \"\"\"\n",
    "    path_len: int = find_longest_path_approx(component_graph=component_graph)\n",
    "\n",
    "    # Sort component_grpah nodes for a consistent matrix representation (index=node)\n",
    "    nodes = sorted(component_graph.nodes)\n",
    "    debug(\"\\n  \".join([\"Sorted Node Index:\"] + nodes))\n",
    "\n",
    "    # Run random_walk starting from every node once and save the last visited node\n",
    "    start_stop_map: Dict[str, str] = {node: [random_walk_in_component(component_graph=component_graph, \n",
    "                                                                      start_node=node, \n",
    "                                                                      walk_length=path_len) for _ in range(random_count)] \n",
    "                                      for node in nodes}\n",
    "\n",
    "    # Initialize matrix full of 0   \n",
    "    matrix: List[List[int]] = [[0 for _ in range(len(nodes))] for _ in range(len(nodes))]\n",
    "\n",
    "    # Add 1 to every start stop pair and devide by node_count * walk_count\n",
    "    for start, end_nodes in start_stop_map.items():\n",
    "        for end in end_nodes:\n",
    "            matrix[nodes.index(start)][nodes.index(end)] = matrix[nodes.index(start)][nodes.index(end)] + (1 / (random_count))\n",
    "\n",
    "    debug()\n",
    "    debug('\\n  '.join([\"EndNode Percentages:\"] + [\", \".join([f\"{value:0.4f}\" for value in row]) for row in matrix]))\n",
    "    debug()\n",
    "    debug(f\"Sum of percentages: {sum([sum(row) for row in matrix])}\")\n",
    "    debug(f\"Sum per row: {[sum(row) for row in matrix]}\\nrows: {len(matrix)}\\n1/rows: {1/len(matrix)}\")\n",
    "\n",
    "    return matrix, nodes\n",
    "\n",
    "# Example \n",
    "component_graph = d2_graph.subgraph(components[0])\n",
    "matrix = get_matrix_for_component_graph(component_graph)\n"
   ]
  },
  {
   "cell_type": "code",
   "execution_count": 144,
   "metadata": {},
   "outputs": [
    {
     "name": "stdout",
     "output_type": "stream",
     "text": [
      "4687.699999999898 5315\n"
     ]
    }
   ],
   "source": [
    "total_nodes = len(G.nodes())\n",
    "matrix = np.zeros((total_nodes, total_nodes))\n",
    "components = list(nx.connected_components(G))\n",
    "node_to_index = {}\n",
    "# Get matrix for every component in G\n",
    "for i, component in enumerate(components):\n",
    "    graph = G.subgraph(component)\n",
    "\n",
    "    # Exclude big graph for dev reason\n",
    "    if len(graph.nodes) < 100:\n",
    "        m, nodes = get_matrix_for_component_graph(component_graph=graph)\n",
    "        \n",
    "        # Loop over row of component matrix\n",
    "        for i, row in enumerate(m):\n",
    "\n",
    "            # Add node to node_idx map\n",
    "            node_to_index[nodes[i]] = len(node_to_index)\n",
    "            for j, value in enumerate(row):             \n",
    "                matrix[len(node_to_index)][len(node_to_index) + j] = value\n",
    "\n",
    "\n",
    "# Smoothing factor 10% for the 0 transitions inbetween the component graphs\n",
    "smoothing_factor = 0.1\n",
    "\n",
    "for i in range(matrix.shape[0]):\n",
    "    z = max(1, np.count_nonzero(matrix[i]==0))\n",
    "    for j in range(matrix.shape[1]):\n",
    "        if matrix[i][j] == 0:\n",
    "            matrix[i][j] = smoothing_factor / z\n",
    "        else:\n",
    "            matrix[i][j] *= (1 - smoothing_factor)\n",
    "\n",
    "# should be ~\"number of rows/cols\" (here: 5315)\n",
    "# can differ greatly due to rounding errors\n",
    "print(np.sum(matrix), matrix.shape[0]) \n"
   ]
  },
  {
   "cell_type": "code",
   "execution_count": 145,
   "metadata": {},
   "outputs": [
    {
     "data": {
      "text/plain": [
       "2712"
      ]
     },
     "execution_count": 145,
     "metadata": {},
     "output_type": "execute_result"
    }
   ],
   "source": [
    "len(components)"
   ]
  },
  {
   "cell_type": "code",
   "execution_count": 146,
   "metadata": {},
   "outputs": [
    {
     "data": {
      "text/plain": [
       "array([[1.88146754e-05, 1.88146754e-05, 1.88146754e-05, ...,\n",
       "        1.88146754e-05, 1.88146754e-05, 1.88146754e-05],\n",
       "       [1.88323917e-05, 1.80000000e-01, 1.80000000e-01, ...,\n",
       "        1.88323917e-05, 1.88323917e-05, 1.88323917e-05],\n",
       "       [1.88359390e-05, 1.88359390e-05, 9.00000000e-02, ...,\n",
       "        1.88359390e-05, 1.88359390e-05, 1.88359390e-05],\n",
       "       ...,\n",
       "       [1.88146754e-05, 1.88146754e-05, 1.88146754e-05, ...,\n",
       "        1.88146754e-05, 1.88146754e-05, 1.88146754e-05],\n",
       "       [1.88146754e-05, 1.88146754e-05, 1.88146754e-05, ...,\n",
       "        1.88146754e-05, 1.88146754e-05, 1.88146754e-05],\n",
       "       [1.88146754e-05, 1.88146754e-05, 1.88146754e-05, ...,\n",
       "        1.88146754e-05, 1.88146754e-05, 1.88146754e-05]])"
      ]
     },
     "execution_count": 146,
     "metadata": {},
     "output_type": "execute_result"
    }
   ],
   "source": [
    "matrix"
   ]
  },
  {
   "cell_type": "markdown",
   "metadata": {},
   "source": [
    "https://stats.stackexchange.com/questions/134504/using-an-asymmetric-distance-matrix-for-clustering"
   ]
  },
  {
   "cell_type": "code",
   "execution_count": 147,
   "metadata": {},
   "outputs": [],
   "source": [
    "def avg(a:float, b: float) -> float:\n",
    "    \"\"\"\n",
    "    Calculcates the average of two values.\n",
    "    \"\"\"\n",
    "    return (a + b)/2\n",
    "\n",
    "\n",
    "aggs = [min, max, avg]\n",
    "agg = aggs[2]\n",
    "\n",
    "\n",
    "for i in range(matrix.shape[0]):\n",
    "    for j in range(i):\n",
    "        matrix[i][j] = matrix[j][i] = agg(matrix[i][j], matrix[j][i])"
   ]
  },
  {
   "cell_type": "code",
   "execution_count": 148,
   "metadata": {},
   "outputs": [
    {
     "data": {
      "text/plain": [
       "array([[1.88146754e-05, 1.88235336e-05, 1.88253072e-05, ...,\n",
       "        1.88146754e-05, 1.88146754e-05, 1.88146754e-05],\n",
       "       [1.88235336e-05, 1.80000000e-01, 9.00094180e-02, ...,\n",
       "        1.88235336e-05, 1.88235336e-05, 1.88235336e-05],\n",
       "       [1.88253072e-05, 9.00094180e-02, 9.00000000e-02, ...,\n",
       "        1.88253072e-05, 1.88253072e-05, 1.88253072e-05],\n",
       "       ...,\n",
       "       [1.88146754e-05, 1.88235336e-05, 1.88253072e-05, ...,\n",
       "        1.88146754e-05, 1.88146754e-05, 1.88146754e-05],\n",
       "       [1.88146754e-05, 1.88235336e-05, 1.88253072e-05, ...,\n",
       "        1.88146754e-05, 1.88146754e-05, 1.88146754e-05],\n",
       "       [1.88146754e-05, 1.88235336e-05, 1.88253072e-05, ...,\n",
       "        1.88146754e-05, 1.88146754e-05, 1.88146754e-05]])"
      ]
     },
     "execution_count": 148,
     "metadata": {},
     "output_type": "execute_result"
    }
   ],
   "source": [
    "matrix"
   ]
  },
  {
   "cell_type": "code",
   "execution_count": 149,
   "metadata": {},
   "outputs": [],
   "source": [
    "dist_matrix = 1 - matrix"
   ]
  },
  {
   "cell_type": "code",
   "execution_count": 150,
   "metadata": {},
   "outputs": [
    {
     "data": {
      "text/plain": [
       "array([[0.99998119, 0.99998118, 0.99998117, ..., 0.99998119, 0.99998119,\n",
       "        0.99998119],\n",
       "       [0.99998118, 0.82      , 0.90999058, ..., 0.99998118, 0.99998118,\n",
       "        0.99998118],\n",
       "       [0.99998117, 0.90999058, 0.91      , ..., 0.99998117, 0.99998117,\n",
       "        0.99998117],\n",
       "       ...,\n",
       "       [0.99998119, 0.99998118, 0.99998117, ..., 0.99998119, 0.99998119,\n",
       "        0.99998119],\n",
       "       [0.99998119, 0.99998118, 0.99998117, ..., 0.99998119, 0.99998119,\n",
       "        0.99998119],\n",
       "       [0.99998119, 0.99998118, 0.99998117, ..., 0.99998119, 0.99998119,\n",
       "        0.99998119]])"
      ]
     },
     "execution_count": 150,
     "metadata": {},
     "output_type": "execute_result"
    }
   ],
   "source": [
    "dist_matrix"
   ]
  },
  {
   "cell_type": "markdown",
   "metadata": {},
   "source": [
    "https://stackoverflow.com/questions/54055761/checking-triangle-inequality-in-a-massive-numpy-matrix"
   ]
  },
  {
   "cell_type": "code",
   "execution_count": 151,
   "metadata": {},
   "outputs": [
    {
     "name": "stdout",
     "output_type": "stream",
     "text": [
      "\n",
      "Total Violations: 0 out of 10000000 checks\n"
     ]
    }
   ],
   "source": [
    "def check_triangle_inequality(matrix, num_checks):\n",
    "    \"\"\"\n",
    "    Randomly samples triplets (i, j, k) from distance matrix D\n",
    "    and checks if D[i, j] <= D[i, k] + D[k, j] for all sampled triplets.\n",
    "    \n",
    "    Parameters:\n",
    "        D (ndarray): 2D symmetric distance matrix.\n",
    "        num_checks (int): Number of triplets to check.\n",
    "        verbose (bool): If True, prints details of violations.\n",
    "\n",
    "    Returns:\n",
    "        bool: True if all sampled triplets satisfy the inequality, else False.\n",
    "    \"\"\"\n",
    "    violations = 0\n",
    "\n",
    "    for _ in range(num_checks):\n",
    "        i, j, k = random.sample(range(matrix.shape[0]), 3)\n",
    "        dij = matrix[i, j]\n",
    "        dik = matrix[i, k]\n",
    "        dkj = matrix[k, j]\n",
    "\n",
    "        if dij > dik + dkj + 1e-8:\n",
    "            violations += 1\n",
    "\n",
    "    print(f\"\\nTotal Violations: {violations} out of {num_checks} checks\")\n",
    "\n",
    "    return violations == 0\n",
    "\n",
    "\n",
    "result = check_triangle_inequality(dist_matrix, num_checks=10_000_000)\n"
   ]
  },
  {
   "cell_type": "code",
   "execution_count": 152,
   "metadata": {},
   "outputs": [],
   "source": [
    "np.fill_diagonal(dist_matrix, 0)"
   ]
  },
  {
   "cell_type": "code",
   "execution_count": 153,
   "metadata": {},
   "outputs": [
    {
     "data": {
      "text/plain": [
       "array([[0.        , 0.99998118, 0.99998117, ..., 0.99998119, 0.99998119,\n",
       "        0.99998119],\n",
       "       [0.99998118, 0.        , 0.90999058, ..., 0.99998118, 0.99998118,\n",
       "        0.99998118],\n",
       "       [0.99998117, 0.90999058, 0.        , ..., 0.99998117, 0.99998117,\n",
       "        0.99998117],\n",
       "       ...,\n",
       "       [0.99998119, 0.99998118, 0.99998117, ..., 0.        , 0.99998119,\n",
       "        0.99998119],\n",
       "       [0.99998119, 0.99998118, 0.99998117, ..., 0.99998119, 0.        ,\n",
       "        0.99998119],\n",
       "       [0.99998119, 0.99998118, 0.99998117, ..., 0.99998119, 0.99998119,\n",
       "        0.        ]])"
      ]
     },
     "execution_count": 153,
     "metadata": {},
     "output_type": "execute_result"
    }
   ],
   "source": [
    "dist_matrix"
   ]
  },
  {
   "cell_type": "code",
   "execution_count": 154,
   "metadata": {},
   "outputs": [
    {
     "name": "stderr",
     "output_type": "stream",
     "text": [
      "Running MDS:   6%|▋         | 1/16 [00:12<03:00, 12.05s/dimension]"
     ]
    },
    {
     "name": "stdout",
     "output_type": "stream",
     "text": [
      "Dimension 1 → Stress: 4704921.90\n"
     ]
    },
    {
     "name": "stderr",
     "output_type": "stream",
     "text": [
      "Running MDS:  12%|█▎        | 2/16 [01:05<08:33, 36.66s/dimension]"
     ]
    },
    {
     "name": "stdout",
     "output_type": "stream",
     "text": [
      "Dimension 2 → Stress: 2504691.20\n"
     ]
    },
    {
     "name": "stderr",
     "output_type": "stream",
     "text": [
      "Running MDS:  19%|█▉        | 3/16 [09:38<55:02, 254.01s/dimension]"
     ]
    },
    {
     "name": "stdout",
     "output_type": "stream",
     "text": [
      "Dimension 3 → Stress: 1566689.75\n"
     ]
    },
    {
     "name": "stderr",
     "output_type": "stream",
     "text": [
      "Running MDS:  25%|██▌       | 4/16 [12:34<44:38, 223.19s/dimension]"
     ]
    },
    {
     "name": "stdout",
     "output_type": "stream",
     "text": [
      "Dimension 4 → Stress: 1095805.99\n"
     ]
    },
    {
     "name": "stderr",
     "output_type": "stream",
     "text": [
      "Running MDS:  31%|███▏      | 5/16 [16:58<43:37, 237.99s/dimension]"
     ]
    },
    {
     "name": "stdout",
     "output_type": "stream",
     "text": [
      "Dimension 5 → Stress: 839565.01\n"
     ]
    },
    {
     "name": "stderr",
     "output_type": "stream",
     "text": [
      "Running MDS:  38%|███▊      | 6/16 [23:16<47:36, 285.60s/dimension]"
     ]
    },
    {
     "name": "stdout",
     "output_type": "stream",
     "text": [
      "Dimension 6 → Stress: 679466.74\n"
     ]
    },
    {
     "name": "stderr",
     "output_type": "stream",
     "text": [
      "Running MDS:  44%|████▍     | 7/16 [31:30<53:03, 353.67s/dimension]"
     ]
    },
    {
     "name": "stdout",
     "output_type": "stream",
     "text": [
      "Dimension 7 → Stress: 570252.18\n"
     ]
    },
    {
     "name": "stderr",
     "output_type": "stream",
     "text": [
      "Running MDS:  50%|█████     | 8/16 [41:54<58:37, 439.74s/dimension]"
     ]
    },
    {
     "name": "stdout",
     "output_type": "stream",
     "text": [
      "Dimension 8 → Stress: 491133.10\n"
     ]
    },
    {
     "name": "stderr",
     "output_type": "stream",
     "text": [
      "Running MDS:  56%|█████▋    | 9/16 [53:16<1:00:08, 515.49s/dimension]"
     ]
    },
    {
     "name": "stdout",
     "output_type": "stream",
     "text": [
      "Dimension 9 → Stress: 431252.66\n"
     ]
    },
    {
     "name": "stderr",
     "output_type": "stream",
     "text": [
      "Running MDS:  62%|██████▎   | 10/16 [1:04:08<55:44, 557.50s/dimension]"
     ]
    },
    {
     "name": "stdout",
     "output_type": "stream",
     "text": [
      "Dimension 10 → Stress: 384434.75\n"
     ]
    },
    {
     "name": "stderr",
     "output_type": "stream",
     "text": [
      "Running MDS:  69%|██████▉   | 11/16 [1:12:23<44:52, 538.51s/dimension]"
     ]
    },
    {
     "name": "stdout",
     "output_type": "stream",
     "text": [
      "Dimension 11 → Stress: 346910.31\n"
     ]
    },
    {
     "name": "stderr",
     "output_type": "stream",
     "text": [
      "Running MDS:  75%|███████▌  | 12/16 [1:17:45<31:30, 472.60s/dimension]"
     ]
    },
    {
     "name": "stdout",
     "output_type": "stream",
     "text": [
      "Dimension 12 → Stress: 315985.14\n"
     ]
    },
    {
     "name": "stderr",
     "output_type": "stream",
     "text": [
      "Running MDS:  81%|████████▏ | 13/16 [1:22:12<20:31, 410.37s/dimension]"
     ]
    },
    {
     "name": "stdout",
     "output_type": "stream",
     "text": [
      "Dimension 13 → Stress: 290004.58\n"
     ]
    },
    {
     "name": "stderr",
     "output_type": "stream",
     "text": [
      "Running MDS:  88%|████████▊ | 14/16 [1:26:14<11:58, 359.47s/dimension]"
     ]
    },
    {
     "name": "stdout",
     "output_type": "stream",
     "text": [
      "Dimension 14 → Stress: 267941.41\n"
     ]
    },
    {
     "name": "stderr",
     "output_type": "stream",
     "text": [
      "Running MDS:  94%|█████████▍| 15/16 [1:29:37<05:12, 312.17s/dimension]"
     ]
    },
    {
     "name": "stdout",
     "output_type": "stream",
     "text": [
      "Dimension 15 → Stress: 248982.39\n"
     ]
    },
    {
     "name": "stderr",
     "output_type": "stream",
     "text": [
      "Running MDS: 100%|██████████| 16/16 [1:32:48<00:00, 348.05s/dimension]"
     ]
    },
    {
     "name": "stdout",
     "output_type": "stream",
     "text": [
      "Dimension 16 → Stress: 232514.73\n"
     ]
    },
    {
     "name": "stderr",
     "output_type": "stream",
     "text": [
      "\n"
     ]
    }
   ],
   "source": [
    "max_dim = 16\n",
    "dims = range(1, max_dim + 1)\n",
    "stress_vals = []\n",
    "\n",
    "for d in tqdm(dims, desc=\"Running MDS\", unit=\"dimension\"):\n",
    "    mds = MDS(n_components=d, dissimilarity='precomputed', random_state=42)\n",
    "    mds.fit(dist_matrix)\n",
    "    stress_vals.append(mds.stress_)\n",
    "    print(f\"Dimension {d} → Stress: {mds.stress_:.2f}\")\n"
   ]
  },
  {
   "cell_type": "code",
   "execution_count": null,
   "metadata": {},
   "outputs": [
    {
     "data": {
      "image/png": "[encoded data removed]",
      "text/plain": [
       "<Figure size 640x480 with 1 Axes>"
      ]
     },
     "metadata": {},
     "output_type": "display_data"
    }
   ],
   "source": [
    "plt.plot(dims, stress_vals, marker='o')\n",
    "plt.xlabel(\"Number of Dimensions\")\n",
    "plt.ylabel(\"Stress\")\n",
    "plt.title(\"MDS Stress vs. Dimensionality\")\n",
    "plt.grid(True)\n",
    "plt.show()"
   ]
  },
  {
   "cell_type": "code",
   "execution_count": null,
   "metadata": {},
   "outputs": [
    {
     "data": {
      "image/png": "[encoded data removed]",
      "text/plain": [
       "<Figure size 640x480 with 1 Axes>"
      ]
     },
     "metadata": {},
     "output_type": "display_data"
    }
   ],
   "source": [
    "dims = list(range(1, len(stress_vals) + 1))\n",
    "\n",
    "knee = KneeLocator(dims, stress_vals, curve=\"convex\", direction=\"decreasing\")\n",
    "\n",
    "sns.lineplot(x=dims, y=stress_vals, marker='o', label=\"Stress\")\n",
    "\n",
    "plt.axvline(x=knee.knee, color='#FF6F91', linestyle='--', label=f\"Elbow at dimension {knee.knee}\")\n",
    "plt.title(\"MDS Stress vs. Dimensionality (with Elbow)\")\n",
    "plt.xlabel(\"Number of Dimensions\")\n",
    "plt.ylabel(\"Stress\")\n",
    "plt.legend()\n",
    "plt.tight_layout()\n",
    "plt.show()"
   ]
  },
  {
   "cell_type": "code",
   "execution_count": null,
   "metadata": {},
   "outputs": [
    {
     "name": "stdout",
     "output_type": "stream",
     "text": [
      "The stress curve is strictly convex.\n"
     ]
    }
   ],
   "source": [
    "stress = np.array(stress_vals)\n",
    "\n",
    "delta_1 = np.diff(stress)\n",
    "delta_2 = np.diff(delta_1)\n",
    "\n",
    "\n",
    "if np.all(delta_2 >= 0):\n",
    "    print(\"The stress curve is strictly convex.\")\n",
    "elif np.all(delta_2[:-1] >= -1e-6):\n",
    "    print(\"The curve is mostly convex (with minor noise).\")\n",
    "else:\n",
    "    print(\"The curve is not convex.\")\n"
   ]
  },
  {
   "cell_type": "code",
   "execution_count": null,
   "metadata": {},
   "outputs": [],
   "source": []
  }
 ],
 "metadata": {
  "kernelspec": {
   "display_name": "Python 3",
   "language": "python",
   "name": "python3"
  },
  "language_info": {
   "codemirror_mode": {
    "name": "ipython",
    "version": 3
   },
   "file_extension": ".py",
   "mimetype": "text/x-python",
   "name": "python",
   "nbconvert_exporter": "python",
   "pygments_lexer": "ipython3",
   "version": "3.11.9"
  }
 },
 "nbformat": 4,
 "nbformat_minor": 2
}
