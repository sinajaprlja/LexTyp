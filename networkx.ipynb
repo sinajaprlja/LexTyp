{
 "cells": [
  {
   "cell_type": "code",
   "execution_count": 1,
   "metadata": {},
   "outputs": [],
   "source": [
    "from collections import defaultdict\n",
    "import networkx as nx\n",
    "from networkx import NetworkXError\n",
    "import pandas as pd\n",
    "from pyvis.network import Network\n",
    "from typing import Any\n",
    "\n",
    "from graph_utils import add_dynamic_legend\n",
    "from edge import Edge\n",
    "import settings"
   ]
  },
  {
   "cell_type": "markdown",
   "metadata": {},
   "source": [
    "## Load Dataframe"
   ]
  },
  {
   "cell_type": "code",
   "execution_count": null,
   "metadata": {},
   "outputs": [
    {
     "data": {
      "text/html": [
       "<div>\n",
       "<style scoped>\n",
       "    .dataframe tbody tr th:only-of-type {\n",
       "        vertical-align: middle;\n",
       "    }\n",
       "\n",
       "    .dataframe tbody tr th {\n",
       "        vertical-align: top;\n",
       "    }\n",
       "\n",
       "    .dataframe thead th {\n",
       "        text-align: right;\n",
       "    }\n",
       "</style>\n",
       "<table border=\"1\" class=\"dataframe\">\n",
       "  <thead>\n",
       "    <tr style=\"text-align: right;\">\n",
       "      <th></th>\n",
       "      <th>word_and_gloss</th>\n",
       "      <th>language_and_translation</th>\n",
       "    </tr>\n",
       "  </thead>\n",
       "  <tbody>\n",
       "    <tr>\n",
       "      <th>0</th>\n",
       "      <td>free;;(social) unconstrained.;;not imprisoned ...</td>\n",
       "      <td>afrikaans;;vrye;;adj</td>\n",
       "    </tr>\n",
       "    <tr>\n",
       "      <th>1</th>\n",
       "      <td>free;;(social) unconstrained.;;not imprisoned ...</td>\n",
       "      <td>albanian;;lirë (i/e);;adj</td>\n",
       "    </tr>\n",
       "    <tr>\n",
       "      <th>2</th>\n",
       "      <td>free;;(social) unconstrained.;;not imprisoned ...</td>\n",
       "      <td>amharic;;ነፃ;;adj</td>\n",
       "    </tr>\n",
       "    <tr>\n",
       "      <th>3</th>\n",
       "      <td>free;;(social) unconstrained.;;not imprisoned ...</td>\n",
       "      <td>arabic;;حُرّ;;adj</td>\n",
       "    </tr>\n",
       "    <tr>\n",
       "      <th>4</th>\n",
       "      <td>free;;(social) unconstrained.;;not imprisoned ...</td>\n",
       "      <td>arabic;;حر;;adj</td>\n",
       "    </tr>\n",
       "    <tr>\n",
       "      <th>...</th>\n",
       "      <td>...</td>\n",
       "      <td>...</td>\n",
       "    </tr>\n",
       "    <tr>\n",
       "      <th>1188486</th>\n",
       "      <td>fawn response;;(psychology) an overadaptation ...</td>\n",
       "      <td>finnish;;miellyttämisreaktio;;noun</td>\n",
       "    </tr>\n",
       "    <tr>\n",
       "      <th>1188487</th>\n",
       "      <td>fawn response;;(psychology) an overadaptation ...</td>\n",
       "      <td>german;;bambi-reflex;;noun</td>\n",
       "    </tr>\n",
       "    <tr>\n",
       "      <th>1188488</th>\n",
       "      <td>fawn response;;(psychology) an overadaptation ...</td>\n",
       "      <td>german;;unterwerfungsreaktion;;noun</td>\n",
       "    </tr>\n",
       "    <tr>\n",
       "      <th>1188489</th>\n",
       "      <td>one heart, one soul;;(philippines, catholicism...</td>\n",
       "      <td>latin;;cor ūnum et anima ūna;;phrase</td>\n",
       "    </tr>\n",
       "    <tr>\n",
       "      <th>1188490</th>\n",
       "      <td>one heart, one soul;;(philippines, catholicism...</td>\n",
       "      <td>tagalog;;isang puso, isang diwa;;phrase</td>\n",
       "    </tr>\n",
       "  </tbody>\n",
       "</table>\n",
       "<p>1188491 rows × 2 columns</p>\n",
       "</div>"
      ],
      "text/plain": [
       "                                            word_and_gloss  \\\n",
       "0        free;;(social) unconstrained.;;not imprisoned ...   \n",
       "1        free;;(social) unconstrained.;;not imprisoned ...   \n",
       "2        free;;(social) unconstrained.;;not imprisoned ...   \n",
       "3        free;;(social) unconstrained.;;not imprisoned ...   \n",
       "4        free;;(social) unconstrained.;;not imprisoned ...   \n",
       "...                                                    ...   \n",
       "1188486  fawn response;;(psychology) an overadaptation ...   \n",
       "1188487  fawn response;;(psychology) an overadaptation ...   \n",
       "1188488  fawn response;;(psychology) an overadaptation ...   \n",
       "1188489  one heart, one soul;;(philippines, catholicism...   \n",
       "1188490  one heart, one soul;;(philippines, catholicism...   \n",
       "\n",
       "                        language_and_translation  \n",
       "0                           afrikaans;;vrye;;adj  \n",
       "1                      albanian;;lirë (i/e);;adj  \n",
       "2                               amharic;;ነፃ;;adj  \n",
       "3                              arabic;;حُرّ;;adj  \n",
       "4                                arabic;;حر;;adj  \n",
       "...                                          ...  \n",
       "1188486       finnish;;miellyttämisreaktio;;noun  \n",
       "1188487               german;;bambi-reflex;;noun  \n",
       "1188488      german;;unterwerfungsreaktion;;noun  \n",
       "1188489     latin;;cor ūnum et anima ūna;;phrase  \n",
       "1188490  tagalog;;isang puso, isang diwa;;phrase  \n",
       "\n",
       "[1188491 rows x 2 columns]"
      ]
     },
     "execution_count": 2,
     "metadata": {},
     "output_type": "execute_result"
    }
   ],
   "source": [
    "pd.set_option(\"display.max_rows\", 20)\n",
    "pd.set_option('display.max_colwidth', None)\n",
    "\n",
    "df = pd.read_parquet(\"cleaned_dataframe.parquet\", engine=\"pyarrow\")\n",
    "df"
   ]
  },
  {
   "cell_type": "markdown",
   "metadata": {},
   "source": [
    "## Filter Dataframe \n",
    "### Keep languages with at least 40 translations and keep only translations that appear more than once."
   ]
  },
  {
   "cell_type": "code",
   "execution_count": 3,
   "metadata": {},
   "outputs": [
    {
     "data": {
      "text/html": [
       "<div>\n",
       "<style scoped>\n",
       "    .dataframe tbody tr th:only-of-type {\n",
       "        vertical-align: middle;\n",
       "    }\n",
       "\n",
       "    .dataframe tbody tr th {\n",
       "        vertical-align: top;\n",
       "    }\n",
       "\n",
       "    .dataframe thead th {\n",
       "        text-align: right;\n",
       "    }\n",
       "</style>\n",
       "<table border=\"1\" class=\"dataframe\">\n",
       "  <thead>\n",
       "    <tr style=\"text-align: right;\">\n",
       "      <th></th>\n",
       "      <th>word_and_gloss</th>\n",
       "      <th>language_and_translation</th>\n",
       "    </tr>\n",
       "  </thead>\n",
       "  <tbody>\n",
       "    <tr>\n",
       "      <th>0</th>\n",
       "      <td>free;;(social) unconstrained.;;not imprisoned ...</td>\n",
       "      <td>afrikaans;;vrye;;adj</td>\n",
       "    </tr>\n",
       "    <tr>\n",
       "      <th>1</th>\n",
       "      <td>free;;(social) unconstrained.;;not imprisoned ...</td>\n",
       "      <td>albanian;;lirë (i/e);;adj</td>\n",
       "    </tr>\n",
       "    <tr>\n",
       "      <th>2</th>\n",
       "      <td>free;;(social) unconstrained.;;not imprisoned ...</td>\n",
       "      <td>amharic;;ነፃ;;adj</td>\n",
       "    </tr>\n",
       "    <tr>\n",
       "      <th>3</th>\n",
       "      <td>free;;(social) unconstrained.;;not imprisoned ...</td>\n",
       "      <td>arabic;;حُرّ;;adj</td>\n",
       "    </tr>\n",
       "    <tr>\n",
       "      <th>4</th>\n",
       "      <td>free;;(social) unconstrained.;;not imprisoned ...</td>\n",
       "      <td>arabic;;حر;;adj</td>\n",
       "    </tr>\n",
       "    <tr>\n",
       "      <th>...</th>\n",
       "      <td>...</td>\n",
       "      <td>...</td>\n",
       "    </tr>\n",
       "    <tr>\n",
       "      <th>550348</th>\n",
       "      <td>call the fire department;;(us) call the emerge...</td>\n",
       "      <td>tagalog;;tawag ka ng bumbero;;phrase</td>\n",
       "    </tr>\n",
       "    <tr>\n",
       "      <th>550349</th>\n",
       "      <td>call the fire department;;(us) call the emerge...</td>\n",
       "      <td>turkish;;itfaiyeyi çağırin;;phrase</td>\n",
       "    </tr>\n",
       "    <tr>\n",
       "      <th>550350</th>\n",
       "      <td>call the fire department;;(us) call the emerge...</td>\n",
       "      <td>turkish;;itfaiyeyi çağır;;phrase</td>\n",
       "    </tr>\n",
       "    <tr>\n",
       "      <th>550351</th>\n",
       "      <td>call the fire department;;(us) call the emerge...</td>\n",
       "      <td>ukrainian;;ви́кличте поже́жників;;phrase</td>\n",
       "    </tr>\n",
       "    <tr>\n",
       "      <th>550352</th>\n",
       "      <td>call the fire department;;(us) call the emerge...</td>\n",
       "      <td>welsh;;galwch yr brigâd dân;;phrase</td>\n",
       "    </tr>\n",
       "  </tbody>\n",
       "</table>\n",
       "<p>550353 rows × 2 columns</p>\n",
       "</div>"
      ],
      "text/plain": [
       "                                           word_and_gloss  \\\n",
       "0       free;;(social) unconstrained.;;not imprisoned ...   \n",
       "1       free;;(social) unconstrained.;;not imprisoned ...   \n",
       "2       free;;(social) unconstrained.;;not imprisoned ...   \n",
       "3       free;;(social) unconstrained.;;not imprisoned ...   \n",
       "4       free;;(social) unconstrained.;;not imprisoned ...   \n",
       "...                                                   ...   \n",
       "550348  call the fire department;;(us) call the emerge...   \n",
       "550349  call the fire department;;(us) call the emerge...   \n",
       "550350  call the fire department;;(us) call the emerge...   \n",
       "550351  call the fire department;;(us) call the emerge...   \n",
       "550352  call the fire department;;(us) call the emerge...   \n",
       "\n",
       "                        language_and_translation  \n",
       "0                           afrikaans;;vrye;;adj  \n",
       "1                      albanian;;lirë (i/e);;adj  \n",
       "2                               amharic;;ነፃ;;adj  \n",
       "3                              arabic;;حُرّ;;adj  \n",
       "4                                arabic;;حر;;adj  \n",
       "...                                          ...  \n",
       "550348      tagalog;;tawag ka ng bumbero;;phrase  \n",
       "550349        turkish;;itfaiyeyi çağırin;;phrase  \n",
       "550350          turkish;;itfaiyeyi çağır;;phrase  \n",
       "550351  ukrainian;;ви́кличте поже́жників;;phrase  \n",
       "550352       welsh;;galwch yr brigâd dân;;phrase  \n",
       "\n",
       "[550353 rows x 2 columns]"
      ]
     },
     "execution_count": 3,
     "metadata": {},
     "output_type": "execute_result"
    }
   ],
   "source": [
    "# Count trasnaltions per language\n",
    "language_counts = df['word_and_gloss'].value_counts()\n",
    "\n",
    "# filter languages with at least 40 translations\n",
    "languages_to_keep = language_counts[language_counts >= settings.MIN_LANGUAGE_COUNT].index\n",
    "\n",
    "# keep rows with filteres languages\n",
    "df_filtered = df[df['word_and_gloss'].isin(languages_to_keep)]\n",
    "\n",
    "df_filtered.reset_index(drop = True, inplace=True)\n",
    "df_filtered"
   ]
  },
  {
   "cell_type": "code",
   "execution_count": null,
   "metadata": {},
   "outputs": [
    {
     "data": {
      "text/html": [
       "<div>\n",
       "<style scoped>\n",
       "    .dataframe tbody tr th:only-of-type {\n",
       "        vertical-align: middle;\n",
       "    }\n",
       "\n",
       "    .dataframe tbody tr th {\n",
       "        vertical-align: top;\n",
       "    }\n",
       "\n",
       "    .dataframe thead th {\n",
       "        text-align: right;\n",
       "    }\n",
       "</style>\n",
       "<table border=\"1\" class=\"dataframe\">\n",
       "  <thead>\n",
       "    <tr style=\"text-align: right;\">\n",
       "      <th></th>\n",
       "      <th>word_and_gloss</th>\n",
       "      <th>language_and_translation</th>\n",
       "    </tr>\n",
       "  </thead>\n",
       "  <tbody>\n",
       "    <tr>\n",
       "      <th>0</th>\n",
       "      <td>free;;(social) unconstrained.;;not imprisoned or enslaved.</td>\n",
       "      <td>arabic;;حُرّ;;adj</td>\n",
       "    </tr>\n",
       "    <tr>\n",
       "      <th>1</th>\n",
       "      <td>free;;(social) unconstrained.;;not imprisoned or enslaved.</td>\n",
       "      <td>armenian;;ազատ;;adj</td>\n",
       "    </tr>\n",
       "    <tr>\n",
       "      <th>2</th>\n",
       "      <td>free;;(social) unconstrained.;;not imprisoned or enslaved.</td>\n",
       "      <td>assamese;;মুকলি;;adj</td>\n",
       "    </tr>\n",
       "    <tr>\n",
       "      <th>3</th>\n",
       "      <td>free;;(social) unconstrained.;;not imprisoned or enslaved.</td>\n",
       "      <td>asturian;;llibre;;adj</td>\n",
       "    </tr>\n",
       "    <tr>\n",
       "      <th>4</th>\n",
       "      <td>free;;(social) unconstrained.;;not imprisoned or enslaved.</td>\n",
       "      <td>azerbaijani;;azad;;adj</td>\n",
       "    </tr>\n",
       "    <tr>\n",
       "      <th>...</th>\n",
       "      <td>...</td>\n",
       "      <td>...</td>\n",
       "    </tr>\n",
       "    <tr>\n",
       "      <th>119553</th>\n",
       "      <td>shaitan;;(islam) iblis, satan.</td>\n",
       "      <td>turkish;;şeytan;;name</td>\n",
       "    </tr>\n",
       "    <tr>\n",
       "      <th>119554</th>\n",
       "      <td>shaitan;;(islam) iblis, satan.</td>\n",
       "      <td>turkmen;;şeýtan;;name</td>\n",
       "    </tr>\n",
       "    <tr>\n",
       "      <th>119555</th>\n",
       "      <td>shaitan;;(islam) iblis, satan.</td>\n",
       "      <td>urdu;;شَیطان;;name</td>\n",
       "    </tr>\n",
       "    <tr>\n",
       "      <th>119556</th>\n",
       "      <td>shaitan;;(islam) iblis, satan.</td>\n",
       "      <td>uyghur;;شەيتان;;name</td>\n",
       "    </tr>\n",
       "    <tr>\n",
       "      <th>119557</th>\n",
       "      <td>shaitan;;(islam) iblis, satan.</td>\n",
       "      <td>uzbek;;shayton;;name</td>\n",
       "    </tr>\n",
       "  </tbody>\n",
       "</table>\n",
       "<p>119558 rows × 2 columns</p>\n",
       "</div>"
      ],
      "text/plain": [
       "                                                    word_and_gloss  \\\n",
       "0       free;;(social) unconstrained.;;not imprisoned or enslaved.   \n",
       "1       free;;(social) unconstrained.;;not imprisoned or enslaved.   \n",
       "2       free;;(social) unconstrained.;;not imprisoned or enslaved.   \n",
       "3       free;;(social) unconstrained.;;not imprisoned or enslaved.   \n",
       "4       free;;(social) unconstrained.;;not imprisoned or enslaved.   \n",
       "...                                                            ...   \n",
       "119553                              shaitan;;(islam) iblis, satan.   \n",
       "119554                              shaitan;;(islam) iblis, satan.   \n",
       "119555                              shaitan;;(islam) iblis, satan.   \n",
       "119556                              shaitan;;(islam) iblis, satan.   \n",
       "119557                              shaitan;;(islam) iblis, satan.   \n",
       "\n",
       "       language_and_translation  \n",
       "0             arabic;;حُرّ;;adj  \n",
       "1           armenian;;ազատ;;adj  \n",
       "2          assamese;;মুকলি;;adj  \n",
       "3         asturian;;llibre;;adj  \n",
       "4        azerbaijani;;azad;;adj  \n",
       "...                         ...  \n",
       "119553    turkish;;şeytan;;name  \n",
       "119554    turkmen;;şeýtan;;name  \n",
       "119555       urdu;;شَیطان;;name  \n",
       "119556     uyghur;;شەيتان;;name  \n",
       "119557     uzbek;;shayton;;name  \n",
       "\n",
       "[119558 rows x 2 columns]"
      ]
     },
     "execution_count": 4,
     "metadata": {},
     "output_type": "execute_result"
    }
   ],
   "source": [
    "translation_counts = df_filtered[\"language_and_translation\"].value_counts()\n",
    "\n",
    "# filter translations that appear more than once\n",
    "translations_to_keep = translation_counts[translation_counts > 1].index\n",
    "\n",
    "df_filtered = df_filtered[df_filtered['language_and_translation'].isin(translations_to_keep)]\n",
    "\n",
    "df_filtered.reset_index(drop = True, inplace=True)\n",
    "df_filtered"
   ]
  },
  {
   "cell_type": "code",
   "execution_count": 5,
   "metadata": {},
   "outputs": [
    {
     "data": {
      "text/plain": [
       "array(['arabic;;حُرّ;;adj', 'armenian;;ազատ;;adj', 'assamese;;মুকলি;;adj',\n",
       "       ..., 'spanish;;aguar;;verb', 'swedish;;vattna;;verb',\n",
       "       'portuguese;;dígito;;noun'], dtype=object)"
      ]
     },
     "execution_count": 5,
     "metadata": {},
     "output_type": "execute_result"
    }
   ],
   "source": [
    "unique_lang_and_trans = df_filtered[\"language_and_translation\"].unique()\n",
    "unique_lang_and_trans"
   ]
  },
  {
   "cell_type": "code",
   "execution_count": 6,
   "metadata": {},
   "outputs": [
    {
     "data": {
      "text/plain": [
       "51999"
      ]
     },
     "execution_count": 6,
     "metadata": {},
     "output_type": "execute_result"
    }
   ],
   "source": [
    "df_filtered[\"language_and_translation\"].nunique()"
   ]
  },
  {
   "cell_type": "markdown",
   "metadata": {},
   "source": [
    "## Create a Concept Map where each concept has their correspoinding Language, Translation and POS.\n",
    "## Create a Concept List with all Concepts."
   ]
  },
  {
   "cell_type": "code",
   "execution_count": 7,
   "metadata": {},
   "outputs": [
    {
     "name": "stdout",
     "output_type": "stream",
     "text": [
      "59 | free;;(social) unconstrained.;;not imprisoned or enslaved. | {'old irish;;sóer;;adj', 'limburgish;;vrie;;adj', 'zazaki;;xoser;;adj', 'norman;;libre;;adj', 'low german;;free;;adj', 'assamese;;মুকলি;;adj', 'asturian;;llibre;;adj', 'czech;;svobodný;;adj', 'scottish gaelic;;saor;;adj', 'zazaki;;azad (diq);;adj', 'polish;;swobodny;;adj', 'french;;libre;;adj', 'czech;;volný;;adj', 'finnish;;vapaa;;adj', 'armenian;;ազատ;;adj', 'turkish;;özgür;;adj', 'hungarian;;szabad;;adj', 'esperanto;;libera;;adj', 'japanese;;自由;;adj', 'old english;;frēo;;adj', 'northern kurdish;;azad;;adj', 'interlingua;;libere;;adj', 'norwegian;;fri;;adj', 'slovak;;slobodný;;adj', 'icelandic;;frjáls;;adj', 'persian;;آزاد;;adj', 'galician;;libre;;adj', 'chinese mandarin;;自由的;;adj', 'irish;;saor;;adj', 'malayalam;;സ്വതന്ത്രം;;adj', 'bashkir;;ирекле;;adj', 'portuguese;;livre;;adj', 'macedonian;;слободен;;adj', 'dutch;;vrij;;adj', 'bambara;;hɔrɔn;;adj', 'arabic;;حُرّ;;adj', 'azerbaijani;;azad;;adj', 'yiddish;;פֿרײַ;;adj', 'ido;;libera;;adj', 'northern kurdish;;serbest;;adj', 'russian;;свобо́дный;;adj', 'swedish;;fri;;adj', 'latvian;;brīvs;;adj', 'romanian;;liber;;adj', 'malay;;bebas;;adj', 'estonian;;vaba;;adj', 'greek;;ελεύθερος;;adj', 'catalan;;lliure;;adj', 'polish;;wolny;;adj', 'occitan;;liure;;adj', 'italian;;libero;;adj', 'korean;;자유;;adj', 'serbo-croatian;;slobodan;;adj', 'hebrew;;חָפְשִׁי;;adj', 'hebrew;;חופשי;;adj', 'spanish;;libre;;adj', 'danish;;fri;;adj', 'german;;frei;;adj', 'indonesian;;bebas;;adj'}\n",
      "117 | trade;;(uncountable) buying and selling of goods and services on a market. | {'japanese;;商業;;noun', 'russian;;комме́рция;;noun', 'uzbek;;kommersiya;;noun', 'turkish;;ticaret;;noun', 'macedonian;;комерција;;noun', 'slovene;;trgovina;;noun', 'khmer;;ពាណិជ្ជកម្ម;;noun', 'lithuanian;;prekyba;;noun', 'spanish;;comercio;;noun', 'estonian;;kaubandus;;noun', 'ancient greek;;ἐμπορία;;noun', 'kazakh;;коммерция;;noun', 'sanskrit;;वाणिज्य;;noun', 'belarusian;;га́ндаль;;noun', 'uzbek;;savdo;;noun', 'french;;commerce;;noun', 'georgian;;ვაჭრობა;;noun', 'ukrainian;;торгі́вля;;noun', 'vietnamese;;thương nghiệp;;noun', 'russian;;торго́вля;;noun', 'uyghur;;تىجارەت;;noun', 'thai;;การค้า;;noun', 'slovak;;obchod;;noun', 'vietnamese;;thương mại;;noun', 'tajik;;савдо;;noun', 'burmese;;ကုန်သွယ်ရေး;;noun', 'tocharian b;;karyor;;noun', 'burmese;;ဝါဏိဇ္ဇ;;noun', 'afrikaans;;handel;;noun', 'japanese;;貿易;;noun', 'kazakh;;сауда;;noun', 'danish;;handel;;noun', 'hungarian;;kereskedelem;;noun', 'malay;;perdagangan;;noun', 'swahili;;biashara;;noun', 'vietnamese;;sự buôn bán;;noun', 'latvian;;tirdzniecība;;noun', 'bulgarian;;търго́вия;;noun', 'khmer;;វណិជ្ជា;;noun', 'ukrainian;;коме́рція;;noun', 'hindi;;व्यवसाय;;noun', 'belarusian;;каме́рцыя;;noun', 'korean;;거래;;noun', 'korean;;상업;;noun', 'middle english;;chaffare;;noun', 'hindi;;वाणिज्य;;noun', 'khmer;;ពាណិជ្ជ;;noun', 'finnish;;kaupankäynti;;noun', 'kyrgyz;;соода;;noun', 'amharic;;ንግድ;;noun', 'tatar;;сәүдә;;noun', 'albanian;;tregti;;noun', 'hebrew;;מִסְחָר;;noun', 'hindi;;व्यापार;;noun', 'maltese;;kummerċ;;noun', 'norwegian nynorsk;;handel;;noun', 'tajik;;тиҷорат;;noun', 'latvian;;komercija;;noun', 'german;;kommerz;;noun', 'ingrian;;kauppa;;noun', 'finnish;;kauppa;;noun', 'turkish;;alım satım;;noun', 'japanese;;交易;;noun', 'tagalog;;kalakalan;;noun', 'afrikaans;;ruil;;noun', 'greek;;εμπόριο;;noun', 'korean;;교역;;noun', 'galician;;comercio;;noun', 'northern kurdish;;sewda;;noun', 'uyghur;;سودا;;noun', 'malayalam;;വ്യാപാരം;;noun', 'hebrew;;סַחַר;;noun', 'czech;;obchod;;noun', 'burmese;;အရောင်းအဝယ်;;noun', 'chinese mandarin;;交易;;noun', 'azerbaijani;;alver;;noun', 'pashto;;تجارت;;noun', 'mongolian;;худалдаа;;noun', 'yiddish;;האַנדל;;noun', 'thai;;ธุรกิจ;;noun', 'irish;;tráchtáil;;noun', 'galician;;trato;;noun', 'turkmen;;söwda;;noun', 'catalan;;comerç;;noun', 'italian;;commercio;;noun', 'polish;;handel;;noun', 'german;;handel;;noun', 'latin;;commercium;;noun', 'bashkir;;сауҙа;;noun', 'portuguese;;comércio;;noun', 'serbo-croatian;;trgòvina;;noun', 'kyrgyz;;коммерция;;noun', 'ottoman turkish;;تجارت;;noun', 'pali;;vaṇijjā;;noun', 'norwegian bokmål;;handel;;noun', 'belarusian;;тарго́ўля;;noun', 'serbo-croatian;;трго̀вина;;noun', 'bengali;;তেজারত;;noun', 'chinese mandarin;;貿易 /贸易;;noun', 'arabic;;تِجَارَة;;noun', 'indonesian;;perdagangan;;noun', 'azerbaijani;;ticarət;;noun', 'thai;;พาณิชย์;;noun', 'dutch;;handel;;noun', 'swedish;;handel;;noun', 'lao;;ທຸລະກິດ;;noun', 'dutch;;commercie;;noun', 'bengali;;বাণিজ্য;;noun', 'lithuanian;;komercija;;noun', 'macedonian;;трговија;;noun', 'korean;;무역;;noun', 'romanian;;comerț;;noun', 'icelandic;;verslun;;noun', 'tagalog;;baliwasan;;noun', 'uzbek;;tijorat;;noun', 'lao;;ການຄ້າ;;noun', 'esperanto;;komerco;;noun'}\n",
      "124 | cunt;;(vulgar, countable) the female genitalia, especially the vulva. | {'danish;;kusse;;noun', 'norwegian nynorsk;;fitte;;noun', 'macedonian;;минџа;;noun', 'javanese;;bawuk;;noun', 'middle english;;quoniam;;noun', 'german;;fotze;;noun', 'serbo-croatian;;mindža;;noun', 'estonian;;tuss;;noun', 'faroese;;kusa;;noun', 'khmer;;កណ្ដួយ;;noun', 'chinese mandarin;;屄;;noun', 'macedonian;;слива;;noun', 'slovak;;kunda;;noun', 'indonesian;;tempik;;noun', 'faroese;;kunta;;noun', 'ukrainian;;пизда́;;noun', 'korean;;보지;;noun', 'turkmen;;am;;noun', 'dutch;;kut;;noun', 'norwegian bokmål;;mus;;noun', 'serbo-croatian;;пичка;;noun', 'neapolitan;;pucchiacca;;noun', 'swedish;;fitta;;noun', 'italian;;figa;;noun', 'serbo-croatian;;pizda;;noun', 'afrikaans;;poes;;noun', 'serbo-croatian;;минџа;;noun', 'french;;con;;noun', 'slovak;;piča;;noun', 'slovene;;pizda;;noun', 'polish;;cipsko;;noun', 'turkish;;am;;noun', 'azerbaijani;;am;;noun', 'polish;;cipa;;noun', 'uzbek;;am;;noun', 'portuguese;;boceta;;noun', 'czech;;pizda;;noun', 'lithuanian;;pyzda;;noun', 'slovene;;pička;;noun', 'romanian;;pizdă;;noun', 'czech;;kunda;;noun', 'volapük;;kunud;;noun', 'japanese;;おまんこ;;noun', 'serbo-croatian;;pička;;noun', 'persian;;کس;;noun', 'spanish;;chocho;;noun', 'vietnamese;;lồn;;noun', 'yiddish;;פּירגע;;noun', 'greek;;μουνί;;noun', 'ukrainian;;пі́ська;;noun', 'lithuanian;;putė;;noun', 'serbo-croatian;;пица;;noun', 'indonesian;;meki;;noun', 'korean;;씹;;noun', 'neapolitan;;purchiacca;;noun', 'norwegian nynorsk;;mus;;noun', 'german;;möse;;noun', 'arabic;;كُس;;noun', 'bikol central;;buray;;noun', 'albanian;;pidh;;noun', 'faroese;;pill;;noun', 'italian;;fregna;;noun', 'latin;;cunnus;;noun', 'danish;;fisse;;noun', 'maltese;;għoxx;;noun', 'russian;;пизда́;;noun', 'spanish;;cuca;;noun', 'galician;;cona;;noun', 'lao;;ຫີ;;noun', 'thai;;หอย;;noun', 'malay;;puki;;noun', 'serbo-croatian;;pica;;noun', 'northern sami;;cinˈná;;noun', 'esperanto;;piĉo;;noun', 'catalan;;cony;;noun', 'spanish;;chucha;;noun', 'spanish;;coño;;noun', 'norwegian bokmål;;fitte;;noun', 'finnish;;vittu;;noun', 'welsh;;cont;;noun', 'turkish;;amcık;;noun', 'armenian;;պուց;;noun', 'chinese;;膣屄;;noun', 'czech;;píča;;noun', 'polish;;pizda;;noun', 'italian;;fica;;noun', 'afrikaans;;kont;;noun', 'georgian;;მუტელი;;noun', 'kazakh;;ам;;noun', 'arabic;;كِس;;noun', 'urdu;;چوت;;noun', 'kyrgyz;;ам;;noun', 'macedonian;;пичка;;noun', 'javanese;;turuk;;noun', 'french;;chatte;;noun', 'hindi;;योनी;;noun', 'estonian;;puts;;noun', 'azerbaijani;;amcıq;;noun', 'albanian;;piçkë;;noun', 'scottish gaelic;;pit;;noun', 'galician;;crica;;noun', 'serbo-croatian;;пизда;;noun', 'hungarian;;pina;;noun', 'latvian;;peža;;noun', 'indonesian;;memek;;noun', 'hindi;;चूत;;noun', 'faroese;;lall;;noun', 'greenlandic;;utsuk;;noun', 'russian;;манда́;;noun', 'german;;muschi;;noun', 'russian;;пи́ська;;noun', 'icelandic;;píka;;noun', 'spanish;;concha;;noun', 'thai;;จิ๋ม;;noun', 'slovak;;pizda;;noun', 'afrikaans;;doos;;noun', 'portuguese;;cona;;noun', 'bulgarian;;пу́тка;;noun', 'thai;;หี;;noun', 'japanese;;まんこ;;noun', 'estonian;;vitt;;noun', 'javanese;;tempik;;noun', 'irish;;pit;;noun', 'belarusian;;пізда́;;noun'}\n",
      "125 | world;;(with \"the\") the earth, especially in a geopolitical or cultural context, or as the physical planet. | {'breton;;bed;;noun', 'scottish gaelic;;saoghal;;noun', 'bengali;;আলম;;noun', 'asturian;;mundu;;noun', 'norwegian nynorsk;;klode;;noun', 'armenian;;աշխարհ;;noun', 'portuguese;;mundo;;noun', 'dutch;;aarde;;noun', 'interlingua;;mundo;;noun', 'czech;;svět;;noun', 'arabic;;عَالَم;;noun', 'russian;;свет;;noun', 'serbo-croatian;;свије̑т;;noun', \"chickasaw;;yaakni';;noun\", 'norwegian bokmål;;klode;;noun', 'latvian;;pasaule;;noun', 'basque;;mundu;;noun', 'hungarian;;világ;;noun', 'marathi;;जग;;noun', 'hindi;;भूमि;;noun', 'west frisian;;wrâld;;noun', 'yakut;;аан дойду;;noun', 'indonesian;;dunia;;noun', 'french;;terre;;noun', 'afrikaans;;aarde;;noun', 'iranian persian;;جَهان;;noun', 'russian;;мир;;noun', 'asturian;;tierra;;noun', 'turkish;;acun;;noun', 'ancient greek;;γῆ;;noun', 'romanian;;pământ;;noun', 'macedonian;;свет;;noun', 'chinese;;世界;;noun', 'uzbek;;dunyo;;noun', 'german;;welt;;noun', 'cornish;;bys;;noun', 'punjabi;;دُنِیا;;noun', 'bengali;;জাহান;;noun', 'walloon;;monde;;noun', 'west frisian;;ierde;;noun', 'sicilian;;terra;;noun', 'japanese;;世界;;noun', 'tamil;;பார்;;noun', 'bavarian;;wöd;;noun', 'chuvash;;ҫӗр;;noun', 'urdu;;دُنْیا;;noun', 'sinhalese;;ලෝකය;;noun', 'norwegian nynorsk;;verd;;noun', 'serbo-croatian;;све̑т;;noun', 'spanish;;mundo;;noun', 'scots;;warld;;noun', 'quechua;;paca;;noun', 'hindi;;संसार;;noun', 'ido;;mondo;;noun', 'dutch;;wereld;;noun', 'bengali;;দুনিয়া;;noun', 'galician;;mundo;;noun', 'sindhi;;دنيا;;noun', 'serbo-croatian;;svijȇt;;noun', 'esperanto;;mondo;;noun', 'norwegian bokmål;;verden;;noun', 'old spanish;;mundo;;noun', 'burmese;;ကမ္ဘာ;;noun', 'turkish;;dünya;;noun', 'turkish;;cihan;;noun', 'central kurdish;;دنیا;;noun', 'hakka chinese;;世界;;noun', 'finnish;;maa;;noun', 'hindi;;आलम;;noun', 'greek;;κόσμος;;noun', 'norwegian bokmål;;verd;;noun', 'turkmen;;dünýä;;noun', 'cebuano;;kalibotan;;noun', 'serbo-croatian;;svȇt;;noun', 'hindi;;दुनिया;;noun', 'punjabi;;ਦੁਨੀਆ;;noun', 'catalan;;terra;;noun', 'welsh;;byd;;noun', 'danish;;verden;;noun', 'italian;;mondo;;noun', 'uzbek;;jahon;;noun', 'cornish;;bes;;noun', 'ancient greek;;κόσμος;;noun', 'finnish;;maailma;;noun', 'chinese cantonese;;世界;;noun', 'friulian;;mond;;noun', 'spanish;;tierra;;noun', 'swedish;;värld;;noun', 'zazaki;;erd (diq);;noun', 'khmer;;ពិភពលោក;;noun', 'aragonese;;mundo;;noun', 'lao;;ໂລກ;;noun', 'old irish;;domun;;noun', 'georgian;;მსოფლიო;;noun', 'malay;;dunia;;noun', 'lower sorbian;;swět;;noun', 'romanian;;lume;;noun', 'sicilian;;munnu;;noun', 'tamil;;உலகம்;;noun', 'german;;erde;;noun', 'tarifit;;ddunya;;noun', 'thai;;โลก;;noun', 'hebrew;;עוֹלָם;;noun', 'dhivehi;;ދުނިޔެ;;noun', 'polish;;świat;;noun', 'northern kurdish;;dinya;;noun', 'romansch;;mund;;noun', 'catalan;;món;;noun', 'turkish;;yeryüzü;;noun', 'lithuanian;;pasaulis;;noun', 'occitan;;mond;;noun', 'korean;;세계;;noun', 'chinese mandarin;;世界;;noun', 'maori;;ao;;noun', 'low german;;werld;;noun', 'tamil;;ஞாலம்;;noun', 'middle english;;world;;noun', 'hindi;;जहान;;noun', 'latin;;mundus;;noun', 'ukrainian;;світ;;noun', 'estonian;;maailm;;noun', 'urdu;;دُنِیا;;noun', 'ladino;;mundo;;noun', 'yiddish;;וועלט;;noun', 'uyghur;;دۇنيا;;noun'}\n",
      "162 | say;;(transitive) to pronounce.  | {'iranian persian;;گُفْتَن;;verb', 'macedonian;;каже;;verb', 'polish;;mówić;;verb', 'malay;;cakap;;verb', 'georgian;;ლაპარაკი;;verb', 'tatar;;әйтергә;;verb', 'czech;;říct;;verb', 'uzbek;;demoq;;verb', 'latvian;;teikt;;verb', 'finnish;;kertoa;;verb', 'macedonian;;кажува;;verb', 'lao;;ກ່າວ;;verb', 'romanian;;spune;;verb', 'marathi;;म्हणणे;;verb', 'cornish;;leverel;;verb', 'latin;;inquam;;verb', 'belarusian;;гавары́ць;;verb', 'german;;sagen;;verb', 'assamese;;ক;;verb', 'friulian;;dî;;verb', 'serbo-croatian;;rȅći;;verb', 'finnish;;sanoa;;verb', 'romanian;;zice;;verb', 'japanese;;言う;;verb', 'ainu;;イェ;;verb', 'hungarian;;mond;;verb', 'portuguese;;dizer;;verb', 'cornish;;lawl;;verb', 'urdu;;کَہْنا;;verb', 'tajik;;гуфтан;;verb', 'sardinian;;faeddare;;verb', 'slovene;;povedati;;verb', 'higaonon;;ikagi;;verb', 'belarusian;;каза́ць;;verb', 'nanai;;ун-;;verb', 'burmese;;ဆို;;verb', 'evenki;;гунми;;verb', 'serbo-croatian;;ка́зати;;verb', 'interlingua;;dicer;;verb', 'nepali;;भन्नु;;verb', 'hindi;;कहना;;verb', 'aromanian;;spun;;verb', 'even;;гӫндэй;;verb', 'arabic;;قال;;verb', 'pashto;;اظهارول;;verb', 'bashkir;;тейеү;;verb', 'ancient greek;;λέγω;;verb', 'tatar;;дияргә;;verb', 'uyghur;;دېمەك;;verb', 'azerbaijani;;demək;;verb', 'turkish;;demek;;verb', 'slovak;;hovoriť;;verb', 'kashmiri;;وَنُن;;verb', 'latin;;proloquor;;verb', 'dutch;;opzeggen;;verb', 'georgian;;თქმა;;verb', 'norman;;dithe;;verb', 'thai;;พูด;;verb', 'french;;dire;;verb', 'dutch;;luiden;;verb', 'extremaduran;;izil;;verb', 'kazakh;;деу;;verb', 'norwegian bokmål;;si;;verb', 'swedish;;säga;;verb', 'chinese cantonese;;講 /讲;;verb', 'norwegian nynorsk;;seie;;verb', 'slovene;;reči;;verb', 'emilian;;dîr;;verb', 'icelandic;;segja;;verb', 'bashkir;;әйтеү;;verb', 'afrikaans;;sê;;verb', 'kyrgyz;;айтуу;;verb', 'turkish;;söylemek;;verb', 'berber tashelhit;;ini;;verb', 'indonesian;;bicara;;verb', 'malay;;kata;;verb', 'arabic;;حكى;;verb', 'chinese mandarin;;說 /说;;verb', 'hebrew;;אָמַר;;verb', 'lower sorbian;;groniś;;verb', 'khmer;;និយាយ;;verb', 'korean;;말하다;;verb', 'japanese;;申す;;verb', 'esperanto;;diri;;verb', 'ukrainian;;каза́ти;;verb', 'chinese mandarin;;告訴 /告诉;;verb', 'estonian;;ütlema;;verb', 'cherokee;;ꮒꭶꮺꭰ;;verb', 'old east slavic;;говорити;;verb', 'khmer;;ថា;;verb', 'gothic;;𐌵𐌹𐌸𐌰𐌽;;verb', 'portuguese;;falar;;verb', 'latin;;for;;verb', 'polish;;powiadać;;verb', 'odia;;କହିବା;;verb', 'mongolian;;хэлэх;;verb', 'aromanian;;dzãc;;verb', 'bengali;;বলা;;verb', 'eastern min chinese;;講 /讲;;verb', 'burmese;;ပြော;;verb', 'kazakh;;айту;;verb', 'persian;;dari گُفْتَن;;verb', 'zhuang;;gangj;;verb', 'chickasaw;;aachi;;verb', 'old english;;secgan;;verb', 'italian;;dire;;verb', 'dutch;;zeggen;;verb', 'bulgarian;;ка́звам;;verb', 'slovak;;povedať;;verb', 'welsh;;dweud;;verb', 'polish;;powiedzieć;;verb', 'catalan;;dir;;verb', 'czech;;říkat;;verb', 'serbo-croatian;;govòriti;;verb', 'wu chinese;;講 /讲;;verb', 'norwegian nynorsk;;seia;;verb', 'irish;;abair;;verb', 'pannonian rusyn;;гуториц;;verb', 'manx;;abbyr;;verb', 'walloon;;dire;;verb', 'romansch;;dir;;verb', 'japanese;;申し上げる;;verb', 'russian;;говори́ть;;verb', 'thai;;กล่าว;;verb', 'turkmen;;diýmek;;verb', 'arabic;;قَالَ;;verb', 'ukrainian;;сказа́ти;;verb', 'albanian;;them;;verb', 'serbo-croatian;;kázati;;verb', 'galician;;dicir;;verb', 'lao;;ເວົ້າ;;verb', 'tagalog;;sabihin;;verb', 'spanish;;decir;;verb', 'japanese;;語る;;verb', 'tocharian b;;we-;;verb', 'sundanese;;carios;;verb', 'sanskrit;;भाषते;;verb', 'kashmiri;;دَپُن;;verb', 'latin;;loquor;;verb', 'nepali;;बोल्नु;;verb', 'yiddish;;זאָגן;;verb', 'chinese;;講 /讲;;verb', 'bulgarian;;ка́жа;;verb', 'lithuanian;;sakyti;;verb', 'armenian;;ասել;;verb', 'danish;;sige;;verb', 'javanese;;kandha;;verb', 'latin;;dico;;verb', 'belarusian;;сказа́ць;;verb', 'japanese;;おっしゃる;;verb', 'uzbek;;gapirmoq;;verb', 'old irish;;as·beir;;verb', 'korean;;말씀하다;;verb', 'egyptian;;d:d;;verb', 'russian;;сказа́ть;;verb', 'serbo-croatian;;гово̀рити;;verb', 'northern kurdish;;gotin;;verb', 'ukrainian;;говори́ти;;verb', 'german;;säge;;verb', 'polish;;rzec;;verb', 'vietnamese;;nói;;verb', 'serbo-croatian;;ре̏ћи;;verb'}\n",
      "170 | fool;;(derogatory) a person with poor judgment or little intelligence. | {'czech;;blb;;noun', 'turkish;;aptal;;noun', 'ottoman turkish;;طوی;;noun', 'russian;;идио́т;;noun', 'polish;;głupek;;noun', 'hebrew;;שׁוֹטֶה;;noun', 'spanish;;pendejo;;noun', 'italian;;idiota;;noun', 'maori;;pōrewarewa;;noun', 'ingrian;;vohma;;noun', 'ingrian;;bolvana;;noun', 'esperanto;;stultulo;;noun', 'german;;närrin;;noun', 'armenian;;հիմար;;noun', 'portuguese;;idiota;;noun', 'japanese;;あほ;;noun', 'galician;;babiolo;;noun', 'italian;;buffone;;noun', 'italian;;scemo;;noun', 'czech;;hlupák;;noun', 'ingrian;;hapalka;;noun', 'italian;;imbecille;;noun', 'polish;;dureń;;noun', 'gujarati;;મૂર્ખ;;noun', 'galician;;mascato;;noun', 'spanish;;taba;;noun', 'czech;;pitomec;;noun', 'azerbaijani;;axmaq;;noun', 'hindi;;मूर्ख;;noun', 'galician;;pallouco;;noun', 'azerbaijani;;abdal;;noun', 'french;;couillon;;noun', 'finnish;;idiootti;;noun', 'lithuanian;;kvailys;;noun', 'ukrainian;;йо́лоп;;noun', 'turkish;;salak;;noun', 'bulgarian;;тъпа́к;;noun', 'korean;;바보;;noun', 'spanish;;bobo;;noun', 'sanskrit;;दुर्मति;;noun', 'ingrian;;tuhkapussi;;noun', 'malay;;bodoh;;noun', 'latvian;;muļķe;;noun', 'scottish gaelic;;amadan;;noun', 'albanian;;idiot;;noun', 'galician;;parvo;;noun', 'kazakh;;ақымақ;;noun', 'portuguese;;bobo;;noun', 'portuguese;;burro;;noun', 'russian;;дура́к;;noun', 'catalan;;beneit;;noun', 'russian;;ду́рень;;noun', 'chinese mandarin;;呆子;;noun', 'georgian;;იდიოტი;;noun', 'russian;;ду́ра;;noun', 'urdu;;مورکھ;;noun', 'thai;;คนโง่;;noun', 'french;;andouille;;noun', 'maori;;poroheahea;;noun', 'finnish;;tollo;;noun', 'swedish;;dåre;;noun', 'bengali;;মূর্খ;;noun', 'ingrian;;tuhkapää;;noun', 'galician;;idiota;;noun', 'japanese;;馬鹿;;noun', 'estonian;;tola;;noun', 'polish;;bałwan;;noun', 'arabic;;مُغَفَّل;;noun', 'scottish gaelic;;òinseach;;noun', 'burmese;;ဗာလ;;noun', 'spanish;;gilí;;noun', 'chinese mandarin;;蠢貨 /蠢货;;noun', 'portuguese;;imbecil;;noun', 'ingrian;;durakka;;noun', 'russian;;болва́н;;noun', 'kyrgyz;;акмак;;noun', 'finnish;;tomppeli;;noun', 'irish;;baothán;;noun', 'french;;dinde;;noun', 'uzbek;;ahmoq;;noun', 'maori;;ngoungoua;;noun', 'italian;;cretino;;noun', 'chichewa;;chitsiru;;noun', 'albanian;;budalla;;noun', 'hebrew;;גולם \\\\ גֹּלֶם;;noun', 'chinese mandarin;;傻子;;noun', 'italian;;sciocco;;noun', 'finnish;;ääliö;;noun', 'indonesian;;tolol;;noun', 'maori;;hukehuke;;noun', 'chinese mandarin;;傻瓜;;noun', 'polish;;głupiec;;noun', 'dutch;;domme gans;;noun', 'german;;tor;;noun', 'russian;;тупи́ца;;noun', 'spanish;;tonto;;noun', 'tajik;;аҳмақ;;noun', 'russian;;глупе́ц;;noun', 'serbo-croatian;;luđak;;noun', 'turkish;;ahmak;;noun', 'danish;;fjols;;noun', 'serbo-croatian;;budala;;noun', 'bulgarian;;глупа́к;;noun', 'german;;dummkopf;;noun', 'vietnamese;;thằng ngu;;noun', 'polish;;idiota;;noun', 'korean;;백치;;noun', 'italian;;stupido;;noun', 'khmer;;ល្ងីល្ងើ;;noun', 'bulgarian;;глупа́чка;;noun', 'latin;;mōrus;;noun', 'finnish;;hölmö;;noun', 'finnish;;pöljä;;noun', 'german;;pute;;noun', 'maori;;hākawa;;noun', 'serbo-croatian;;glupan;;noun', 'ukrainian;;ду́рень;;noun', 'czech;;blázen;;noun', 'french;;crétin;;noun', 'arabic;;أَحْمَق;;noun', 'czech;;blbec;;noun', 'german;;trottel;;noun', 'galician;;doudo;;noun', 'kyrgyz;;келесоо;;noun', 'chinese mandarin;;笨蛋;;noun', 'french;;idiot;;noun', 'finnish;;munapää;;noun', 'finnish;;hullu;;noun', 'german;;dumme gans;;noun', 'spanish;;imbécil;;noun', 'ingrian;;oolo;;noun', 'french;;abruti;;noun', 'ingrian;;tuhkuri;;noun', 'finnish;;narri;;noun', 'swahili;;mjinga;;noun', 'lao;;ຄົນໂງ່;;noun', 'polish;;bęcwał;;noun', 'ingrian;;foofana;;noun', 'tajik;;аблаҳ;;noun', 'thai;;ควาย;;noun', 'chinese mandarin;;蠢人;;noun', 'german;;narr;;noun', 'japanese;;アホ;;noun', 'yiddish;;שוטה;;noun', 'latvian;;muļķis;;noun', 'macedonian;;абдал;;noun', 'polish;;baran;;noun', 'portuguese;;tolo;;noun', 'bulgarian;;абда́л;;noun', 'galician;;lores;;noun', 'french;;imbécile;;noun', 'galician;;paspán;;noun', 'maori;;wawau;;noun', 'romanian;;prost;;noun', 'catalan;;idiota;;noun', 'czech;;šašek;;noun', 'finnish;;typerys;;noun', 'faroese;;býttlingur;;noun', 'latvian;;duraks;;noun', 'russian;;идио́тка;;noun', 'russian;;деби́л;;noun', 'galician;;babeco;;noun', 'latin;;stultus;;noun', 'ukrainian;;ду́рник;;noun', 'yiddish;;נאַר;;noun', 'hungarian;;hülye;;noun', 'irish;;amadán;;noun', 'belarusian;;ду́рань;;noun', 'slovak;;hlupák;;noun', 'old norse;;api;;noun'}\n"
     ]
    }
   ],
   "source": [
    "concept_map = dict()\n",
    "concept_list = set()\n",
    "def add_concept_to_translation(translation: str, concept: str) -> None:\n",
    "    concept_list.add(concept)\n",
    "    if not concept in concept_map:\n",
    "        concept_map[concept] = set()\n",
    "    concept_map[concept].add(translation)\n",
    "\n",
    "df_filtered.apply(lambda row: add_concept_to_translation(row[\"language_and_translation\"], row[\"word_and_gloss\"]), axis=1)\n",
    "\n",
    "maximum = 0\n",
    "for key, value in concept_map.items():\n",
    "    if len(value) > maximum:\n",
    "        maximum = len(value)\n",
    "        print(f\"{maximum:2d} | {key:32s} | {value}\")"
   ]
  },
  {
   "cell_type": "markdown",
   "metadata": {},
   "source": [
    "### We have 5315 concepts."
   ]
  },
  {
   "cell_type": "code",
   "execution_count": 8,
   "metadata": {},
   "outputs": [
    {
     "data": {
      "text/plain": [
       "5315"
      ]
     },
     "execution_count": 8,
     "metadata": {},
     "output_type": "execute_result"
    }
   ],
   "source": [
    "len(concept_list)"
   ]
  },
  {
   "cell_type": "markdown",
   "metadata": {},
   "source": [
    "### Show first entry of the Concept Map."
   ]
  },
  {
   "cell_type": "code",
   "execution_count": 9,
   "metadata": {},
   "outputs": [
    {
     "data": {
      "text/plain": [
       "{'free;;(social) unconstrained.;;not imprisoned or enslaved.': {'arabic;;حُرّ;;adj',\n",
       "  'armenian;;ազատ;;adj',\n",
       "  'assamese;;মুকলি;;adj',\n",
       "  'asturian;;llibre;;adj',\n",
       "  'azerbaijani;;azad;;adj',\n",
       "  'bambara;;hɔrɔn;;adj',\n",
       "  'bashkir;;ирекле;;adj',\n",
       "  'catalan;;lliure;;adj',\n",
       "  'chinese mandarin;;自由的;;adj',\n",
       "  'czech;;svobodný;;adj',\n",
       "  'czech;;volný;;adj',\n",
       "  'danish;;fri;;adj',\n",
       "  'dutch;;vrij;;adj',\n",
       "  'esperanto;;libera;;adj',\n",
       "  'estonian;;vaba;;adj',\n",
       "  'finnish;;vapaa;;adj',\n",
       "  'french;;libre;;adj',\n",
       "  'galician;;libre;;adj',\n",
       "  'german;;frei;;adj',\n",
       "  'greek;;ελεύθερος;;adj',\n",
       "  'hebrew;;חָפְשִׁי;;adj',\n",
       "  'hebrew;;חופשי;;adj',\n",
       "  'hungarian;;szabad;;adj',\n",
       "  'icelandic;;frjáls;;adj',\n",
       "  'ido;;libera;;adj',\n",
       "  'indonesian;;bebas;;adj',\n",
       "  'interlingua;;libere;;adj',\n",
       "  'irish;;saor;;adj',\n",
       "  'italian;;libero;;adj',\n",
       "  'japanese;;自由;;adj',\n",
       "  'korean;;자유;;adj',\n",
       "  'latvian;;brīvs;;adj',\n",
       "  'limburgish;;vrie;;adj',\n",
       "  'low german;;free;;adj',\n",
       "  'macedonian;;слободен;;adj',\n",
       "  'malay;;bebas;;adj',\n",
       "  'malayalam;;സ്വതന്ത്രം;;adj',\n",
       "  'norman;;libre;;adj',\n",
       "  'northern kurdish;;azad;;adj',\n",
       "  'northern kurdish;;serbest;;adj',\n",
       "  'norwegian;;fri;;adj',\n",
       "  'occitan;;liure;;adj',\n",
       "  'old english;;frēo;;adj',\n",
       "  'old irish;;sóer;;adj',\n",
       "  'persian;;آزاد;;adj',\n",
       "  'polish;;swobodny;;adj',\n",
       "  'polish;;wolny;;adj',\n",
       "  'portuguese;;livre;;adj',\n",
       "  'romanian;;liber;;adj',\n",
       "  'russian;;свобо́дный;;adj',\n",
       "  'scottish gaelic;;saor;;adj',\n",
       "  'serbo-croatian;;slobodan;;adj',\n",
       "  'slovak;;slobodný;;adj',\n",
       "  'spanish;;libre;;adj',\n",
       "  'swedish;;fri;;adj',\n",
       "  'turkish;;özgür;;adj',\n",
       "  'yiddish;;פֿרײַ;;adj',\n",
       "  'zazaki;;azad (diq);;adj',\n",
       "  'zazaki;;xoser;;adj'}}"
      ]
     },
     "execution_count": 9,
     "metadata": {},
     "output_type": "execute_result"
    }
   ],
   "source": [
    "first_concept = dict(list(concept_map.items())[:1])\n",
    "first_concept"
   ]
  },
  {
   "cell_type": "code",
   "execution_count": 10,
   "metadata": {},
   "outputs": [],
   "source": [
    "G = nx.Graph()\n",
    "\n",
    "# Takes about 30 seconds on my machine\n",
    "edge_map = dict() \n",
    "maximum = 0\n",
    "for i, concept1 in enumerate(concept_list):\n",
    "    for concept2 in concept_list:\n",
    "        if concept1 == concept2:\n",
    "            continue\n",
    "        \n",
    "        pair = tuple(sorted([concept1, concept2]))\n",
    "        if intersection := concept_map[concept1].intersection(concept_map[concept2]):\n",
    "            edge_map[pair] = Edge(len(intersection), intersection)\n",
    "            if len(intersection) > maximum:\n",
    "                maximum = len(intersection)\n",
    "\n",
    "\n",
    "# Add edges to the graph with weights\n",
    "for pair, edge in edge_map.items():\n",
    "    G.add_edge(pair[0], pair[1], weight=edge.weight)\n",
    "\n",
    "edges = G.edges(data=True)\n",
    "weights = [edge.weight for edge in edge_map.values()]\n"
   ]
  },
  {
   "cell_type": "code",
   "execution_count": 11,
   "metadata": {},
   "outputs": [
    {
     "name": "stdout",
     "output_type": "stream",
     "text": [
      "Strongest connections:\n",
      "(weight: 137) football;;(uk, africa, caribbean, south asia, uncountable) association football, also called soccer: a game in which two teams each contend to get a round ball into the other team's goal primarily by kicking the ball. -- soccer;;(originated, late 19th c, now often us, australia, ireland, philippines, and other countries; see usage notes) association football.\n",
      "(weight: 129) illness;;(countable) an instance of a disease or poor health. -- disease;;(medicine) an abnormal condition of a human, animal or plant that causes discomfort or dysfunction; distinct from injury insofar as the latter is usually instantaneously acquired.\n",
      "(weight: 122) speak;;(intransitive) to communicate with one's voice, to say words out loud. -- talk;;(intransitive) to communicate, usually by means of speech.\n",
      "(weight: 116) soil;;(uncountable) a mixture of mineral particles and organic material, used to support plant growth. -- earth;;(uncountable) soil.\n",
      "(weight: 115) hug;;(transitive or reciprocal) to embrace by holding closely, especially in the arms. -- embrace;;(transitive) to clasp (someone or each other) in the arms with affection; to take in the arms; to hug.\n",
      "\n",
      "Weakest connections:\n",
      "(weight: 1) cardinal numeral;;(grammar) a word used to represent a cardinal number. -- prime number;;(obsolete, number theory) any natural number (including 1) that is divisible only by itself and 1.\n",
      "(weight: 1) feedback;;(electronics, cybernetics, control theory) the part of an output signal that is looped back into the input to control or modify a system. -- reaction;;(chemistry) a transformation in which one or more substances is converted into another by combination or decomposition.\n",
      "(weight: 1) dune;;(geomorphology) a ridge or hill of sand piled up by currents of wind or water. -- duvet;;(british, new zealand, canada) a quilt or usually flat cloth bag with a filling (traditionally down) and usually an additional washable cover, used instead of blankets; often called a comforter or quilt, especially in us english.\n",
      "(weight: 1) duvet;;(british, new zealand, canada) a quilt or usually flat cloth bag with a filling (traditionally down) and usually an additional washable cover, used instead of blankets; often called a comforter or quilt, especially in us english. -- felt-tip pen;;(uk) a pen that holds quick-drying ink conveyed to a writing surface by means of a felt nib.\n",
      "(weight: 1) otolaryngology;;(medicine) the study of diseases of the ear, nose and throat. -- otorhinolaryngologist;;(medicine) a doctor specializing in otorhinolaryngology, the study of the ear, nose, and throat.\n"
     ]
    }
   ],
   "source": [
    "# Meaningful comment\n",
    "\n",
    "sorted_edges = sorted(edges, key = lambda edge: edge[2]['weight'], reverse=True)\n",
    "print(\"Strongest connections:\")\n",
    "for parent1, parent2, edge_data in sorted_edges[:5]:\n",
    "    print(f\"(weight: {edge_data['weight']}) {parent1} -- {parent2}\")\n",
    "\n",
    "print(\"\\nWeakest connections:\")\n",
    "for parent1, parent2, edge_data in sorted_edges[-5:]:\n",
    "    print(f\"(weight: {edge_data['weight']}) {parent1} -- {parent2}\")"
   ]
  },
  {
   "cell_type": "code",
   "execution_count": 12,
   "metadata": {},
   "outputs": [],
   "source": [
    "def create_graph(focus_concept: str) -> None:\n",
    "    \"\"\"\n",
    "    Creates an interactive network and saves it as a HTML file.\n",
    "    \n",
    "    Args:\n",
    "        focus_concept (str): The concept for which the network should be created.\n",
    "        For Example: \"free;;(social) unconstrained.;;not imprisoned or enslaved.\"\n",
    "    \"\"\"\n",
    "    ## Validate input TODO\n",
    "    try:\n",
    "        # Get all neighbors of the focus concept\n",
    "        neighbors = list(G.neighbors(focus_concept))\n",
    "    except NetworkXError:\n",
    "        print(f\"Invalid focus_concept={focus_concept}. Dataset does not contain this concept.\")\n",
    "        return\n",
    "\n",
    "    # Create a pyvis network\n",
    "    net = Network(notebook=False, height=\"750px\", width=\"100%\", bgcolor=\"#222222\", font_color=\"white\")\n",
    "\n",
    "    # Create a subgraph containing the focus concept and its neighbors\n",
    "    local_subgraph = G.subgraph([focus_concept] + neighbors)\n",
    "\n",
    "    # Map edges to the languages that connect them\n",
    "    edge_to_languages = defaultdict(tuple)\n",
    "\n",
    "    subgraph_maximum = 0\n",
    "    for pair in local_subgraph.edges():\n",
    "        pair = tuple(sorted(list(pair)))\n",
    "        edge = edge_map[pair]\n",
    "        edge_to_languages[pair] = edge.value\n",
    "\n",
    "        if edge.weight > subgraph_maximum:\n",
    "            subgraph_maximum = edge.weight\n",
    "\n",
    "\n",
    "    # Add nodes to the pyvis network\n",
    "    for node in local_subgraph.nodes:\n",
    "        net.add_node(node, title=node, label=node.split(settings.SEPERATOR)[0])\n",
    "\n",
    "    # Add edges with language information\n",
    "    for pair, languages in edge_to_languages.items():\n",
    "        edge: Edge = edge_map[pair]\n",
    "        value = edge.weight\n",
    "        width = edge.normalized(subgraph_maximum)\n",
    "        net.add_edge(*pair, value=value, languages=', '.join(languages), width=width)\n",
    "\n",
    "    # Save graph to a temporary file\n",
    "    temp_file = \"temp_network.html\"\n",
    "    net.save_graph(temp_file)\n",
    "\n",
    "    # Add dynamic legend to the HTML file\n",
    "    add_dynamic_legend(temp_file, edge_to_languages, focus_concept)\n",
    "\n",
    "    print(f\"Saved Network '{focus_concept}' under 'networks/network_{focus_concept}.html'.\")"
   ]
  },
  {
   "cell_type": "markdown",
   "metadata": {},
   "source": [
    "## Two Example Subgraphs"
   ]
  },
  {
   "cell_type": "code",
   "execution_count": 13,
   "metadata": {},
   "outputs": [
    {
     "name": "stdout",
     "output_type": "stream",
     "text": [
      "Saved Network 'pyramid;;(geometry) a solid with triangular lateral faces and a polygonal (often square or rectangular) base.' under 'networks/network_pyramid;;(geometry) a solid with triangular lateral faces and a polygonal (often square or rectangular) base..html'.\n",
      "Saved Network 'free;;(social) unconstrained.;;not imprisoned or enslaved.' under 'networks/network_free;;(social) unconstrained.;;not imprisoned or enslaved..html'.\n"
     ]
    }
   ],
   "source": [
    "create_graph(\"pyramid;;(geometry) a solid with triangular lateral faces and a polygonal (often square or rectangular) base.\")\n",
    "create_graph(\"free;;(social) unconstrained.;;not imprisoned or enslaved.\")"
   ]
  },
  {
   "cell_type": "code",
   "execution_count": null,
   "metadata": {},
   "outputs": [],
   "source": []
  }
 ],
 "metadata": {
  "kernelspec": {
   "display_name": "Python 3",
   "language": "python",
   "name": "python3"
  },
  "language_info": {
   "codemirror_mode": {
    "name": "ipython",
    "version": 3
   },
   "file_extension": ".py",
   "mimetype": "text/x-python",
   "name": "python",
   "nbconvert_exporter": "python",
   "pygments_lexer": "ipython3",
   "version": "3.11.9"
  }
 },
 "nbformat": 4,
 "nbformat_minor": 2
}
