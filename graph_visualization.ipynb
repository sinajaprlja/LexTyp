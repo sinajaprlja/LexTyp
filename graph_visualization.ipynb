{
 "cells": [
  {
   "cell_type": "markdown",
   "metadata": {},
   "source": [
    "### Create connected component graphs for visualization purposes"
   ]
  },
  {
   "cell_type": "code",
   "execution_count": null,
   "metadata": {},
   "outputs": [],
   "source": [
    "from collections import defaultdict\n",
    "import pickle\n",
    "\n",
    "import networkx as nx\n",
    "from pyvis.network import Network\n",
    "\n",
    "import graph_utils as gu\n",
    "import settings"
   ]
  },
  {
   "cell_type": "markdown",
   "metadata": {},
   "source": [
    "Load data from python binaries. Processed by the preprocessing notebook."
   ]
  },
  {
   "cell_type": "code",
   "execution_count": 19,
   "metadata": {},
   "outputs": [],
   "source": [
    "G = pickle.load(open('resources/create_graph/full_graph.pickle', 'rb'))\n",
    "edge_map = pickle.load(open('resources/create_graph/edge_map.pickle', 'rb'))"
   ]
  },
  {
   "cell_type": "code",
   "execution_count": 20,
   "metadata": {},
   "outputs": [],
   "source": [
    "# Graph Depth 2 (Only for visualization)\n",
    "d2_graph = nx.Graph()\n",
    "for node in G.nodes():\n",
    "    subgraph = nx.ego_graph(G, node, radius=2)\n",
    "    d2_graph.add_edges_from(subgraph.edges(data=True))\n",
    "d2_graph = nx.Graph(d2_graph)\n",
    "\n",
    "\n",
    "# Seperate graph into connected components\n",
    "components = list(nx.connected_components(d2_graph))\n"
   ]
  },
  {
   "cell_type": "code",
   "execution_count": 21,
   "metadata": {},
   "outputs": [],
   "source": [
    "def create_html(component: set, index: int) -> None:\n",
    "    \"\"\"\n",
    "    Creates a html visualization of a given component, given index is used for \n",
    "    naming the resulting file.\n",
    "\n",
    "    :param component: Set of Nodes for the component subgraph.\n",
    "    :param index: Index for naming output file\n",
    "    \"\"\"\n",
    "    component_graph = d2_graph.subgraph(component)\n",
    "\n",
    "    net = Network(notebook=False, height=\"100vh\", bgcolor=\"#222222\", font_color=\"white\")\n",
    "\n",
    "    for node in component_graph.nodes:\n",
    "        net.add_node(node, title=node, label=node.split(settings.SEPERATOR)[0])\n",
    "\n",
    "    # Calculcate the local maximum of edge weights\n",
    "    try:\n",
    "        component_maximum = max(\n",
    "            edge_map[pair].weight for pair in component_graph.edges\n",
    "            if pair in edge_map\n",
    "        )\n",
    "    except ValueError:\n",
    "        # If no edges exist, set default component maximum on 1\n",
    "        component_maximum = 1\n",
    "        #print(f\"Component {index + 1} has no edges in edge_map. Use default value for component_maximum.\")\n",
    "\n",
    "    # Add edges with weights and Information\n",
    "    edge_to_languages = defaultdict(tuple)\n",
    "    for u, v, _ in component_graph.edges(data=True):\n",
    "        pair = tuple(sorted([u, v]))\n",
    "        if pair in edge_map:\n",
    "            edge = edge_map[pair]\n",
    "            value = edge.weight\n",
    "            languages = edge.value\n",
    "            width = edge.normalized(component_maximum)\n",
    "            net.add_edge(u, v, value=value, languages=', '.join(languages), width=width)\n",
    "            edge_to_languages[pair] = edge.value\n",
    "\n",
    "    # Save graph in a html file\n",
    "    output_file = f\"resources/graph_visualization/component_graphs/component_{index + 1}_graph.html\"\n",
    "    net.save_graph(output_file)\n",
    "\n",
    "    # Add dynamic language legend\n",
    "    gu.add_dynamic_legend_to_component_graph(output_file)"
   ]
  },
  {
   "cell_type": "markdown",
   "metadata": {},
   "source": [
    "Create a HTML graph visualization for every component from the depth-2 subgraph.\n",
    "As well as a short summary of pahts and random walks."
   ]
  },
  {
   "cell_type": "code",
   "execution_count": 24,
   "metadata": {},
   "outputs": [],
   "source": [
    "components = list(nx.connected_components(d2_graph))\n",
    "\n",
    "for index, component in enumerate(components):\n",
    "    create_html(component=component, index=index)\n",
    "    \n",
    "    component_graph = d2_graph.subgraph(component)\n",
    "\n",
    "    # Get the longest path\n",
    "    longest_path = gu.find_longest_path_approx(component_graph)\n",
    "\n",
    "    # Random walk\n",
    "    start_node = list(component_graph.nodes)[0]\n",
    "    walk_length = longest_path\n",
    "    random_walk = gu.random_walk_in_component(component_graph, start_node, walk_length)\n",
    "\n",
    "    summary = {\n",
    "        \"component_id\": index + 1,\n",
    "        \"num_nodes\": component_graph.number_of_nodes(),\n",
    "        \"num_edges\": component_graph.number_of_edges(),\n",
    "        \"longest_path\": walk_length,\n",
    "    }\n",
    "\n",
    "    gu.save_results_to_file(summary, f\"resources/graph_visualization/component_graphs/component_{index + 1}_summary.json\")\n",
    "\n",
    "    #print(f\"Component {index + 1} processed and saved.\")\n",
    "\n"
   ]
  }
 ],
 "metadata": {
  "kernelspec": {
   "display_name": "Python 3",
   "language": "python",
   "name": "python3"
  },
  "language_info": {
   "codemirror_mode": {
    "name": "ipython",
    "version": 3
   },
   "file_extension": ".py",
   "mimetype": "text/x-python",
   "name": "python",
   "nbconvert_exporter": "python",
   "pygments_lexer": "ipython3",
   "version": "3.11.9"
  }
 },
 "nbformat": 4,
 "nbformat_minor": 2
}
