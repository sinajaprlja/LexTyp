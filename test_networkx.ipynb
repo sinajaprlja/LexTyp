{
 "cells": [
  {
   "cell_type": "code",
   "execution_count": 102,
   "metadata": {},
   "outputs": [
    {
     "data": {
      "text/html": [
       "<div>\n",
       "<style scoped>\n",
       "    .dataframe tbody tr th:only-of-type {\n",
       "        vertical-align: middle;\n",
       "    }\n",
       "\n",
       "    .dataframe tbody tr th {\n",
       "        vertical-align: top;\n",
       "    }\n",
       "\n",
       "    .dataframe thead th {\n",
       "        text-align: right;\n",
       "    }\n",
       "</style>\n",
       "<table border=\"1\" class=\"dataframe\">\n",
       "  <thead>\n",
       "    <tr style=\"text-align: right;\">\n",
       "      <th></th>\n",
       "      <th>word_and_gloss</th>\n",
       "      <th>language_and_translation</th>\n",
       "    </tr>\n",
       "  </thead>\n",
       "  <tbody>\n",
       "    <tr>\n",
       "      <th>0</th>\n",
       "      <td>free;;(social) Unconstrained.;;Not imprisoned or enslaved.</td>\n",
       "      <td>Afrikaans;;vrye;;adj</td>\n",
       "    </tr>\n",
       "    <tr>\n",
       "      <th>1</th>\n",
       "      <td>free;;(social) Unconstrained.;;Not imprisoned or enslaved.</td>\n",
       "      <td>Albanian;;lirë (i/e);;adj</td>\n",
       "    </tr>\n",
       "    <tr>\n",
       "      <th>2</th>\n",
       "      <td>free;;(social) Unconstrained.;;Not imprisoned or enslaved.</td>\n",
       "      <td>Amharic;;ነፃ;;adj</td>\n",
       "    </tr>\n",
       "    <tr>\n",
       "      <th>3</th>\n",
       "      <td>free;;(social) Unconstrained.;;Not imprisoned or enslaved.</td>\n",
       "      <td>Arabic;;حُرّ;;adj</td>\n",
       "    </tr>\n",
       "    <tr>\n",
       "      <th>4</th>\n",
       "      <td>free;;(social) Unconstrained.;;Not imprisoned or enslaved.</td>\n",
       "      <td>Arabic;;حر;;adj</td>\n",
       "    </tr>\n",
       "    <tr>\n",
       "      <th>...</th>\n",
       "      <td>...</td>\n",
       "      <td>...</td>\n",
       "    </tr>\n",
       "    <tr>\n",
       "      <th>1188819</th>\n",
       "      <td>fawn response;;(psychology) An overadaptation in response to a traumatic event entailing needs and wants being succumbed to those of the threat actor.</td>\n",
       "      <td>Finnish;;miellyttämisreaktio;;noun</td>\n",
       "    </tr>\n",
       "    <tr>\n",
       "      <th>1188820</th>\n",
       "      <td>fawn response;;(psychology) An overadaptation in response to a traumatic event entailing needs and wants being succumbed to those of the threat actor.</td>\n",
       "      <td>German;;Bambi-Reflex;;noun</td>\n",
       "    </tr>\n",
       "    <tr>\n",
       "      <th>1188821</th>\n",
       "      <td>fawn response;;(psychology) An overadaptation in response to a traumatic event entailing needs and wants being succumbed to those of the threat actor.</td>\n",
       "      <td>German;;Unterwerfungsreaktion;;noun</td>\n",
       "    </tr>\n",
       "    <tr>\n",
       "      <th>1188822</th>\n",
       "      <td>one heart, one soul;;(Philippines, Catholicism) A saying that is said in every prayer, before the sign of the cross.</td>\n",
       "      <td>Latin;;cor ūnum et anima ūna;;phrase</td>\n",
       "    </tr>\n",
       "    <tr>\n",
       "      <th>1188823</th>\n",
       "      <td>one heart, one soul;;(Philippines, Catholicism) A saying that is said in every prayer, before the sign of the cross.</td>\n",
       "      <td>Tagalog;;isang puso, isang diwa;;phrase</td>\n",
       "    </tr>\n",
       "  </tbody>\n",
       "</table>\n",
       "<p>1188824 rows × 2 columns</p>\n",
       "</div>"
      ],
      "text/plain": [
       "                                                                                                                                                 word_and_gloss  \\\n",
       "0                                                                                                    free;;(social) Unconstrained.;;Not imprisoned or enslaved.   \n",
       "1                                                                                                    free;;(social) Unconstrained.;;Not imprisoned or enslaved.   \n",
       "2                                                                                                    free;;(social) Unconstrained.;;Not imprisoned or enslaved.   \n",
       "3                                                                                                    free;;(social) Unconstrained.;;Not imprisoned or enslaved.   \n",
       "4                                                                                                    free;;(social) Unconstrained.;;Not imprisoned or enslaved.   \n",
       "...                                                                                                                                                         ...   \n",
       "1188819  fawn response;;(psychology) An overadaptation in response to a traumatic event entailing needs and wants being succumbed to those of the threat actor.   \n",
       "1188820  fawn response;;(psychology) An overadaptation in response to a traumatic event entailing needs and wants being succumbed to those of the threat actor.   \n",
       "1188821  fawn response;;(psychology) An overadaptation in response to a traumatic event entailing needs and wants being succumbed to those of the threat actor.   \n",
       "1188822                                    one heart, one soul;;(Philippines, Catholicism) A saying that is said in every prayer, before the sign of the cross.   \n",
       "1188823                                    one heart, one soul;;(Philippines, Catholicism) A saying that is said in every prayer, before the sign of the cross.   \n",
       "\n",
       "                        language_and_translation  \n",
       "0                           Afrikaans;;vrye;;adj  \n",
       "1                      Albanian;;lirë (i/e);;adj  \n",
       "2                               Amharic;;ነፃ;;adj  \n",
       "3                              Arabic;;حُرّ;;adj  \n",
       "4                                Arabic;;حر;;adj  \n",
       "...                                          ...  \n",
       "1188819       Finnish;;miellyttämisreaktio;;noun  \n",
       "1188820               German;;Bambi-Reflex;;noun  \n",
       "1188821      German;;Unterwerfungsreaktion;;noun  \n",
       "1188822     Latin;;cor ūnum et anima ūna;;phrase  \n",
       "1188823  Tagalog;;isang puso, isang diwa;;phrase  \n",
       "\n",
       "[1188824 rows x 2 columns]"
      ]
     },
     "execution_count": 102,
     "metadata": {},
     "output_type": "execute_result"
    }
   ],
   "source": [
    "import networkx as nx\n",
    "import pandas as pd\n",
    "from collections import defaultdict\n",
    "import settings\n",
    "\n",
    "df = pd.read_parquet(\"cleaned_dataframe.parquet\", engine=\"pyarrow\")\n",
    "df"
   ]
  },
  {
   "cell_type": "code",
   "execution_count": 103,
   "metadata": {},
   "outputs": [
    {
     "data": {
      "text/html": [
       "<div>\n",
       "<style scoped>\n",
       "    .dataframe tbody tr th:only-of-type {\n",
       "        vertical-align: middle;\n",
       "    }\n",
       "\n",
       "    .dataframe tbody tr th {\n",
       "        vertical-align: top;\n",
       "    }\n",
       "\n",
       "    .dataframe thead th {\n",
       "        text-align: right;\n",
       "    }\n",
       "</style>\n",
       "<table border=\"1\" class=\"dataframe\">\n",
       "  <thead>\n",
       "    <tr style=\"text-align: right;\">\n",
       "      <th></th>\n",
       "      <th>word_and_gloss</th>\n",
       "      <th>language_and_translation</th>\n",
       "    </tr>\n",
       "  </thead>\n",
       "  <tbody>\n",
       "    <tr>\n",
       "      <th>0</th>\n",
       "      <td>free;;(social) Unconstrained.;;Not imprisoned or enslaved.</td>\n",
       "      <td>Afrikaans;;vrye;;adj</td>\n",
       "    </tr>\n",
       "    <tr>\n",
       "      <th>1</th>\n",
       "      <td>free;;(social) Unconstrained.;;Not imprisoned or enslaved.</td>\n",
       "      <td>Albanian;;lirë (i/e);;adj</td>\n",
       "    </tr>\n",
       "    <tr>\n",
       "      <th>2</th>\n",
       "      <td>free;;(social) Unconstrained.;;Not imprisoned or enslaved.</td>\n",
       "      <td>Amharic;;ነፃ;;adj</td>\n",
       "    </tr>\n",
       "    <tr>\n",
       "      <th>3</th>\n",
       "      <td>free;;(social) Unconstrained.;;Not imprisoned or enslaved.</td>\n",
       "      <td>Arabic;;حُرّ;;adj</td>\n",
       "    </tr>\n",
       "    <tr>\n",
       "      <th>4</th>\n",
       "      <td>free;;(social) Unconstrained.;;Not imprisoned or enslaved.</td>\n",
       "      <td>Arabic;;حر;;adj</td>\n",
       "    </tr>\n",
       "    <tr>\n",
       "      <th>...</th>\n",
       "      <td>...</td>\n",
       "      <td>...</td>\n",
       "    </tr>\n",
       "    <tr>\n",
       "      <th>550573</th>\n",
       "      <td>call the fire department;;(US) Call the emergency service that specializes in extinguishing fires.</td>\n",
       "      <td>Tagalog;;tawag ka ng bumbero;;phrase</td>\n",
       "    </tr>\n",
       "    <tr>\n",
       "      <th>550574</th>\n",
       "      <td>call the fire department;;(US) Call the emergency service that specializes in extinguishing fires.</td>\n",
       "      <td>Turkish;;itfaiyeyi çağırin;;phrase</td>\n",
       "    </tr>\n",
       "    <tr>\n",
       "      <th>550575</th>\n",
       "      <td>call the fire department;;(US) Call the emergency service that specializes in extinguishing fires.</td>\n",
       "      <td>Turkish;;itfaiyeyi çağır;;phrase</td>\n",
       "    </tr>\n",
       "    <tr>\n",
       "      <th>550576</th>\n",
       "      <td>call the fire department;;(US) Call the emergency service that specializes in extinguishing fires.</td>\n",
       "      <td>Ukrainian;;ви́кличте поже́жників;;phrase</td>\n",
       "    </tr>\n",
       "    <tr>\n",
       "      <th>550577</th>\n",
       "      <td>call the fire department;;(US) Call the emergency service that specializes in extinguishing fires.</td>\n",
       "      <td>Welsh;;galwch yr brigâd dân;;phrase</td>\n",
       "    </tr>\n",
       "  </tbody>\n",
       "</table>\n",
       "<p>550578 rows × 2 columns</p>\n",
       "</div>"
      ],
      "text/plain": [
       "                                                                                            word_and_gloss  \\\n",
       "0                                               free;;(social) Unconstrained.;;Not imprisoned or enslaved.   \n",
       "1                                               free;;(social) Unconstrained.;;Not imprisoned or enslaved.   \n",
       "2                                               free;;(social) Unconstrained.;;Not imprisoned or enslaved.   \n",
       "3                                               free;;(social) Unconstrained.;;Not imprisoned or enslaved.   \n",
       "4                                               free;;(social) Unconstrained.;;Not imprisoned or enslaved.   \n",
       "...                                                                                                    ...   \n",
       "550573  call the fire department;;(US) Call the emergency service that specializes in extinguishing fires.   \n",
       "550574  call the fire department;;(US) Call the emergency service that specializes in extinguishing fires.   \n",
       "550575  call the fire department;;(US) Call the emergency service that specializes in extinguishing fires.   \n",
       "550576  call the fire department;;(US) Call the emergency service that specializes in extinguishing fires.   \n",
       "550577  call the fire department;;(US) Call the emergency service that specializes in extinguishing fires.   \n",
       "\n",
       "                        language_and_translation  \n",
       "0                           Afrikaans;;vrye;;adj  \n",
       "1                      Albanian;;lirë (i/e);;adj  \n",
       "2                               Amharic;;ነፃ;;adj  \n",
       "3                              Arabic;;حُرّ;;adj  \n",
       "4                                Arabic;;حر;;adj  \n",
       "...                                          ...  \n",
       "550573      Tagalog;;tawag ka ng bumbero;;phrase  \n",
       "550574        Turkish;;itfaiyeyi çağırin;;phrase  \n",
       "550575          Turkish;;itfaiyeyi çağır;;phrase  \n",
       "550576  Ukrainian;;ви́кличте поже́жників;;phrase  \n",
       "550577       Welsh;;galwch yr brigâd dân;;phrase  \n",
       "\n",
       "[550578 rows x 2 columns]"
      ]
     },
     "execution_count": 103,
     "metadata": {},
     "output_type": "execute_result"
    }
   ],
   "source": [
    "# Zählen der Übersetzungen pro Sprache\n",
    "language_counts = df['word_and_gloss'].value_counts()\n",
    "\n",
    "# Filtern der Sprachen, die mindestens 40 Übersetzungen haben\n",
    "languages_to_keep = language_counts[language_counts >= settings.MIN_LANGUAGE_COUNT].index\n",
    "\n",
    "# Bereinigen des DataFrames: Behalten Sie nur die Zeilen, die zu den gefilterten Sprachen gehören\n",
    "df_filtered = df[df['word_and_gloss'].isin(languages_to_keep)]\n",
    "\n",
    "df_filtered.reset_index(drop = True, inplace=True)\n",
    "df_filtered"
   ]
  },
  {
   "cell_type": "code",
   "execution_count": 104,
   "metadata": {},
   "outputs": [
    {
     "data": {
      "text/plain": [
       "6837"
      ]
     },
     "execution_count": 104,
     "metadata": {},
     "output_type": "execute_result"
    }
   ],
   "source": [
    "len(df_filtered['word_and_gloss'].unique())"
   ]
  },
  {
   "cell_type": "code",
   "execution_count": 105,
   "metadata": {},
   "outputs": [],
   "source": [
    "#filtered_df = df[df['word_and_gloss'].str.startswith('head -')]\n",
    "#filtered_df.reset_index(drop=True, inplace=True)\n",
    "#filtered_df"
   ]
  },
  {
   "cell_type": "code",
   "execution_count": 106,
   "metadata": {},
   "outputs": [],
   "source": [
    "# Anzahl der eindeutigen Konzepte und Übersetzungen\n",
    "#num_concepts = filtered_df['word_and_gloss'].nunique()\n",
    "#num_translations = filtered_df['language_and_translation'].nunique()\n",
    "\n",
    "#print(f\"Anzahl der eindeutigen Konzepte: {num_concepts}\")\n",
    "#print(f\"Anzahl der eindeutigen Übersetzungen: {num_translations}\")"
   ]
  },
  {
   "cell_type": "code",
   "execution_count": 107,
   "metadata": {},
   "outputs": [],
   "source": [
    "from sklearn.feature_extraction.text import CountVectorizer\n",
    "\n",
    "# Erstellen einer Co-Occurrence-Matrix\n",
    "#co_occurrence_matrix = pd.crosstab(filtered_df['word_and_gloss'], filtered_df['language_and_translation'])\n",
    "#co_occurrence_matrix.head()"
   ]
  },
  {
   "cell_type": "code",
   "execution_count": 108,
   "metadata": {},
   "outputs": [],
   "source": [
    "from sklearn.metrics.pairwise import cosine_similarity\n",
    "#concepts = filtered_df['word_and_gloss'].unique()\n",
    "\n",
    "# Berechnen der Kosinus-Ähnlichkeit\n",
    "#similarity_matrix = cosine_similarity(co_occurrence_matrix)\n",
    "#similarity_df = pd.DataFrame(similarity_matrix, index=concepts, columns=concepts)\n",
    "#similarity_df.head()"
   ]
  },
  {
   "cell_type": "code",
   "execution_count": 109,
   "metadata": {},
   "outputs": [],
   "source": [
    "#distance_matrix = 1 - similarity_matrix\n",
    "#distance_df = pd.DataFrame(distance_matrix, index=concepts, columns=concepts)\n",
    "#distance_df.head()"
   ]
  },
  {
   "cell_type": "code",
   "execution_count": 110,
   "metadata": {},
   "outputs": [],
   "source": [
    "import seaborn as sns\n",
    "import matplotlib.pyplot as plt\n",
    "\n",
    "# Heatmap der Distanzmatrix\n",
    "#plt.figure(figsize=(8, 6))\n",
    "#sns.heatmap(distance_df, annot=True, cmap='viridis', fmt='.2f')\n",
    "#plt.title('Distanzmatrix zwischen Konzepten')\n",
    "#plt.show()"
   ]
  },
  {
   "cell_type": "markdown",
   "metadata": {},
   "source": [
    "## New Try"
   ]
  },
  {
   "cell_type": "code",
   "execution_count": 111,
   "metadata": {},
   "outputs": [
    {
     "data": {
      "text/html": [
       "<div>\n",
       "<style scoped>\n",
       "    .dataframe tbody tr th:only-of-type {\n",
       "        vertical-align: middle;\n",
       "    }\n",
       "\n",
       "    .dataframe tbody tr th {\n",
       "        vertical-align: top;\n",
       "    }\n",
       "\n",
       "    .dataframe thead th {\n",
       "        text-align: right;\n",
       "    }\n",
       "</style>\n",
       "<table border=\"1\" class=\"dataframe\">\n",
       "  <thead>\n",
       "    <tr style=\"text-align: right;\">\n",
       "      <th></th>\n",
       "      <th>word_and_gloss</th>\n",
       "      <th>language_and_translation</th>\n",
       "    </tr>\n",
       "  </thead>\n",
       "  <tbody>\n",
       "    <tr>\n",
       "      <th>0</th>\n",
       "      <td>free;;(social) Unconstrained.;;Not imprisoned or enslaved.</td>\n",
       "      <td>Arabic;;حُرّ;;adj</td>\n",
       "    </tr>\n",
       "    <tr>\n",
       "      <th>1</th>\n",
       "      <td>free;;(social) Unconstrained.;;Not imprisoned or enslaved.</td>\n",
       "      <td>Armenian;;ազատ;;adj</td>\n",
       "    </tr>\n",
       "    <tr>\n",
       "      <th>2</th>\n",
       "      <td>free;;(social) Unconstrained.;;Not imprisoned or enslaved.</td>\n",
       "      <td>Assamese;;মুকলি;;adj</td>\n",
       "    </tr>\n",
       "    <tr>\n",
       "      <th>3</th>\n",
       "      <td>free;;(social) Unconstrained.;;Not imprisoned or enslaved.</td>\n",
       "      <td>Asturian;;llibre;;adj</td>\n",
       "    </tr>\n",
       "    <tr>\n",
       "      <th>4</th>\n",
       "      <td>free;;(social) Unconstrained.;;Not imprisoned or enslaved.</td>\n",
       "      <td>Azerbaijani;;azad;;adj</td>\n",
       "    </tr>\n",
       "    <tr>\n",
       "      <th>...</th>\n",
       "      <td>...</td>\n",
       "      <td>...</td>\n",
       "    </tr>\n",
       "    <tr>\n",
       "      <th>119351</th>\n",
       "      <td>Shaitan;;(Islam) Iblis, Satan.</td>\n",
       "      <td>Turkish;;şeytan;;name</td>\n",
       "    </tr>\n",
       "    <tr>\n",
       "      <th>119352</th>\n",
       "      <td>Shaitan;;(Islam) Iblis, Satan.</td>\n",
       "      <td>Turkmen;;şeýtan;;name</td>\n",
       "    </tr>\n",
       "    <tr>\n",
       "      <th>119353</th>\n",
       "      <td>Shaitan;;(Islam) Iblis, Satan.</td>\n",
       "      <td>Urdu;;شَیطان;;name</td>\n",
       "    </tr>\n",
       "    <tr>\n",
       "      <th>119354</th>\n",
       "      <td>Shaitan;;(Islam) Iblis, Satan.</td>\n",
       "      <td>Uyghur;;شەيتان;;name</td>\n",
       "    </tr>\n",
       "    <tr>\n",
       "      <th>119355</th>\n",
       "      <td>Shaitan;;(Islam) Iblis, Satan.</td>\n",
       "      <td>Uzbek;;shayton;;name</td>\n",
       "    </tr>\n",
       "  </tbody>\n",
       "</table>\n",
       "<p>119356 rows × 2 columns</p>\n",
       "</div>"
      ],
      "text/plain": [
       "                                                    word_and_gloss  \\\n",
       "0       free;;(social) Unconstrained.;;Not imprisoned or enslaved.   \n",
       "1       free;;(social) Unconstrained.;;Not imprisoned or enslaved.   \n",
       "2       free;;(social) Unconstrained.;;Not imprisoned or enslaved.   \n",
       "3       free;;(social) Unconstrained.;;Not imprisoned or enslaved.   \n",
       "4       free;;(social) Unconstrained.;;Not imprisoned or enslaved.   \n",
       "...                                                            ...   \n",
       "119351                              Shaitan;;(Islam) Iblis, Satan.   \n",
       "119352                              Shaitan;;(Islam) Iblis, Satan.   \n",
       "119353                              Shaitan;;(Islam) Iblis, Satan.   \n",
       "119354                              Shaitan;;(Islam) Iblis, Satan.   \n",
       "119355                              Shaitan;;(Islam) Iblis, Satan.   \n",
       "\n",
       "       language_and_translation  \n",
       "0             Arabic;;حُرّ;;adj  \n",
       "1           Armenian;;ազատ;;adj  \n",
       "2          Assamese;;মুকলি;;adj  \n",
       "3         Asturian;;llibre;;adj  \n",
       "4        Azerbaijani;;azad;;adj  \n",
       "...                         ...  \n",
       "119351    Turkish;;şeytan;;name  \n",
       "119352    Turkmen;;şeýtan;;name  \n",
       "119353       Urdu;;شَیطان;;name  \n",
       "119354     Uyghur;;شەيتان;;name  \n",
       "119355     Uzbek;;shayton;;name  \n",
       "\n",
       "[119356 rows x 2 columns]"
      ]
     },
     "execution_count": 111,
     "metadata": {},
     "output_type": "execute_result"
    }
   ],
   "source": [
    "translation_counts = df_filtered[\"language_and_translation\"].value_counts()\n",
    "\n",
    "\n",
    "# Filtern der Uebersetzungen die mehr als einmal vorkommen\n",
    "translations_to_keep = translation_counts[translation_counts > 1].index\n",
    "\n",
    "df_filtered = df_filtered[df_filtered['language_and_translation'].isin(translations_to_keep)]\n",
    "\n",
    "df_filtered.reset_index(drop = True, inplace=True)\n",
    "pd.set_option(\"display.max_rows\", 20)\n",
    "pd.set_option('display.max_colwidth', None)\n",
    "df_filtered"
   ]
  },
  {
   "cell_type": "code",
   "execution_count": 112,
   "metadata": {},
   "outputs": [
    {
     "data": {
      "text/plain": [
       "array(['Arabic;;حُرّ;;adj', 'Armenian;;ազատ;;adj', 'Assamese;;মুকলি;;adj',\n",
       "       ..., 'Spanish;;aguar;;verb', 'Swedish;;vattna;;verb',\n",
       "       'Portuguese;;dígito;;noun'], dtype=object)"
      ]
     },
     "execution_count": 112,
     "metadata": {},
     "output_type": "execute_result"
    }
   ],
   "source": [
    "unique_lang_and_trans = df_filtered[\"language_and_translation\"].unique()\n",
    "df_filtered[\"language_and_translation\"].nunique()\n",
    "\n",
    "unique_lang_and_trans"
   ]
  },
  {
   "cell_type": "code",
   "execution_count": 113,
   "metadata": {},
   "outputs": [
    {
     "data": {
      "text/plain": [
       "51902"
      ]
     },
     "execution_count": 113,
     "metadata": {},
     "output_type": "execute_result"
    }
   ],
   "source": [
    "df_filtered[\"language_and_translation\"].nunique()"
   ]
  },
  {
   "cell_type": "code",
   "execution_count": 121,
   "metadata": {},
   "outputs": [
    {
     "name": "stdout",
     "output_type": "stream",
     "text": [
      " 3 | Arabic;;حُرّ;;adj                | ['free;;(social) Unconstrained.;;Not imprisoned or enslaved.', 'free;;(social) Unconstrained.;;(software) With no or only freedom-preserving limitations on distribution or modification.', 'libre;;(software) With very few limitations on distribution or the right to access the source code to create improved versions, but not necessarily free of charge.']\n",
      " 5 | Catalan;;lliure;;adj             | ['free;;(social) Unconstrained.;;Not imprisoned or enslaved.', 'free;;(social) Unconstrained.;;Without obligations.', 'free;;(social) Unconstrained.;;(software) With no or only freedom-preserving limitations on distribution or modification.', 'free;;(physical) Unconstrained.;;Unobstructed, without blockages.', 'libre;;(software) With very few limitations on distribution or the right to access the source code to create improved versions, but not necessarily free of charge.']\n",
      " 6 | French;;libre;;adj               | ['free;;(social) Unconstrained.;;Not imprisoned or enslaved.', 'free;;(social) Unconstrained.;;Without obligations.', 'free;;(social) Unconstrained.;;(software) With no or only freedom-preserving limitations on distribution or modification.', 'free;;(physical) Unconstrained.;;Unobstructed, without blockages.', 'free;;(physical) Unconstrained.;;Not currently in use; not taken; unoccupied.', 'libre;;(software) With very few limitations on distribution or the right to access the source code to create improved versions, but not necessarily free of charge.']\n",
      " 7 | Italian;;battere;;verb           | ['pound;;(transitive) To strike hard, usually repeatedly.', 'beat;;(transitive) To hit; to strike.', 'beat;;(transitive) To win against; to defeat or overcome; to do or be better than (someone); to excel in a particular, competitive event.', 'defeat;;(transitive) To overcome in battle or contest.', 'prostitute;;(transitive, reflexive) To offer (oneself or someone else) for sexual activity in exchange for money.', \"knock;;(intransitive) To rap one's knuckles against something, especially wood.\", 'throb;;(intransitive) To pound or beat rapidly or violently.']\n",
      " 8 | Finnish;;johtaa;;verb            | ['head;;(transitive) To be in command of. (See also head up.)', 'lead;;(heading, transitive) To guide or conduct.;;To guide or conduct in a certain course, or to a certain place or end, by making the way known; to show the way, especially by going with or going in advance of, to lead a pupil; to guide somebody somewhere or to bring somebody somewhere by means of instructions.', 'infer;;(transitive) To introduce (something) as a reasoned conclusion; to conclude by reasoning or deduction, as from premises or evidence.', 'deduce;;(transitive) To reach (a conclusion) by applying rules of logic or other forms of reasoning to given premises or known facts.', 'manage;;(transitive) To direct or be in charge of.', 'rule;;(transitive, stative) To regulate, be in charge of, make decisions for, reign over.', 'conduct;;(archaic, transitive) To lead, or guide; to escort.', 'administer;;(transitive) To manage or supervise the conduct, performance or execution of; to govern or regulate the parameters for the conduct, performance or execution of; to work in an administrative capacity.']\n",
      " 9 | Ottoman Turkish;;براقمق;;verb    | [\"abandon;;(transitive) To give up or relinquish control of, to surrender or to give oneself over, or to yield to one's emotions.\", 'abandon;;(transitive) To leave behind; to desert, as in a ship, a position, or a person, typically in response to overwhelming odds or impending dangers; to forsake, in spite of a duty or responsibility.', 'forsake;;(transitive) To abandon, to give up, to leave (permanently), to renounce (someone or something).', \"leave;;To depart; to separate from.;;(transitive) To depart from; to end one's connection or affiliation with.\", 'quit;;(transitive) To leave (a place).', 'quit;;(transitive, intransitive) To stop, give up (an activity). [(usually) with gerund; or with verbal noun]', 'depart;;(intransitive) To leave.', 'give up;;(transitive) To stop or quit (an activity, etc.)', \"let go;;(intransitive, with of and transitive, with object before go) To release from one's grasp; to go from a state of holding on to a state of no longer holding on.\"]\n",
      "10 | Russian;;броса́ть;;verb          | [\"abandon;;(transitive) To give up or relinquish control of, to surrender or to give oneself over, or to yield to one's emotions.\", 'abandon;;(transitive) To leave behind; to desert, as in a ship, a position, or a person, typically in response to overwhelming odds or impending dangers; to forsake, in spite of a duty or responsibility.', 'cast;;(physical) To move, or be moved, away.;;(now somewhat literary) To throw.', 'fling;;(transitive) To throw with violence or quick movement; to hurl.', \"leave;;To depart; to separate from.;;(transitive) To depart from; to end one's connection or affiliation with.\", 'quit;;(transitive, intransitive) To stop, give up (an activity). [(usually) with gerund; or with verbal noun]', \"drop;;(transitive, ergative, also figuratively) To let (something) fall; to allow (something) to fall (either by releasing hold of, or losing one's grip on).\", 'hurl;;(transitive) To throw (something) with force.', 'jilt;;(transitive) To cast off capriciously or unfeelingly, as a lover; to deceive in love.', 'give up;;(transitive) To stop or quit (an activity, etc.)']\n",
      "11 | Spanish;;subir;;verb             | ['increase;;(transitive) To make (a quantity, etc.) larger.', 'board;;(transitive) To step or climb onto or otherwise enter a ship, aircraft, train or other conveyance.', 'rise;;(intransitive) To move, or appear to move, physically upwards relative to the ground.;;To move upwards.', 'lift;;(transitive, intransitive) To raise or rise.', 'climb;;(intransitive) To ascend; rise; to go up.', 'climb;;(transitive) To mount; to move upwards on.', 'mount;;(transitive) To place oneself on (a horse, a bicycle, etc.); to bestride.', 'ascend;;(intransitive) To move upward, to fly, to soar.', 'ascend;;(transitive) To go up.', 'upload;;(transitive, intransitive, computing) To transfer data to a computer on a network, especially to a server on the Internet.', 'go up;;(intransitive) To move upwards.']\n",
      "15 | Finnish;;nousta;;verb            | ['board;;(transitive) To step or climb onto or otherwise enter a ship, aircraft, train or other conveyance.', 'stand;;To position or be positioned physically:;;(intransitive) To rise to one’s feet; to stand up.', \"arise;;(intransitive) To come up from one's bed or place of repose; to get up.\", 'rise;;(intransitive) To move, or appear to move, physically upwards relative to the ground.;;To move upwards.', \"rise;;(intransitive) To move, or appear to move, physically upwards relative to the ground.;;(of a celestial body) To appear to move upwards from behind the horizon of a planet as a result of the planet's rotation.\", 'rise;;(intransitive) To increase in value or standing.;;Of a quantity, price, etc., to increase.', 'lift;;(transitive, intransitive) To raise or rise.', 'take off;;(intransitive, of an aircraft or spacecraft) To leave the ground and begin flight; to ascend into the air.', 'embark;;(transitive) To cover or enclose with bark.', 'climb;;(intransitive) To ascend; rise; to go up.', 'climb;;(transitive) To mount; to move upwards on.', 'ascend;;(intransitive) To move upward, to fly, to soar.', 'ascend;;(transitive) To go up.', 'escalate;;(transitive, intransitive) To increase (something) in extent or intensity; to intensify or step up.', 'go up;;(intransitive) To move upwards.']\n",
      "17 | Latin;;teneo;;verb               | ['bind;;(transitive) To put together in a cover, as of books.', 'have;;(transitive) To possess, own.', 'hold;;(transitive) To grasp or grip.', 'keep;;(transitive) To hold the status of something.;;To maintain possession of.', 'stay;;(intransitive, copulative) To continue to have a particular quality.', 'gain;;(transitive) To acquire possession of.', 'contain;;(transitive) To hold inside.', 'watch;;(transitive) To mind, attend, or guard.', 'check;;(transitive) To control, limit, or halt.', 'guard;;(transitive) To protect from danger; to secure against surprise, attack, or injury; to keep in safety; to defend.', \"acquire;;(transitive) To gain, usually by one's own exertions; to get as one's own.\", 'obtain;;(intransitive, obsolete) To secure (that) a specific objective or state of affairs be reached.', 'insist;;(with (that + indicative) or intransitive, with on or upon) To hold up a claim emphatically.', 'bear in mind;;(transitive, idiomatic) To hold (something) in the memory; to remember; also, to be mindful of or pay attention to (something); to consider; to note.', 'restrain;;(transitive) To control or keep in check.', 'attain;;(transitive) To gain (an object or desired result).', 'detain;;(transitive, law enforcement) To put under custody.']\n"
     ]
    }
   ],
   "source": [
    "context_map = {}\n",
    "def add_context_to_translation(translation, context):\n",
    "    if not translation in context_map:\n",
    "        context_map[translation] = []\n",
    "    context_map[translation].append(context)\n",
    "\n",
    "df_filtered.apply(lambda row: add_context_to_translation(row[\"language_and_translation\"], row[\"word_and_gloss\"]), axis=1)\n",
    "\n",
    "maximum = 0\n",
    "for key, value in context_map.items():\n",
    "    if len(value) > maximum:\n",
    "        maximum = len(value)\n",
    "        print(f\"{maximum:2d} | {key:32s} | {value}\")"
   ]
  },
  {
   "cell_type": "code",
   "execution_count": 124,
   "metadata": {},
   "outputs": [
    {
     "data": {
      "text/plain": [
       "51902"
      ]
     },
     "execution_count": 124,
     "metadata": {},
     "output_type": "execute_result"
    }
   ],
   "source": [
    "len(context_map.keys())"
   ]
  },
  {
   "cell_type": "code",
   "execution_count": null,
   "metadata": {},
   "outputs": [],
   "source": []
  }
 ],
 "metadata": {
  "kernelspec": {
   "display_name": "Python 3",
   "language": "python",
   "name": "python3"
  },
  "language_info": {
   "codemirror_mode": {
    "name": "ipython",
    "version": 3
   },
   "file_extension": ".py",
   "mimetype": "text/x-python",
   "name": "python",
   "nbconvert_exporter": "python",
   "pygments_lexer": "ipython3",
   "version": "3.11.9"
  }
 },
 "nbformat": 4,
 "nbformat_minor": 2
}
